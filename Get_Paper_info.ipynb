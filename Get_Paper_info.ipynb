{
 "cells": [
  {
   "attachments": {},
   "cell_type": "markdown",
   "metadata": {},
   "source": [
    "# Get Paper Info\n",
    "These notebook will get the paper info for each speakers in the conference. The attributes are: Number of papers (by year), first paper year, number of citation (by year), country"
   ]
  },
  {
   "cell_type": "code",
   "execution_count": 3,
   "metadata": {},
   "outputs": [],
   "source": [
    "%run setup.py"
   ]
  },
  {
   "attachments": {},
   "cell_type": "markdown",
   "metadata": {},
   "source": [
    "### Load the data"
   ]
  },
  {
   "cell_type": "code",
   "execution_count": 36,
   "metadata": {},
   "outputs": [
    {
     "name": "stdout",
     "output_type": "stream",
     "text": [
      "Number of rows: 2044\n",
      "Number of unique speakers: 1797\n"
     ]
    },
    {
     "data": {
      "text/html": [
       "<div>\n",
       "<style scoped>\n",
       "    .dataframe tbody tr th:only-of-type {\n",
       "        vertical-align: middle;\n",
       "    }\n",
       "\n",
       "    .dataframe tbody tr th {\n",
       "        vertical-align: top;\n",
       "    }\n",
       "\n",
       "    .dataframe thead th {\n",
       "        text-align: right;\n",
       "    }\n",
       "</style>\n",
       "<table border=\"1\" class=\"dataframe\">\n",
       "  <thead>\n",
       "    <tr style=\"text-align: right;\">\n",
       "      <th></th>\n",
       "      <th>Full name</th>\n",
       "      <th>Year</th>\n",
       "      <th>Sex</th>\n",
       "      <th>Conference (short)</th>\n",
       "      <th>dblp name</th>\n",
       "    </tr>\n",
       "  </thead>\n",
       "  <tbody>\n",
       "    <tr>\n",
       "      <th>0</th>\n",
       "      <td>Atsushi Asada</td>\n",
       "      <td>1995</td>\n",
       "      <td>0</td>\n",
       "      <td>ASPDAC</td>\n",
       "      <td>Atsushi%20Asada</td>\n",
       "    </tr>\n",
       "    <tr>\n",
       "      <th>1</th>\n",
       "      <td>Jim Meadlock</td>\n",
       "      <td>1995</td>\n",
       "      <td>0</td>\n",
       "      <td>ASPDAC</td>\n",
       "      <td>Jim%20Meadlock</td>\n",
       "    </tr>\n",
       "    <tr>\n",
       "      <th>2</th>\n",
       "      <td>John Darringer</td>\n",
       "      <td>1995</td>\n",
       "      <td>0</td>\n",
       "      <td>ASPDAC</td>\n",
       "      <td>John%20Darringer</td>\n",
       "    </tr>\n",
       "    <tr>\n",
       "      <th>3</th>\n",
       "      <td>Tatsuo Izawa</td>\n",
       "      <td>1997</td>\n",
       "      <td>0</td>\n",
       "      <td>ASPDAC</td>\n",
       "      <td>Tatsuo%20Izawa</td>\n",
       "    </tr>\n",
       "    <tr>\n",
       "      <th>4</th>\n",
       "      <td>Daniel D. Gajski</td>\n",
       "      <td>1997</td>\n",
       "      <td>0</td>\n",
       "      <td>ASPDAC</td>\n",
       "      <td>Daniel%20D.%20Gajski</td>\n",
       "    </tr>\n",
       "  </tbody>\n",
       "</table>\n",
       "</div>"
      ],
      "text/plain": [
       "          Full name  Year Sex Conference (short)             dblp name\n",
       "0     Atsushi Asada  1995   0             ASPDAC       Atsushi%20Asada\n",
       "1      Jim Meadlock  1995   0             ASPDAC        Jim%20Meadlock\n",
       "2    John Darringer  1995   0             ASPDAC      John%20Darringer\n",
       "3      Tatsuo Izawa  1997   0             ASPDAC        Tatsuo%20Izawa\n",
       "4  Daniel D. Gajski  1997   0             ASPDAC  Daniel%20D.%20Gajski"
      ]
     },
     "execution_count": 36,
     "metadata": {},
     "output_type": "execute_result"
    }
   ],
   "source": [
    "# Append all files in Data folder as a datafrom, and add a column for the file name without the extension and folder name\n",
    "def append_data(folder):\n",
    "    all_files = glob.glob(folder + \"/*.csv\")\n",
    "    df = pd.DataFrame()\n",
    "    for file in all_files:\n",
    "        df_temp = pd.read_csv(file, index_col=None)\n",
    "        df_temp['File name'] = os.path.splitext(os.path.basename(file))[0]\n",
    "        df = df.append(df_temp, ignore_index=True)\n",
    "    df['Conference (short)'] = df['File name'].str.split('_').str[0]\n",
    "    df = df.drop([\"Field\",\"File name\"], axis=1)\n",
    "    try:\n",
    "        df = df.drop([\"Key Note Speaker\"], axis=1)\n",
    "    except:\n",
    "        pass\n",
    "    return df\n",
    "\n",
    "df = append_data('Key Note Speakers')\n",
    "print(\"Number of rows:\", len(df))\n",
    "print(\"Number of unique speakers:\", df['Full name'].nunique())\n",
    "\n",
    "df['dblp name'] = df['Full name'].str.replace(' ', '%20')\n",
    "df.head()\n",
    "\n",
    "# df = df.iloc[1243:].copy()"
   ]
  },
  {
   "attachments": {},
   "cell_type": "markdown",
   "metadata": {},
   "source": [
    "## dblp.org"
   ]
  },
  {
   "cell_type": "code",
   "execution_count": 27,
   "metadata": {},
   "outputs": [
    {
     "name": "stderr",
     "output_type": "stream",
     "text": [
      "100%|██████████| 801/801 [33:05<00:00,  2.48s/it]  \n"
     ]
    }
   ],
   "source": [
    "df1 = pd.DataFrame(columns = ['Full name','Year','Year Count'])\n",
    "\n",
    "for Author in tqdm(df['dblp name']):\n",
    "    # print(Author)\n",
    "    author_list = []\n",
    "    paper_list = []\n",
    "    \n",
    "    ##### Check if author is on dblp #####\n",
    "    dblp_URL = \"https://dblp.org/search?q=\" + Author\n",
    "    page = requests.get(dblp_URL)\n",
    "    soup = BeautifulSoup(page.content, \"html.parser\")\n",
    "    control_check = soup.find(id=\"completesearch-authors\").find_all(\"ul\",class_ = \"result-list\")\n",
    "    if len(control_check) > 0:\n",
    "        first_author = soup.find(id=\"completesearch-authors\").find_all(\"ul\",class_ = \"result-list\")[0].find_all(\"a\",href=True)[0]['href']\n",
    "        # print(Author,\" is on the webpage and the process continues...\")\n",
    "        \n",
    "        ##### Get info from author #####\n",
    "        author_page = requests.get(first_author)\n",
    "        soup_of_speaker = BeautifulSoup(author_page.content, \"html.parser\")\n",
    "\n",
    "        Year_list = []\n",
    "\n",
    "        sections = soup_of_speaker.find(id=\"publ-section\").find_all(\"div\", class_=\"hide-body\")\n",
    "        for s in range(0,len(sections)): # Nu går vi ind på hver enkelt sektion\n",
    "            rows_in_sections = sections[s].find_all('ul', class_=\"publ-list\")[0].findAll(True, {\"class\":['year','entry inproceedings toc','entry article toc','entry incollection toc', 'entry book toc','entry editor toc','entry reference toc']})\n",
    "            last_row_idx = 0\n",
    "            \n",
    "            for row in range(0,len(rows_in_sections)): # Nu går vi ind på hver enkelt række\n",
    "                #### Append year multipliers\n",
    "                if rows_in_sections[row].p == None:\n",
    "                    Year_list.append(rows_in_sections[row].text)\n",
    "                    paper_list.append(row-last_row_idx-1)\n",
    "                    last_row_idx = row \n",
    "                if row == len(rows_in_sections)-1: # den sidste linje i hver sektion\n",
    "                    paper_list.append(len(rows_in_sections)-last_row_idx-1)\n",
    "            \n",
    "            # remove all -1 values from the list\n",
    "            paper_list = [x for x in paper_list if x >= 0]\n",
    "                \n",
    "        # create a dataframe\n",
    "        df2 = pd.DataFrame(columns = ['Full name','Year','Year Count'])\n",
    "        # append full name to the dataframe\n",
    "        \n",
    "        df2['Year'] = Year_list\n",
    "        df2['Year Count'] = paper_list\n",
    "        df2['Full name'] = Author\n",
    "        df1 = df1.append(df2, ignore_index=True)\n",
    "        "
   ]
  },
  {
   "cell_type": "code",
   "execution_count": 35,
   "metadata": {},
   "outputs": [],
   "source": [
    "df1.to_csv(\"paper_count_per_year.csv\", index=False)"
   ]
  },
  {
   "attachments": {},
   "cell_type": "markdown",
   "metadata": {},
   "source": [
    "## Now we do stuff"
   ]
  },
  {
   "cell_type": "code",
   "execution_count": 37,
   "metadata": {},
   "outputs": [],
   "source": [
    "df1 = df4.copy()"
   ]
  },
  {
   "cell_type": "code",
   "execution_count": 42,
   "metadata": {},
   "outputs": [
    {
     "data": {
      "text/plain": [
       "92.37618252643294"
      ]
     },
     "execution_count": 42,
     "metadata": {},
     "output_type": "execute_result"
    }
   ],
   "source": [
    "(df1['Full name'].nunique()/df['Full name'].nunique())*100"
   ]
  },
  {
   "cell_type": "code",
   "execution_count": 45,
   "metadata": {},
   "outputs": [
    {
     "data": {
      "text/html": [
       "<div>\n",
       "<style scoped>\n",
       "    .dataframe tbody tr th:only-of-type {\n",
       "        vertical-align: middle;\n",
       "    }\n",
       "\n",
       "    .dataframe tbody tr th {\n",
       "        vertical-align: top;\n",
       "    }\n",
       "\n",
       "    .dataframe thead th {\n",
       "        text-align: right;\n",
       "    }\n",
       "</style>\n",
       "<table border=\"1\" class=\"dataframe\">\n",
       "  <thead>\n",
       "    <tr style=\"text-align: right;\">\n",
       "      <th></th>\n",
       "      <th>Full name</th>\n",
       "      <th>Year</th>\n",
       "      <th>Sex</th>\n",
       "      <th>Conference (short)</th>\n",
       "      <th>dblp name</th>\n",
       "    </tr>\n",
       "  </thead>\n",
       "  <tbody>\n",
       "    <tr>\n",
       "      <th>1</th>\n",
       "      <td>Jim Meadlock</td>\n",
       "      <td>1995</td>\n",
       "      <td>0</td>\n",
       "      <td>ASPDAC</td>\n",
       "      <td>Jim%20Meadlock</td>\n",
       "    </tr>\n",
       "    <tr>\n",
       "      <th>15</th>\n",
       "      <td>Dipendcr Saluia</td>\n",
       "      <td>1999</td>\n",
       "      <td>x</td>\n",
       "      <td>ASPDAC</td>\n",
       "      <td>Dipendcr%20Saluia</td>\n",
       "    </tr>\n",
       "    <tr>\n",
       "      <th>18</th>\n",
       "      <td>Bill Herrick</td>\n",
       "      <td>2000</td>\n",
       "      <td>0</td>\n",
       "      <td>ASPDAC</td>\n",
       "      <td>Bill%20Herrick</td>\n",
       "    </tr>\n",
       "    <tr>\n",
       "      <th>20</th>\n",
       "      <td>Ming-Jeh Chien</td>\n",
       "      <td>2001</td>\n",
       "      <td>0</td>\n",
       "      <td>ASPDAC</td>\n",
       "      <td>Ming-Jeh%20Chien</td>\n",
       "    </tr>\n",
       "    <tr>\n",
       "      <th>22</th>\n",
       "      <td>Glovanni De WIichcli</td>\n",
       "      <td>2003</td>\n",
       "      <td>0</td>\n",
       "      <td>ASPDAC</td>\n",
       "      <td>Glovanni%20De%20WIichcli</td>\n",
       "    </tr>\n",
       "    <tr>\n",
       "      <th>...</th>\n",
       "      <td>...</td>\n",
       "      <td>...</td>\n",
       "      <td>...</td>\n",
       "      <td>...</td>\n",
       "      <td>...</td>\n",
       "    </tr>\n",
       "    <tr>\n",
       "      <th>2031</th>\n",
       "      <td>Bob Scheifler</td>\n",
       "      <td>1996</td>\n",
       "      <td>x</td>\n",
       "      <td>WWW</td>\n",
       "      <td>Bob%20Scheifler</td>\n",
       "    </tr>\n",
       "    <tr>\n",
       "      <th>2035</th>\n",
       "      <td>Steven McGeady</td>\n",
       "      <td>1996</td>\n",
       "      <td>x</td>\n",
       "      <td>WWW</td>\n",
       "      <td>Steven%20McGeady</td>\n",
       "    </tr>\n",
       "    <tr>\n",
       "      <th>2038</th>\n",
       "      <td>Edward A. Bennett</td>\n",
       "      <td>1995</td>\n",
       "      <td>x</td>\n",
       "      <td>WWW</td>\n",
       "      <td>Edward%20A.%20Bennett</td>\n",
       "    </tr>\n",
       "    <tr>\n",
       "      <th>2041</th>\n",
       "      <td>Christopher Dobbs</td>\n",
       "      <td>1995</td>\n",
       "      <td>x</td>\n",
       "      <td>WWW</td>\n",
       "      <td>Christopher%20Dobbs</td>\n",
       "    </tr>\n",
       "    <tr>\n",
       "      <th>2043</th>\n",
       "      <td>Thomas Reardon</td>\n",
       "      <td>1995</td>\n",
       "      <td>x</td>\n",
       "      <td>WWW</td>\n",
       "      <td>Thomas%20Reardon</td>\n",
       "    </tr>\n",
       "  </tbody>\n",
       "</table>\n",
       "<p>137 rows × 5 columns</p>\n",
       "</div>"
      ],
      "text/plain": [
       "                 Full name  Year Sex Conference (short)  \\\n",
       "1             Jim Meadlock  1995   0             ASPDAC   \n",
       "15         Dipendcr Saluia  1999   x             ASPDAC   \n",
       "18            Bill Herrick  2000   0             ASPDAC   \n",
       "20          Ming-Jeh Chien  2001   0             ASPDAC   \n",
       "22    Glovanni De WIichcli  2003   0             ASPDAC   \n",
       "...                    ...   ...  ..                ...   \n",
       "2031         Bob Scheifler  1996   x                WWW   \n",
       "2035        Steven McGeady  1996   x                WWW   \n",
       "2038     Edward A. Bennett  1995   x                WWW   \n",
       "2041     Christopher Dobbs  1995   x                WWW   \n",
       "2043        Thomas Reardon  1995   x                WWW   \n",
       "\n",
       "                     dblp name  \n",
       "1               Jim%20Meadlock  \n",
       "15           Dipendcr%20Saluia  \n",
       "18              Bill%20Herrick  \n",
       "20            Ming-Jeh%20Chien  \n",
       "22    Glovanni%20De%20WIichcli  \n",
       "...                        ...  \n",
       "2031           Bob%20Scheifler  \n",
       "2035          Steven%20McGeady  \n",
       "2038     Edward%20A.%20Bennett  \n",
       "2041       Christopher%20Dobbs  \n",
       "2043          Thomas%20Reardon  \n",
       "\n",
       "[137 rows x 5 columns]"
      ]
     },
     "execution_count": 45,
     "metadata": {},
     "output_type": "execute_result"
    }
   ],
   "source": [
    "# Find the names in df which is not i df1\n",
    "df2 = df[~df['dblp name'].isin(df1['Full name'])]\n",
    "df2"
   ]
  }
 ],
 "metadata": {
  "kernelspec": {
   "display_name": "Python 3",
   "language": "python",
   "name": "python3"
  },
  "language_info": {
   "codemirror_mode": {
    "name": "ipython",
    "version": 3
   },
   "file_extension": ".py",
   "mimetype": "text/x-python",
   "name": "python",
   "nbconvert_exporter": "python",
   "pygments_lexer": "ipython3",
   "version": "3.11.1"
  },
  "orig_nbformat": 4,
  "vscode": {
   "interpreter": {
    "hash": "d92ff415db99feb7da45e8748a5c23d5d44d2038e70d5b05ab6a02856c817802"
   }
  }
 },
 "nbformat": 4,
 "nbformat_minor": 2
}
