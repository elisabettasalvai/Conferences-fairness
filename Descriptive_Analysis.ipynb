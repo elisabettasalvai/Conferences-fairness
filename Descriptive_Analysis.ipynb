{
 "cells": [
  {
   "cell_type": "code",
   "execution_count": 169,
   "metadata": {},
   "outputs": [],
   "source": [
    "# load setup.py file\n",
    "%run setup.py\n",
    "\n",
    "df_invited = pd.read_csv('factInvited.csv')\n",
    "df_proceedings = pd.read_csv('factProceedings.csv')\n",
    "df_proceedings_copy = pd.read_csv('factProceedings.csv')"
   ]
  },
  {
   "cell_type": "code",
   "execution_count": 170,
   "metadata": {},
   "outputs": [
    {
     "data": {
      "text/html": [
       "<div>\n",
       "<style scoped>\n",
       "    .dataframe tbody tr th:only-of-type {\n",
       "        vertical-align: middle;\n",
       "    }\n",
       "\n",
       "    .dataframe tbody tr th {\n",
       "        vertical-align: top;\n",
       "    }\n",
       "\n",
       "    .dataframe thead th {\n",
       "        text-align: right;\n",
       "    }\n",
       "</style>\n",
       "<table border=\"1\" class=\"dataframe\">\n",
       "  <thead>\n",
       "    <tr style=\"text-align: right;\">\n",
       "      <th></th>\n",
       "      <th>Full name</th>\n",
       "      <th>Year</th>\n",
       "      <th>Field</th>\n",
       "      <th>File name</th>\n",
       "      <th>First name</th>\n",
       "      <th>Last name</th>\n",
       "      <th>gender</th>\n",
       "      <th>Middel name</th>\n",
       "      <th>Family name</th>\n",
       "    </tr>\n",
       "  </thead>\n",
       "  <tbody>\n",
       "    <tr>\n",
       "      <th>0</th>\n",
       "      <td>Atsushi Takahara</td>\n",
       "      <td>1997</td>\n",
       "      <td>Computer Architecture</td>\n",
       "      <td>ASPDAC</td>\n",
       "      <td>atsushi</td>\n",
       "      <td>takahara</td>\n",
       "      <td>M</td>\n",
       "      <td>takahara</td>\n",
       "      <td></td>\n",
       "    </tr>\n",
       "    <tr>\n",
       "      <th>1</th>\n",
       "      <td>Yutaka Tamiya</td>\n",
       "      <td>1997</td>\n",
       "      <td>Computer Architecture</td>\n",
       "      <td>ASPDAC</td>\n",
       "      <td>yutaka</td>\n",
       "      <td>tamiya</td>\n",
       "      <td>M</td>\n",
       "      <td>tamiya</td>\n",
       "      <td></td>\n",
       "    </tr>\n",
       "    <tr>\n",
       "      <th>2</th>\n",
       "      <td>Atsushi Takahashi</td>\n",
       "      <td>1997</td>\n",
       "      <td>Computer Architecture</td>\n",
       "      <td>ASPDAC</td>\n",
       "      <td>atsushi</td>\n",
       "      <td>takahashi</td>\n",
       "      <td>M</td>\n",
       "      <td>takahashi</td>\n",
       "      <td></td>\n",
       "    </tr>\n",
       "    <tr>\n",
       "      <th>3</th>\n",
       "      <td>Yoji Kajitani</td>\n",
       "      <td>1997</td>\n",
       "      <td>Computer Architecture</td>\n",
       "      <td>ASPDAC</td>\n",
       "      <td>yoji</td>\n",
       "      <td>kajitani</td>\n",
       "      <td>M</td>\n",
       "      <td>kajitani</td>\n",
       "      <td></td>\n",
       "    </tr>\n",
       "    <tr>\n",
       "      <th>4</th>\n",
       "      <td>Dirk Behrens</td>\n",
       "      <td>1997</td>\n",
       "      <td>Computer Architecture</td>\n",
       "      <td>ASPDAC</td>\n",
       "      <td>dirk</td>\n",
       "      <td>behrens</td>\n",
       "      <td>M</td>\n",
       "      <td>behrens</td>\n",
       "      <td></td>\n",
       "    </tr>\n",
       "  </tbody>\n",
       "</table>\n",
       "</div>"
      ],
      "text/plain": [
       "           Full name  Year                  Field File name First name  \\\n",
       "0   Atsushi Takahara  1997  Computer Architecture    ASPDAC    atsushi   \n",
       "1      Yutaka Tamiya  1997  Computer Architecture    ASPDAC     yutaka   \n",
       "2  Atsushi Takahashi  1997  Computer Architecture    ASPDAC    atsushi   \n",
       "3      Yoji Kajitani  1997  Computer Architecture    ASPDAC       yoji   \n",
       "4       Dirk Behrens  1997  Computer Architecture    ASPDAC       dirk   \n",
       "\n",
       "   Last name gender Middel name Family name  \n",
       "0   takahara      M    takahara              \n",
       "1     tamiya      M      tamiya              \n",
       "2  takahashi      M   takahashi              \n",
       "3   kajitani      M    kajitani              \n",
       "4    behrens      M     behrens              "
      ]
     },
     "execution_count": 170,
     "metadata": {},
     "output_type": "execute_result"
    }
   ],
   "source": [
    "df_proceedings['Middel name'] = df_proceedings['Last name'].str.split(' ').str[0].str.lower()\n",
    "df_proceedings['Family name'] = df_proceedings['Last name'].str.split(' ').str[1:].str.join(' ').str.lower()\n",
    "df_proceedings.head()"
   ]
  },
  {
   "cell_type": "code",
   "execution_count": 171,
   "metadata": {},
   "outputs": [],
   "source": [
    "# keep only non-nan values in Middel name\n",
    "df_proceedings = df_proceedings[df_proceedings['Family name'] != \"\"]\n",
    "# drop columns\n",
    "df_proceedings = df_proceedings.drop(['Year', 'Field', 'File name','Last name','gender'], axis=1)"
   ]
  },
  {
   "cell_type": "code",
   "execution_count": 172,
   "metadata": {},
   "outputs": [],
   "source": [
    "df1 = df_proceedings[df_proceedings.duplicated(['First name', 'Family name'], keep=False)]\n",
    "# drop all rows with duplicate Full names and keep the first occurence\n",
    "df2 = df_proceedings.drop_duplicates(['Full name'], keep='first') "
   ]
  },
  {
   "cell_type": "code",
   "execution_count": 173,
   "metadata": {},
   "outputs": [],
   "source": [
    "df3 = df2[df2.duplicated(['First name', 'Family name'], keep=False)].sort_values(by=['First name']) # reset index"
   ]
  },
  {
   "cell_type": "code",
   "execution_count": 174,
   "metadata": {},
   "outputs": [],
   "source": [
    "# keep all rows from df_proceedings_copy that has index from df3\n",
    "df4 = df_proceedings_copy[df_proceedings_copy.index.isin(df3.index)]"
   ]
  },
  {
   "cell_type": "code",
   "execution_count": 175,
   "metadata": {},
   "outputs": [
    {
     "data": {
      "text/plain": [
       "(701, 7)"
      ]
     },
     "execution_count": 175,
     "metadata": {},
     "output_type": "execute_result"
    }
   ],
   "source": [
    "df4.shape"
   ]
  },
  {
   "cell_type": "code",
   "execution_count": 81,
   "metadata": {},
   "outputs": [
    {
     "data": {
      "text/html": [
       "<div>\n",
       "<style scoped>\n",
       "    .dataframe tbody tr th:only-of-type {\n",
       "        vertical-align: middle;\n",
       "    }\n",
       "\n",
       "    .dataframe tbody tr th {\n",
       "        vertical-align: top;\n",
       "    }\n",
       "\n",
       "    .dataframe thead th {\n",
       "        text-align: right;\n",
       "    }\n",
       "</style>\n",
       "<table border=\"1\" class=\"dataframe\">\n",
       "  <thead>\n",
       "    <tr style=\"text-align: right;\">\n",
       "      <th></th>\n",
       "      <th>Full Name</th>\n",
       "      <th>First name</th>\n",
       "      <th>Middel name</th>\n",
       "      <th>Last name</th>\n",
       "    </tr>\n",
       "  </thead>\n",
       "  <tbody>\n",
       "    <tr>\n",
       "      <th>0</th>\n",
       "      <td>Henrik A. Jensen</td>\n",
       "      <td>Henrik</td>\n",
       "      <td>A.</td>\n",
       "      <td>Jensen</td>\n",
       "    </tr>\n",
       "    <tr>\n",
       "      <th>1</th>\n",
       "      <td>Henrik A. Jensen</td>\n",
       "      <td>Henrik</td>\n",
       "      <td>A.</td>\n",
       "      <td>Jensen</td>\n",
       "    </tr>\n",
       "    <tr>\n",
       "      <th>2</th>\n",
       "      <td>Henrik Anders Jensen</td>\n",
       "      <td>Henrik</td>\n",
       "      <td>Anders</td>\n",
       "      <td>Jensen</td>\n",
       "    </tr>\n",
       "    <tr>\n",
       "      <th>3</th>\n",
       "      <td>Henrik Peter Jensen</td>\n",
       "      <td>Henrik</td>\n",
       "      <td>Peter</td>\n",
       "      <td>Jensen</td>\n",
       "    </tr>\n",
       "  </tbody>\n",
       "</table>\n",
       "</div>"
      ],
      "text/plain": [
       "              Full Name First name Middel name Last name\n",
       "0      Henrik A. Jensen     Henrik          A.    Jensen\n",
       "1      Henrik A. Jensen     Henrik          A.    Jensen\n",
       "2  Henrik Anders Jensen     Henrik      Anders    Jensen\n",
       "3   Henrik Peter Jensen     Henrik       Peter    Jensen"
      ]
     },
     "execution_count": 81,
     "metadata": {},
     "output_type": "execute_result"
    }
   ],
   "source": [
    "df = pd.read_csv('test.csv')\n",
    "\n",
    "# Check if duplicated of First name and Last name exist\n",
    "df1 = df[df.duplicated(['First name', 'Last name'], keep=False)]\n",
    "# if the Middel name \n",
    "\n",
    "df1.head() "
   ]
  },
  {
   "cell_type": "code",
   "execution_count": 61,
   "metadata": {},
   "outputs": [
    {
     "data": {
      "text/html": [
       "<div>\n",
       "<style scoped>\n",
       "    .dataframe tbody tr th:only-of-type {\n",
       "        vertical-align: middle;\n",
       "    }\n",
       "\n",
       "    .dataframe tbody tr th {\n",
       "        vertical-align: top;\n",
       "    }\n",
       "\n",
       "    .dataframe thead th {\n",
       "        text-align: right;\n",
       "    }\n",
       "</style>\n",
       "<table border=\"1\" class=\"dataframe\">\n",
       "  <thead>\n",
       "    <tr style=\"text-align: right;\">\n",
       "      <th></th>\n",
       "      <th>Full Name</th>\n",
       "      <th>First name</th>\n",
       "      <th>Middel name</th>\n",
       "      <th>Last name</th>\n",
       "    </tr>\n",
       "  </thead>\n",
       "  <tbody>\n",
       "    <tr>\n",
       "      <th>0</th>\n",
       "      <td>Henrik A. Jensen</td>\n",
       "      <td>Henrik</td>\n",
       "      <td>A.</td>\n",
       "      <td>Jensen</td>\n",
       "    </tr>\n",
       "    <tr>\n",
       "      <th>1</th>\n",
       "      <td>Henrik Anders Jensen</td>\n",
       "      <td>Henrik</td>\n",
       "      <td>Anders</td>\n",
       "      <td>Jensen</td>\n",
       "    </tr>\n",
       "    <tr>\n",
       "      <th>2</th>\n",
       "      <td>Henrik Peter Jensen</td>\n",
       "      <td>Henrik</td>\n",
       "      <td>Peter</td>\n",
       "      <td>Jensen</td>\n",
       "    </tr>\n",
       "    <tr>\n",
       "      <th>3</th>\n",
       "      <td>Henrik Anders Andersen</td>\n",
       "      <td>Henrik</td>\n",
       "      <td>Anders</td>\n",
       "      <td>Andersen</td>\n",
       "    </tr>\n",
       "  </tbody>\n",
       "</table>\n",
       "</div>"
      ],
      "text/plain": [
       "                Full Name First name Middel name Last name\n",
       "0        Henrik A. Jensen     Henrik          A.    Jensen\n",
       "1    Henrik Anders Jensen     Henrik      Anders    Jensen\n",
       "2     Henrik Peter Jensen     Henrik       Peter    Jensen\n",
       "3  Henrik Anders Andersen     Henrik      Anders  Andersen"
      ]
     },
     "execution_count": 61,
     "metadata": {},
     "output_type": "execute_result"
    }
   ],
   "source": [
    "df2.head()"
   ]
  }
 ],
 "metadata": {
  "kernelspec": {
   "display_name": "Python 3",
   "language": "python",
   "name": "python3"
  },
  "language_info": {
   "codemirror_mode": {
    "name": "ipython",
    "version": 3
   },
   "file_extension": ".py",
   "mimetype": "text/x-python",
   "name": "python",
   "nbconvert_exporter": "python",
   "pygments_lexer": "ipython3",
   "version": "3.11.1"
  },
  "orig_nbformat": 4,
  "vscode": {
   "interpreter": {
    "hash": "d92ff415db99feb7da45e8748a5c23d5d44d2038e70d5b05ab6a02856c817802"
   }
  }
 },
 "nbformat": 4,
 "nbformat_minor": 2
}
