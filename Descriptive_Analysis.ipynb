{
 "cells": [
  {
   "attachments": {},
   "cell_type": "markdown",
   "metadata": {},
   "source": [
    "# Descriptive Analysis of the data"
   ]
  },
  {
   "cell_type": "code",
   "execution_count": 1,
   "metadata": {},
   "outputs": [],
   "source": [
    "# load setup.py file\n",
    "%run setup.py\n",
    "pd.set_option('display.max_rows', 10)\n",
    "# pd.options.plotting.backend = \"plotly\"\n",
    "\n",
    "df_invited = pd.read_csv('factInvited.csv')\n",
    "df_proceedings = pd.read_csv('factProceedings.csv')\n",
    "df = df_invited.append(df_proceedings, ignore_index=True)"
   ]
  },
  {
   "cell_type": "code",
   "execution_count": 2,
   "metadata": {},
   "outputs": [],
   "source": [
    "pd.set_option('display.max_rows', None)"
   ]
  },
  {
   "cell_type": "code",
   "execution_count": 2,
   "metadata": {},
   "outputs": [
    {
     "data": {
      "text/html": [
       "<div>\n",
       "<style scoped>\n",
       "    .dataframe tbody tr th:only-of-type {\n",
       "        vertical-align: middle;\n",
       "    }\n",
       "\n",
       "    .dataframe tbody tr th {\n",
       "        vertical-align: top;\n",
       "    }\n",
       "\n",
       "    .dataframe thead th {\n",
       "        text-align: right;\n",
       "    }\n",
       "</style>\n",
       "<table border=\"1\" class=\"dataframe\">\n",
       "  <thead>\n",
       "    <tr style=\"text-align: right;\">\n",
       "      <th></th>\n",
       "      <th>Full name</th>\n",
       "      <th>Year</th>\n",
       "      <th>Conference (short)</th>\n",
       "      <th>First name</th>\n",
       "      <th>Middle name</th>\n",
       "      <th>Last name</th>\n",
       "      <th>gender</th>\n",
       "      <th>Paper Count</th>\n",
       "      <th>Max Paper Count</th>\n",
       "      <th>First year paper</th>\n",
       "      <th>Age</th>\n",
       "      <th>Conference (long)</th>\n",
       "      <th>Main Topic</th>\n",
       "      <th>Productivity</th>\n",
       "    </tr>\n",
       "  </thead>\n",
       "  <tbody>\n",
       "    <tr>\n",
       "      <th>0</th>\n",
       "      <td>Gary L. Baldwi</td>\n",
       "      <td>2004.0</td>\n",
       "      <td>ASPDAC</td>\n",
       "      <td>Gary</td>\n",
       "      <td>L.</td>\n",
       "      <td>Baldwi</td>\n",
       "      <td>M</td>\n",
       "      <td>4.0</td>\n",
       "      <td>4.0</td>\n",
       "      <td>1962.0</td>\n",
       "      <td>42.0</td>\n",
       "      <td>Asia and South Pacific Design Automation Confe...</td>\n",
       "      <td>Computer Architecture</td>\n",
       "      <td>0.095238</td>\n",
       "    </tr>\n",
       "    <tr>\n",
       "      <th>1</th>\n",
       "      <td>Rudy Lauwereins</td>\n",
       "      <td>2004.0</td>\n",
       "      <td>ASPDAC</td>\n",
       "      <td>Rudy</td>\n",
       "      <td>NaN</td>\n",
       "      <td>Lauwereins</td>\n",
       "      <td>M</td>\n",
       "      <td>112.0</td>\n",
       "      <td>196.0</td>\n",
       "      <td>1987.0</td>\n",
       "      <td>17.0</td>\n",
       "      <td>Asia and South Pacific Design Automation Confe...</td>\n",
       "      <td>Computer Architecture</td>\n",
       "      <td>6.588235</td>\n",
       "    </tr>\n",
       "    <tr>\n",
       "      <th>2</th>\n",
       "      <td>Rajeev Madhavan</td>\n",
       "      <td>2005.0</td>\n",
       "      <td>ASPDAC</td>\n",
       "      <td>Rajeev</td>\n",
       "      <td>NaN</td>\n",
       "      <td>Madhavan</td>\n",
       "      <td>M</td>\n",
       "      <td>5.0</td>\n",
       "      <td>5.0</td>\n",
       "      <td>1994.0</td>\n",
       "      <td>11.0</td>\n",
       "      <td>Asia and South Pacific Design Automation Confe...</td>\n",
       "      <td>Computer Architecture</td>\n",
       "      <td>0.454545</td>\n",
       "    </tr>\n",
       "    <tr>\n",
       "      <th>3</th>\n",
       "      <td>Jan M. Rabaey</td>\n",
       "      <td>2005.0</td>\n",
       "      <td>ASPDAC</td>\n",
       "      <td>Jan</td>\n",
       "      <td>M.</td>\n",
       "      <td>Rabaey</td>\n",
       "      <td>M</td>\n",
       "      <td>146.0</td>\n",
       "      <td>321.0</td>\n",
       "      <td>1985.0</td>\n",
       "      <td>20.0</td>\n",
       "      <td>Asia and South Pacific Design Automation Confe...</td>\n",
       "      <td>Computer Architecture</td>\n",
       "      <td>7.300000</td>\n",
       "    </tr>\n",
       "    <tr>\n",
       "      <th>4</th>\n",
       "      <td>Alberto Sangiovanni-Vincentelli</td>\n",
       "      <td>2006.0</td>\n",
       "      <td>ASPDAC</td>\n",
       "      <td>Alberto</td>\n",
       "      <td>NaN</td>\n",
       "      <td>Sangiovanni-Vincentelli</td>\n",
       "      <td>M</td>\n",
       "      <td>457.0</td>\n",
       "      <td>689.0</td>\n",
       "      <td>1973.0</td>\n",
       "      <td>33.0</td>\n",
       "      <td>Asia and South Pacific Design Automation Confe...</td>\n",
       "      <td>Computer Architecture</td>\n",
       "      <td>13.848485</td>\n",
       "    </tr>\n",
       "    <tr>\n",
       "      <th>5</th>\n",
       "      <td>Satoru Ito</td>\n",
       "      <td>2006.0</td>\n",
       "      <td>ASPDAC</td>\n",
       "      <td>Satoru</td>\n",
       "      <td>NaN</td>\n",
       "      <td>Ito</td>\n",
       "      <td>M</td>\n",
       "      <td>3.0</td>\n",
       "      <td>3.0</td>\n",
       "      <td>2000.0</td>\n",
       "      <td>6.0</td>\n",
       "      <td>Asia and South Pacific Design Automation Confe...</td>\n",
       "      <td>Computer Architecture</td>\n",
       "      <td>0.500000</td>\n",
       "    </tr>\n",
       "    <tr>\n",
       "      <th>6</th>\n",
       "      <td>Rob Rutenbar</td>\n",
       "      <td>2007.0</td>\n",
       "      <td>ASPDAC</td>\n",
       "      <td>Rob</td>\n",
       "      <td>NaN</td>\n",
       "      <td>Rutenbar</td>\n",
       "      <td>M</td>\n",
       "      <td>114.0</td>\n",
       "      <td>171.0</td>\n",
       "      <td>1981.0</td>\n",
       "      <td>26.0</td>\n",
       "      <td>Asia and South Pacific Design Automation Confe...</td>\n",
       "      <td>Computer Architecture</td>\n",
       "      <td>4.384615</td>\n",
       "    </tr>\n",
       "    <tr>\n",
       "      <th>7</th>\n",
       "      <td>Jan M. Rabaey</td>\n",
       "      <td>2008.0</td>\n",
       "      <td>ASPDAC</td>\n",
       "      <td>Jan</td>\n",
       "      <td>M.</td>\n",
       "      <td>Rabaey</td>\n",
       "      <td>M</td>\n",
       "      <td>185.0</td>\n",
       "      <td>321.0</td>\n",
       "      <td>1985.0</td>\n",
       "      <td>23.0</td>\n",
       "      <td>Asia and South Pacific Design Automation Confe...</td>\n",
       "      <td>Computer Architecture</td>\n",
       "      <td>8.043478</td>\n",
       "    </tr>\n",
       "    <tr>\n",
       "      <th>8</th>\n",
       "      <td>Mitsuo Saito</td>\n",
       "      <td>2009.0</td>\n",
       "      <td>ASPDAC</td>\n",
       "      <td>Mitsuo</td>\n",
       "      <td>NaN</td>\n",
       "      <td>Saito</td>\n",
       "      <td>M</td>\n",
       "      <td>7.0</td>\n",
       "      <td>7.0</td>\n",
       "      <td>1985.0</td>\n",
       "      <td>24.0</td>\n",
       "      <td>Asia and South Pacific Design Automation Confe...</td>\n",
       "      <td>Computer Architecture</td>\n",
       "      <td>0.291667</td>\n",
       "    </tr>\n",
       "    <tr>\n",
       "      <th>9</th>\n",
       "      <td>Wolfgang Rosenstiel</td>\n",
       "      <td>2009.0</td>\n",
       "      <td>ASPDAC</td>\n",
       "      <td>Wolfgang</td>\n",
       "      <td>NaN</td>\n",
       "      <td>Rosenstiel</td>\n",
       "      <td>M</td>\n",
       "      <td>261.0</td>\n",
       "      <td>471.0</td>\n",
       "      <td>1981.0</td>\n",
       "      <td>28.0</td>\n",
       "      <td>Asia and South Pacific Design Automation Confe...</td>\n",
       "      <td>Computer Architecture</td>\n",
       "      <td>9.321429</td>\n",
       "    </tr>\n",
       "  </tbody>\n",
       "</table>\n",
       "</div>"
      ],
      "text/plain": [
       "                         Full name    Year Conference (short) First name  \\\n",
       "0                   Gary L. Baldwi  2004.0             ASPDAC       Gary   \n",
       "1                  Rudy Lauwereins  2004.0             ASPDAC       Rudy   \n",
       "2                  Rajeev Madhavan  2005.0             ASPDAC     Rajeev   \n",
       "3                    Jan M. Rabaey  2005.0             ASPDAC        Jan   \n",
       "4  Alberto Sangiovanni-Vincentelli  2006.0             ASPDAC    Alberto   \n",
       "5                       Satoru Ito  2006.0             ASPDAC     Satoru   \n",
       "6                     Rob Rutenbar  2007.0             ASPDAC        Rob   \n",
       "7                    Jan M. Rabaey  2008.0             ASPDAC        Jan   \n",
       "8                     Mitsuo Saito  2009.0             ASPDAC     Mitsuo   \n",
       "9              Wolfgang Rosenstiel  2009.0             ASPDAC   Wolfgang   \n",
       "\n",
       "  Middle name                Last name gender  Paper Count  Max Paper Count  \\\n",
       "0          L.                   Baldwi      M          4.0              4.0   \n",
       "1         NaN               Lauwereins      M        112.0            196.0   \n",
       "2         NaN                 Madhavan      M          5.0              5.0   \n",
       "3          M.                   Rabaey      M        146.0            321.0   \n",
       "4         NaN  Sangiovanni-Vincentelli      M        457.0            689.0   \n",
       "5         NaN                      Ito      M          3.0              3.0   \n",
       "6         NaN                 Rutenbar      M        114.0            171.0   \n",
       "7          M.                   Rabaey      M        185.0            321.0   \n",
       "8         NaN                    Saito      M          7.0              7.0   \n",
       "9         NaN               Rosenstiel      M        261.0            471.0   \n",
       "\n",
       "   First year paper   Age                                  Conference (long)  \\\n",
       "0            1962.0  42.0  Asia and South Pacific Design Automation Confe...   \n",
       "1            1987.0  17.0  Asia and South Pacific Design Automation Confe...   \n",
       "2            1994.0  11.0  Asia and South Pacific Design Automation Confe...   \n",
       "3            1985.0  20.0  Asia and South Pacific Design Automation Confe...   \n",
       "4            1973.0  33.0  Asia and South Pacific Design Automation Confe...   \n",
       "5            2000.0   6.0  Asia and South Pacific Design Automation Confe...   \n",
       "6            1981.0  26.0  Asia and South Pacific Design Automation Confe...   \n",
       "7            1985.0  23.0  Asia and South Pacific Design Automation Confe...   \n",
       "8            1985.0  24.0  Asia and South Pacific Design Automation Confe...   \n",
       "9            1981.0  28.0  Asia and South Pacific Design Automation Confe...   \n",
       "\n",
       "              Main Topic  Productivity  \n",
       "0  Computer Architecture      0.095238  \n",
       "1  Computer Architecture      6.588235  \n",
       "2  Computer Architecture      0.454545  \n",
       "3  Computer Architecture      7.300000  \n",
       "4  Computer Architecture     13.848485  \n",
       "5  Computer Architecture      0.500000  \n",
       "6  Computer Architecture      4.384615  \n",
       "7  Computer Architecture      8.043478  \n",
       "8  Computer Architecture      0.291667  \n",
       "9  Computer Architecture      9.321429  "
      ]
     },
     "execution_count": 2,
     "metadata": {},
     "output_type": "execute_result"
    }
   ],
   "source": []
  },
  {
   "attachments": {},
   "cell_type": "markdown",
   "metadata": {},
   "source": [
    "## Invited Speakers"
   ]
  },
  {
   "cell_type": "code",
   "execution_count": 3,
   "metadata": {},
   "outputs": [
    {
     "name": "stdout",
     "output_type": "stream",
     "text": [
      "Number of rows in factInvited.csv:  1334\n",
      "Number of unique invited speakers:  1150\n",
      "Columns: ['Full name', 'Year', 'Conference (short)', 'First name', 'Middle name', 'Last name', 'gender', 'Paper Count', 'Max Paper Count', 'First year paper', 'Age', 'Conference (long)', 'Main Topic', 'Productivity']\n"
     ]
    }
   ],
   "source": [
    "print(\"Number of rows in factInvited.csv: \", df_invited.shape[0])\n",
    "print(\"Number of unique invited speakers: \", df_invited['Full name'].nunique())\n",
    "print(\"Columns:\",list(df_invited.columns))"
   ]
  },
  {
   "cell_type": "code",
   "execution_count": 8,
   "metadata": {},
   "outputs": [
    {
     "data": {
      "text/plain": [
       "Year\n",
       "2004.0    10\n",
       "2005.0    10\n",
       "2006.0     6\n",
       "2007.0     8\n",
       "2008.0     9\n",
       "2010.0     8\n",
       "2011.0     7\n",
       "2012.0    10\n",
       "2013.0    10\n",
       "2014.0     7\n",
       "2015.0    10\n",
       "2016.0    12\n",
       "2017.0     8\n",
       "2018.0     5\n",
       "2019.0     8\n",
       "2020.0    17\n",
       "2021.0     6\n",
       "2022.0    11\n",
       "dtype: int64"
      ]
     },
     "execution_count": 8,
     "metadata": {},
     "output_type": "execute_result"
    }
   ],
   "source": [
    "df_invited[df_invited['Conference (short)'] == \"AAAI\"].groupby('Year').size()"
   ]
  },
  {
   "cell_type": "code",
   "execution_count": 7,
   "metadata": {},
   "outputs": [
    {
     "data": {
      "text/plain": [
       "<AxesSubplot: title={'center': 'Number of Invited Speakers per Field of Study'}, xlabel='Number of Inivted Speakers'>"
      ]
     },
     "execution_count": 7,
     "metadata": {},
     "output_type": "execute_result"
    },
    {
     "data": {
      "image/png": "[encoded data removed]",
      "text/plain": [
       "<Figure size 1000x300 with 1 Axes>"
      ]
     },
     "metadata": {},
     "output_type": "display_data"
    }
   ],
   "source": [
    "df_invited['Conference (short)'].value_counts().sort_index().plot(kind='bar',\n",
    "                                                     title='Number of Invited Speakers per Field of Study',\n",
    "                                                     figsize=(10,3),\n",
    "                                                     xlabel='Number of Inivted Speakers')\n"
   ]
  },
  {
   "cell_type": "code",
   "execution_count": 26,
   "metadata": {},
   "outputs": [
    {
     "data": {
      "text/plain": [
       "<AxesSubplot: title={'center': 'Number of Invited Speakers per Field of Study'}, xlabel='Number of Inivted Speakers'>"
      ]
     },
     "execution_count": 26,
     "metadata": {},
     "output_type": "execute_result"
    },
    {
     "data": {
      "image/png": "[encoded data removed]",
      "text/plain": [
       "<Figure size 600x500 with 1 Axes>"
      ]
     },
     "metadata": {},
     "output_type": "display_data"
    }
   ],
   "source": [
    "df_invited['Main Topic'].value_counts().plot(kind='barh',\n",
    "                                                     title='Number of Invited Speakers per Field of Study',\n",
    "                                                     figsize=(6,5),\n",
    "                                                     xlabel='Number of Inivted Speakers')\n"
   ]
  },
  {
   "cell_type": "code",
   "execution_count": 8,
   "metadata": {},
   "outputs": [
    {
     "data": {
      "text/plain": [
       "AAAI      188\n",
       "ECCV      118\n",
       "WoLLIC    110\n",
       "CHI        95\n",
       "ic2s2      93\n",
       "         ... \n",
       "STOC       50\n",
       "SWAT       26\n",
       "WADS       26\n",
       "SC         19\n",
       "RTA        12\n",
       "Name: Conference (short), Length: 19, dtype: int64"
      ]
     },
     "execution_count": 8,
     "metadata": {},
     "output_type": "execute_result"
    }
   ],
   "source": [
    "plt.bar(df_invited['Conference (short)'].value_counts()"
   ]
  },
  {
   "cell_type": "code",
   "execution_count": 14,
   "metadata": {},
   "outputs": [
    {
     "data": {
      "text/plain": [
       "Full name\n",
       "Jiawei Han      155\n",
       "Qiang Yang      145\n",
       "Yang Liu        143\n",
       "Wei Wang        133\n",
       "Philip S. Yu    132\n",
       "Heng Huang      130\n",
       "Hui Xiong       117\n",
       "Jun Wang        115\n",
       "Wei Zhang       112\n",
       "Wei Liu         105\n",
       "Name: Full name, dtype: int64"
      ]
     },
     "execution_count": 14,
     "metadata": {},
     "output_type": "execute_result"
    }
   ],
   "source": [
    "df.groupby('Full name')['Full name'].count().sort_values(ascending=False).head(10)"
   ]
  },
  {
   "cell_type": "code",
   "execution_count": 4,
   "metadata": {},
   "outputs": [
    {
     "data": {
      "text/plain": [
       "gender\n",
       "F    279\n",
       "M    866\n",
       "dtype: int64"
      ]
     },
     "execution_count": 4,
     "metadata": {},
     "output_type": "execute_result"
    }
   ],
   "source": [
    "# Count the number of \"M\" and \"F\" in df_invited\n",
    "df_invited.groupby('gender').size()"
   ]
  },
  {
   "cell_type": "code",
   "execution_count": 6,
   "metadata": {},
   "outputs": [
    {
     "data": {
      "text/plain": [
       "1334"
      ]
     },
     "execution_count": 6,
     "metadata": {},
     "output_type": "execute_result"
    }
   ],
   "source": [
    "len(df_invited)"
   ]
  },
  {
   "cell_type": "code",
   "execution_count": 4,
   "metadata": {},
   "outputs": [
    {
     "data": {
      "application/vnd.plotly.v1+json": {
       "config": {
        "plotlyServerURL": "https://plot.ly"
       },
       "data": [
        {
         "hovertemplate": "gender=F<br>Year=%{x}<br>counts=%{y}<extra></extra>",
         "legendgroup": "F",
         "line": {
          "color": "#636efa",
          "dash": "solid"
         },
         "marker": {
          "symbol": "circle"
         },
         "mode": "lines",
         "name": "F",
         "orientation": "v",
         "showlegend": true,
         "type": "scatter",
         "x": [
          2023,
          2022,
          2021,
          2020,
          2019,
          2018,
          2017,
          2016,
          2015,
          2014,
          2013,
          2012,
          2011,
          2010,
          2009,
          2008,
          2007,
          2006,
          2005,
          2004,
          2003,
          2002,
          2001,
          2000,
          1999,
          1998,
          1997,
          1996,
          1995,
          1992,
          1989
         ],
         "xaxis": "x",
         "y": [
          3,
          33,
          33,
          26,
          25,
          47,
          36,
          28,
          15,
          9,
          10,
          13,
          6,
          8,
          3,
          7,
          6,
          5,
          10,
          3,
          9,
          4,
          4,
          1,
          5,
          3,
          9,
          4,
          1,
          1,
          1
         ],
         "yaxis": "y"
        },
        {
         "hovertemplate": "gender=M<br>Year=%{x}<br>counts=%{y}<extra></extra>",
         "legendgroup": "M",
         "line": {
          "color": "#EF553B",
          "dash": "solid"
         },
         "marker": {
          "symbol": "circle"
         },
         "mode": "lines",
         "name": "M",
         "orientation": "v",
         "showlegend": true,
         "type": "scatter",
         "x": [
          2023,
          2022,
          2021,
          2020,
          2019,
          2018,
          2017,
          2016,
          2015,
          2014,
          2013,
          2012,
          2011,
          2010,
          2009,
          2008,
          2007,
          2006,
          2005,
          2004,
          2003,
          2002,
          2001,
          2000,
          1999,
          1998,
          1997,
          1996,
          1995,
          1994,
          1993,
          1992,
          1991,
          1990,
          1989,
          1988,
          1987,
          1986,
          1980
         ],
         "xaxis": "x",
         "y": [
          7,
          76,
          55,
          59,
          59,
          121,
          81,
          64,
          48,
          47,
          43,
          52,
          44,
          46,
          48,
          40,
          46,
          39,
          48,
          45,
          40,
          41,
          44,
          29,
          35,
          33,
          48,
          22,
          32,
          20,
          10,
          3,
          4,
          7,
          3,
          2,
          3,
          3,
          1
         ],
         "yaxis": "y"
        }
       ],
       "layout": {
        "legend": {
         "title": {
          "text": "gender"
         },
         "tracegroupgap": 0
        },
        "template": {
         "data": {
          "bar": [
           {
            "error_x": {
             "color": "#2a3f5f"
            },
            "error_y": {
             "color": "#2a3f5f"
            },
            "marker": {
             "line": {
              "color": "#E5ECF6",
              "width": 0.5
             },
             "pattern": {
              "fillmode": "overlay",
              "size": 10,
              "solidity": 0.2
             }
            },
            "type": "bar"
           }
          ],
          "barpolar": [
           {
            "marker": {
             "line": {
              "color": "#E5ECF6",
              "width": 0.5
             },
             "pattern": {
              "fillmode": "overlay",
              "size": 10,
              "solidity": 0.2
             }
            },
            "type": "barpolar"
           }
          ],
          "carpet": [
           {
            "aaxis": {
             "endlinecolor": "#2a3f5f",
             "gridcolor": "white",
             "linecolor": "white",
             "minorgridcolor": "white",
             "startlinecolor": "#2a3f5f"
            },
            "baxis": {
             "endlinecolor": "#2a3f5f",
             "gridcolor": "white",
             "linecolor": "white",
             "minorgridcolor": "white",
             "startlinecolor": "#2a3f5f"
            },
            "type": "carpet"
           }
          ],
          "choropleth": [
           {
            "colorbar": {
             "outlinewidth": 0,
             "ticks": ""
            },
            "type": "choropleth"
           }
          ],
          "contour": [
           {
            "colorbar": {
             "outlinewidth": 0,
             "ticks": ""
            },
            "colorscale": [
             [
              0,
              "#0d0887"
             ],
             [
              0.1111111111111111,
              "#46039f"
             ],
             [
              0.2222222222222222,
              "#7201a8"
             ],
             [
              0.3333333333333333,
              "#9c179e"
             ],
             [
              0.4444444444444444,
              "#bd3786"
             ],
             [
              0.5555555555555556,
              "#d8576b"
             ],
             [
              0.6666666666666666,
              "#ed7953"
             ],
             [
              0.7777777777777778,
              "#fb9f3a"
             ],
             [
              0.8888888888888888,
              "#fdca26"
             ],
             [
              1,
              "#f0f921"
             ]
            ],
            "type": "contour"
           }
          ],
          "contourcarpet": [
           {
            "colorbar": {
             "outlinewidth": 0,
             "ticks": ""
            },
            "type": "contourcarpet"
           }
          ],
          "heatmap": [
           {
            "colorbar": {
             "outlinewidth": 0,
             "ticks": ""
            },
            "colorscale": [
             [
              0,
              "#0d0887"
             ],
             [
              0.1111111111111111,
              "#46039f"
             ],
             [
              0.2222222222222222,
              "#7201a8"
             ],
             [
              0.3333333333333333,
              "#9c179e"
             ],
             [
              0.4444444444444444,
              "#bd3786"
             ],
             [
              0.5555555555555556,
              "#d8576b"
             ],
             [
              0.6666666666666666,
              "#ed7953"
             ],
             [
              0.7777777777777778,
              "#fb9f3a"
             ],
             [
              0.8888888888888888,
              "#fdca26"
             ],
             [
              1,
              "#f0f921"
             ]
            ],
            "type": "heatmap"
           }
          ],
          "heatmapgl": [
           {
            "colorbar": {
             "outlinewidth": 0,
             "ticks": ""
            },
            "colorscale": [
             [
              0,
              "#0d0887"
             ],
             [
              0.1111111111111111,
              "#46039f"
             ],
             [
              0.2222222222222222,
              "#7201a8"
             ],
             [
              0.3333333333333333,
              "#9c179e"
             ],
             [
              0.4444444444444444,
              "#bd3786"
             ],
             [
              0.5555555555555556,
              "#d8576b"
             ],
             [
              0.6666666666666666,
              "#ed7953"
             ],
             [
              0.7777777777777778,
              "#fb9f3a"
             ],
             [
              0.8888888888888888,
              "#fdca26"
             ],
             [
              1,
              "#f0f921"
             ]
            ],
            "type": "heatmapgl"
           }
          ],
          "histogram": [
           {
            "marker": {
             "pattern": {
              "fillmode": "overlay",
              "size": 10,
              "solidity": 0.2
             }
            },
            "type": "histogram"
           }
          ],
          "histogram2d": [
           {
            "colorbar": {
             "outlinewidth": 0,
             "ticks": ""
            },
            "colorscale": [
             [
              0,
              "#0d0887"
             ],
             [
              0.1111111111111111,
              "#46039f"
             ],
             [
              0.2222222222222222,
              "#7201a8"
             ],
             [
              0.3333333333333333,
              "#9c179e"
             ],
             [
              0.4444444444444444,
              "#bd3786"
             ],
             [
              0.5555555555555556,
              "#d8576b"
             ],
             [
              0.6666666666666666,
              "#ed7953"
             ],
             [
              0.7777777777777778,
              "#fb9f3a"
             ],
             [
              0.8888888888888888,
              "#fdca26"
             ],
             [
              1,
              "#f0f921"
             ]
            ],
            "type": "histogram2d"
           }
          ],
          "histogram2dcontour": [
           {
            "colorbar": {
             "outlinewidth": 0,
             "ticks": ""
            },
            "colorscale": [
             [
              0,
              "#0d0887"
             ],
             [
              0.1111111111111111,
              "#46039f"
             ],
             [
              0.2222222222222222,
              "#7201a8"
             ],
             [
              0.3333333333333333,
              "#9c179e"
             ],
             [
              0.4444444444444444,
              "#bd3786"
             ],
             [
              0.5555555555555556,
              "#d8576b"
             ],
             [
              0.6666666666666666,
              "#ed7953"
             ],
             [
              0.7777777777777778,
              "#fb9f3a"
             ],
             [
              0.8888888888888888,
              "#fdca26"
             ],
             [
              1,
              "#f0f921"
             ]
            ],
            "type": "histogram2dcontour"
           }
          ],
          "mesh3d": [
           {
            "colorbar": {
             "outlinewidth": 0,
             "ticks": ""
            },
            "type": "mesh3d"
           }
          ],
          "parcoords": [
           {
            "line": {
             "colorbar": {
              "outlinewidth": 0,
              "ticks": ""
             }
            },
            "type": "parcoords"
           }
          ],
          "pie": [
           {
            "automargin": true,
            "type": "pie"
           }
          ],
          "scatter": [
           {
            "fillpattern": {
             "fillmode": "overlay",
             "size": 10,
             "solidity": 0.2
            },
            "type": "scatter"
           }
          ],
          "scatter3d": [
           {
            "line": {
             "colorbar": {
              "outlinewidth": 0,
              "ticks": ""
             }
            },
            "marker": {
             "colorbar": {
              "outlinewidth": 0,
              "ticks": ""
             }
            },
            "type": "scatter3d"
           }
          ],
          "scattercarpet": [
           {
            "marker": {
             "colorbar": {
              "outlinewidth": 0,
              "ticks": ""
             }
            },
            "type": "scattercarpet"
           }
          ],
          "scattergeo": [
           {
            "marker": {
             "colorbar": {
              "outlinewidth": 0,
              "ticks": ""
             }
            },
            "type": "scattergeo"
           }
          ],
          "scattergl": [
           {
            "marker": {
             "colorbar": {
              "outlinewidth": 0,
              "ticks": ""
             }
            },
            "type": "scattergl"
           }
          ],
          "scattermapbox": [
           {
            "marker": {
             "colorbar": {
              "outlinewidth": 0,
              "ticks": ""
             }
            },
            "type": "scattermapbox"
           }
          ],
          "scatterpolar": [
           {
            "marker": {
             "colorbar": {
              "outlinewidth": 0,
              "ticks": ""
             }
            },
            "type": "scatterpolar"
           }
          ],
          "scatterpolargl": [
           {
            "marker": {
             "colorbar": {
              "outlinewidth": 0,
              "ticks": ""
             }
            },
            "type": "scatterpolargl"
           }
          ],
          "scatterternary": [
           {
            "marker": {
             "colorbar": {
              "outlinewidth": 0,
              "ticks": ""
             }
            },
            "type": "scatterternary"
           }
          ],
          "surface": [
           {
            "colorbar": {
             "outlinewidth": 0,
             "ticks": ""
            },
            "colorscale": [
             [
              0,
              "#0d0887"
             ],
             [
              0.1111111111111111,
              "#46039f"
             ],
             [
              0.2222222222222222,
              "#7201a8"
             ],
             [
              0.3333333333333333,
              "#9c179e"
             ],
             [
              0.4444444444444444,
              "#bd3786"
             ],
             [
              0.5555555555555556,
              "#d8576b"
             ],
             [
              0.6666666666666666,
              "#ed7953"
             ],
             [
              0.7777777777777778,
              "#fb9f3a"
             ],
             [
              0.8888888888888888,
              "#fdca26"
             ],
             [
              1,
              "#f0f921"
             ]
            ],
            "type": "surface"
           }
          ],
          "table": [
           {
            "cells": {
             "fill": {
              "color": "#EBF0F8"
             },
             "line": {
              "color": "white"
             }
            },
            "header": {
             "fill": {
              "color": "#C8D4E3"
             },
             "line": {
              "color": "white"
             }
            },
            "type": "table"
           }
          ]
         },
         "layout": {
          "annotationdefaults": {
           "arrowcolor": "#2a3f5f",
           "arrowhead": 0,
           "arrowwidth": 1
          },
          "autotypenumbers": "strict",
          "coloraxis": {
           "colorbar": {
            "outlinewidth": 0,
            "ticks": ""
           }
          },
          "colorscale": {
           "diverging": [
            [
             0,
             "#8e0152"
            ],
            [
             0.1,
             "#c51b7d"
            ],
            [
             0.2,
             "#de77ae"
            ],
            [
             0.3,
             "#f1b6da"
            ],
            [
             0.4,
             "#fde0ef"
            ],
            [
             0.5,
             "#f7f7f7"
            ],
            [
             0.6,
             "#e6f5d0"
            ],
            [
             0.7,
             "#b8e186"
            ],
            [
             0.8,
             "#7fbc41"
            ],
            [
             0.9,
             "#4d9221"
            ],
            [
             1,
             "#276419"
            ]
           ],
           "sequential": [
            [
             0,
             "#0d0887"
            ],
            [
             0.1111111111111111,
             "#46039f"
            ],
            [
             0.2222222222222222,
             "#7201a8"
            ],
            [
             0.3333333333333333,
             "#9c179e"
            ],
            [
             0.4444444444444444,
             "#bd3786"
            ],
            [
             0.5555555555555556,
             "#d8576b"
            ],
            [
             0.6666666666666666,
             "#ed7953"
            ],
            [
             0.7777777777777778,
             "#fb9f3a"
            ],
            [
             0.8888888888888888,
             "#fdca26"
            ],
            [
             1,
             "#f0f921"
            ]
           ],
           "sequentialminus": [
            [
             0,
             "#0d0887"
            ],
            [
             0.1111111111111111,
             "#46039f"
            ],
            [
             0.2222222222222222,
             "#7201a8"
            ],
            [
             0.3333333333333333,
             "#9c179e"
            ],
            [
             0.4444444444444444,
             "#bd3786"
            ],
            [
             0.5555555555555556,
             "#d8576b"
            ],
            [
             0.6666666666666666,
             "#ed7953"
            ],
            [
             0.7777777777777778,
             "#fb9f3a"
            ],
            [
             0.8888888888888888,
             "#fdca26"
            ],
            [
             1,
             "#f0f921"
            ]
           ]
          },
          "colorway": [
           "#636efa",
           "#EF553B",
           "#00cc96",
           "#ab63fa",
           "#FFA15A",
           "#19d3f3",
           "#FF6692",
           "#B6E880",
           "#FF97FF",
           "#FECB52"
          ],
          "font": {
           "color": "#2a3f5f"
          },
          "geo": {
           "bgcolor": "white",
           "lakecolor": "white",
           "landcolor": "#E5ECF6",
           "showlakes": true,
           "showland": true,
           "subunitcolor": "white"
          },
          "hoverlabel": {
           "align": "left"
          },
          "hovermode": "closest",
          "mapbox": {
           "style": "light"
          },
          "paper_bgcolor": "white",
          "plot_bgcolor": "#E5ECF6",
          "polar": {
           "angularaxis": {
            "gridcolor": "white",
            "linecolor": "white",
            "ticks": ""
           },
           "bgcolor": "#E5ECF6",
           "radialaxis": {
            "gridcolor": "white",
            "linecolor": "white",
            "ticks": ""
           }
          },
          "scene": {
           "xaxis": {
            "backgroundcolor": "#E5ECF6",
            "gridcolor": "white",
            "gridwidth": 2,
            "linecolor": "white",
            "showbackground": true,
            "ticks": "",
            "zerolinecolor": "white"
           },
           "yaxis": {
            "backgroundcolor": "#E5ECF6",
            "gridcolor": "white",
            "gridwidth": 2,
            "linecolor": "white",
            "showbackground": true,
            "ticks": "",
            "zerolinecolor": "white"
           },
           "zaxis": {
            "backgroundcolor": "#E5ECF6",
            "gridcolor": "white",
            "gridwidth": 2,
            "linecolor": "white",
            "showbackground": true,
            "ticks": "",
            "zerolinecolor": "white"
           }
          },
          "shapedefaults": {
           "line": {
            "color": "#2a3f5f"
           }
          },
          "ternary": {
           "aaxis": {
            "gridcolor": "white",
            "linecolor": "white",
            "ticks": ""
           },
           "baxis": {
            "gridcolor": "white",
            "linecolor": "white",
            "ticks": ""
           },
           "bgcolor": "#E5ECF6",
           "caxis": {
            "gridcolor": "white",
            "linecolor": "white",
            "ticks": ""
           }
          },
          "title": {
           "x": 0.05
          },
          "xaxis": {
           "automargin": true,
           "gridcolor": "white",
           "linecolor": "white",
           "ticks": "",
           "title": {
            "standoff": 15
           },
           "zerolinecolor": "white",
           "zerolinewidth": 2
          },
          "yaxis": {
           "automargin": true,
           "gridcolor": "white",
           "linecolor": "white",
           "ticks": "",
           "title": {
            "standoff": 15
           },
           "zerolinecolor": "white",
           "zerolinewidth": 2
          }
         }
        },
        "title": {
         "text": "Number of Invited Speakers each Year"
        },
        "xaxis": {
         "anchor": "y",
         "domain": [
          0,
          1
         ],
         "title": {
          "text": "Year"
         }
        },
        "yaxis": {
         "anchor": "x",
         "domain": [
          0,
          1
         ],
         "title": {
          "text": "counts"
         }
        }
       }
      }
     },
     "metadata": {},
     "output_type": "display_data"
    }
   ],
   "source": [
    "df1 = df_invited[['Year','gender']].value_counts().reset_index(name=\"counts\").sort_values(by=['Year'], ascending=False)\n",
    "fig = px.line(df1, x='Year', y = 'counts', color = 'gender', title=\"Number of Invited Speakers each Year\")\n",
    "\n",
    "fig.show()"
   ]
  },
  {
   "cell_type": "code",
   "execution_count": 5,
   "metadata": {},
   "outputs": [
    {
     "data": {
      "text/plain": [
       "Full name           gender\n",
       "Tim Berners-Lee     M         15\n",
       "Michael Kearns      M          7\n",
       "Prabhakar Raghavan  M          6\n",
       "Daphne Koller       F          5\n",
       "Kristen Grauman     M          5\n",
       "Yann LeCun          M          5\n",
       "Jon Kleinberg       M          5\n",
       "Sebastian Thrun     M          5\n",
       "Cynthia Dwork       F          5\n",
       "David Ferrucci      M          5\n",
       "dtype: int64"
      ]
     },
     "execution_count": 5,
     "metadata": {},
     "output_type": "execute_result"
    }
   ],
   "source": [
    "df_invited.groupby(['Full name','gender']).size().sort_values(ascending=False).head(10)"
   ]
  }
 ],
 "metadata": {
  "kernelspec": {
   "display_name": "Python 3",
   "language": "python",
   "name": "python3"
  },
  "language_info": {
   "codemirror_mode": {
    "name": "ipython",
    "version": 3
   },
   "file_extension": ".py",
   "mimetype": "text/x-python",
   "name": "python",
   "nbconvert_exporter": "python",
   "pygments_lexer": "ipython3",
   "version": "3.11.1"
  },
  "orig_nbformat": 4,
  "vscode": {
   "interpreter": {
    "hash": "66076dde40592be77e8bc95235b0a94a66bfc07dcde77074a5525e1419ffb0e8"
   }
  }
 },
 "nbformat": 4,
 "nbformat_minor": 2
}
