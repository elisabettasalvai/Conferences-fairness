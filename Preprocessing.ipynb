{
 "cells": [
  {
   "attachments": {},
   "cell_type": "markdown",
   "metadata": {},
   "source": [
    "# Data Pre-Processing"
   ]
  },
  {
   "attachments": {},
   "cell_type": "markdown",
   "metadata": {},
   "source": [
    "### Define Functions"
   ]
  },
  {
   "cell_type": "code",
   "execution_count": 1,
   "metadata": {},
   "outputs": [],
   "source": [
    "# load setup.py file\n",
    "%run setup.py\n",
    "# change number of lines in dataframe\n",
    "pd.set_option('display.max_rows', None)"
   ]
  },
  {
   "cell_type": "code",
   "execution_count": 2,
   "metadata": {},
   "outputs": [
    {
     "name": "stdout",
     "output_type": "stream",
     "text": [
      "Number of rows: 97795\n"
     ]
    },
    {
     "data": {
      "text/html": [
       "<div>\n",
       "<style scoped>\n",
       "    .dataframe tbody tr th:only-of-type {\n",
       "        vertical-align: middle;\n",
       "    }\n",
       "\n",
       "    .dataframe tbody tr th {\n",
       "        vertical-align: top;\n",
       "    }\n",
       "\n",
       "    .dataframe thead th {\n",
       "        text-align: right;\n",
       "    }\n",
       "</style>\n",
       "<table border=\"1\" class=\"dataframe\">\n",
       "  <thead>\n",
       "    <tr style=\"text-align: right;\">\n",
       "      <th></th>\n",
       "      <th>name</th>\n",
       "      <th>code</th>\n",
       "      <th>gender</th>\n",
       "      <th>wgt</th>\n",
       "    </tr>\n",
       "  </thead>\n",
       "  <tbody>\n",
       "    <tr>\n",
       "      <th>758</th>\n",
       "      <td>aaban</td>\n",
       "      <td>US</td>\n",
       "      <td>M</td>\n",
       "      <td>1.0</td>\n",
       "    </tr>\n",
       "    <tr>\n",
       "      <th>1857914</th>\n",
       "      <td>lexxy</td>\n",
       "      <td>US</td>\n",
       "      <td>F</td>\n",
       "      <td>1.0</td>\n",
       "    </tr>\n",
       "    <tr>\n",
       "      <th>1857667</th>\n",
       "      <td>lexia</td>\n",
       "      <td>US</td>\n",
       "      <td>F</td>\n",
       "      <td>1.0</td>\n",
       "    </tr>\n",
       "    <tr>\n",
       "      <th>1857563</th>\n",
       "      <td>lexi</td>\n",
       "      <td>US</td>\n",
       "      <td>F</td>\n",
       "      <td>1.0</td>\n",
       "    </tr>\n",
       "    <tr>\n",
       "      <th>1857549</th>\n",
       "      <td>lexey</td>\n",
       "      <td>US</td>\n",
       "      <td>F</td>\n",
       "      <td>1.0</td>\n",
       "    </tr>\n",
       "  </tbody>\n",
       "</table>\n",
       "</div>"
      ],
      "text/plain": [
       "          name code gender  wgt\n",
       "758      aaban   US      M  1.0\n",
       "1857914  lexxy   US      F  1.0\n",
       "1857667  lexia   US      F  1.0\n",
       "1857563   lexi   US      F  1.0\n",
       "1857549  lexey   US      F  1.0"
      ]
     },
     "execution_count": 2,
     "metadata": {},
     "output_type": "execute_result"
    }
   ],
   "source": [
    "def read_csv_files_from_folder(filepath,folder):\n",
    "    # Step 1: Create a path to all the .csv files in the folder\n",
    "    csv_path = os.path.join(filepath, folder, \"*.csv\")\n",
    "\n",
    "    # Step 2: Use the glob module to get a list of all the .csv files in the folder\n",
    "    csv_files = glob.glob(csv_path)\n",
    "    \n",
    "    # Step 3: Create an empty list to store the dataframes\n",
    "    df_list = []\n",
    "\n",
    "    # Step 4: Loop through all the .csv files and append them to the dataframe list\n",
    "    for file_path in csv_files:\n",
    "        df = pd.read_csv(file_path,index_col=None,encoding='latin-1')\n",
    "        df['Conference (short)'] = os.path.basename(file_path)\n",
    "        df['Conference (short)'] = df['Conference (short)'].str.split('_').str[0]\n",
    "        df_list.append(df)\n",
    "\n",
    "    # Step 5: Concatenate all the dataframes in the list into a single dataframe\n",
    "    final_df = pd.concat(df_list, ignore_index=True)\n",
    "    \n",
    "    # Step 6: Delete unnesseary columns\n",
    "    final_df = final_df.drop([\"Field\"], axis=1)\n",
    "    try:\n",
    "        final_df = final_df.drop([\"Key Note Speaker\"], axis=1)\n",
    "    except:\n",
    "        pass\n",
    "\n",
    "    # Step 7: Return the final dataframe\n",
    "    return final_df\n",
    "\n",
    "def Name_preprocessing(df):\n",
    "    # First Name\n",
    "    df['First name'] = df['Full name'].str.split(' ').str[0].str.lower()\n",
    "    df['First name'] = df[\"First name\"].str.normalize('NFKD')\\\n",
    "       .str.encode('ascii', errors='ignore')\\\n",
    "       .str.decode('utf-8')\n",
    "    print(\"Number of rows where the first name only contains abbreviation: \", df[df['First name'].str.contains('^[a-z]\\.$')].shape[0])\n",
    "    print(\"These rows will be removed\")\n",
    "    df = df[~df['First name'].str.contains('^[a-z]\\.$')]\n",
    "    print(\"There are now:\",df.shape[0],\"rows\")\n",
    "       \n",
    "    # Middel and Last Name\n",
    "    df['Middle name'] = df['Full name'].str.split(' ').str[1]\n",
    "    df['Last name (temp)'] = df['Full name'].str.split(' ').str[2]\n",
    "    df['Last name'] = np.where(df['Last name (temp)'].isnull(), df['Middle name'], df['Last name (temp)'])\n",
    "    df['Middle name'] = np.where(df['Last name (temp)'].isnull(), np.nan, df['Middle name'])\n",
    "    df = df.drop([\"Last name (temp)\"], axis=1)\n",
    "    return df\n",
    "\n",
    "def Middle_name_clean(df):\n",
    "    # Find all rows with different middle names\n",
    "    row_to_remove = df[df.duplicated(['First name','Last name'], keep=False)].sort_values(['First name','Last name']).drop_duplicates(subset=['First name','Middle name','Last name'], keep=False).drop_duplicates(subset=['First name','Last name'], keep=False)\n",
    "    rows_to_change = df[df.duplicated(['First name','Last name'], keep=False)].sort_values(['First name','Last name']).drop_duplicates(subset=['First name','Middle name','Last name'], keep=False)\n",
    "    rows_to_change = rows_to_change[~rows_to_change.isin(row_to_remove)].dropna(how='all').sort_values(['First name','Last name','Middle name'])\n",
    "\n",
    "    for i in range(len(rows_to_change)-1):\n",
    "        if (rows_to_change.iloc[i]['First name'] == rows_to_change.iloc[i+1]['First name']) and (rows_to_change.iloc[i]['Last name'] == rows_to_change.iloc[i+1]['Last name']):\n",
    "            if pd.isnull(rows_to_change.iloc[i+1]['Middle name']):\n",
    "                rows_to_change.iloc[i+1,rows_to_change.columns.get_loc('Middle name')] = rows_to_change.iloc[i]['Middle name']\n",
    "    \n",
    "    # Overwrite the Middle name\n",
    "    df.loc[rows_to_change.index,'Middle name'] = rows_to_change['Middle name']\n",
    "    \n",
    "    df['First name'] = df['First name'].str.capitalize()\n",
    "\n",
    "    # if middle name is nan then combine first and last name with space between, otherwise if middle name is not nan then combine first, middle and last name with space between\n",
    "    df['Full name'] = np.where(df['Middle name'].isnull(), df['First name'] + ' ' + df['Last name'], df['First name'] + ' ' + df['Middle name'] + ' ' + df['Last name'])\n",
    "    return df\n",
    "\n",
    "\n",
    "\n",
    "#############################################\n",
    "# Gender Data\n",
    "#############################################\n",
    "name_df = pd.read_csv('Dimension Tables/wgnd_2_0_name-gender-code.csv')\n",
    "# Keep only US or DK names\n",
    "name_df = name_df[(name_df['code'] == 'US') | (name_df['code'] == 'DK')]\n",
    "# drop duplicates\n",
    "name_df = name_df.drop_duplicates(subset=['name',\"gender\"], keep='first')\n",
    "# for all duplicated value keep the row with the max \"wgt\" value\n",
    "name_df = name_df.sort_values('wgt', ascending=False).drop_duplicates(subset=['name'], keep='first')\n",
    "\n",
    "print(\"Number of rows:\", len(name_df))\n",
    "name_df.head()"
   ]
  },
  {
   "attachments": {},
   "cell_type": "markdown",
   "metadata": {},
   "source": [
    "## Key Note Speakers"
   ]
  },
  {
   "attachments": {},
   "cell_type": "markdown",
   "metadata": {},
   "source": [
    "#### Load and combine all .csv files in the folder"
   ]
  },
  {
   "cell_type": "code",
   "execution_count": 14,
   "metadata": {},
   "outputs": [
    {
     "name": "stdout",
     "output_type": "stream",
     "text": [
      "Number of rows: 2104\n"
     ]
    },
    {
     "data": {
      "text/html": [
       "<div>\n",
       "<style scoped>\n",
       "    .dataframe tbody tr th:only-of-type {\n",
       "        vertical-align: middle;\n",
       "    }\n",
       "\n",
       "    .dataframe tbody tr th {\n",
       "        vertical-align: top;\n",
       "    }\n",
       "\n",
       "    .dataframe thead th {\n",
       "        text-align: right;\n",
       "    }\n",
       "</style>\n",
       "<table border=\"1\" class=\"dataframe\">\n",
       "  <thead>\n",
       "    <tr style=\"text-align: right;\">\n",
       "      <th></th>\n",
       "      <th>Full name</th>\n",
       "      <th>Year</th>\n",
       "      <th>Sex</th>\n",
       "      <th>Conference (short)</th>\n",
       "    </tr>\n",
       "  </thead>\n",
       "  <tbody>\n",
       "    <tr>\n",
       "      <th>0</th>\n",
       "      <td>Atsushi Asada</td>\n",
       "      <td>1995</td>\n",
       "      <td>0</td>\n",
       "      <td>ASPDAC</td>\n",
       "    </tr>\n",
       "    <tr>\n",
       "      <th>1</th>\n",
       "      <td>Jim Meadlock</td>\n",
       "      <td>1995</td>\n",
       "      <td>0</td>\n",
       "      <td>ASPDAC</td>\n",
       "    </tr>\n",
       "    <tr>\n",
       "      <th>2</th>\n",
       "      <td>John Darringer</td>\n",
       "      <td>1995</td>\n",
       "      <td>0</td>\n",
       "      <td>ASPDAC</td>\n",
       "    </tr>\n",
       "    <tr>\n",
       "      <th>3</th>\n",
       "      <td>Tatsuo Izawa</td>\n",
       "      <td>1997</td>\n",
       "      <td>0</td>\n",
       "      <td>ASPDAC</td>\n",
       "    </tr>\n",
       "    <tr>\n",
       "      <th>4</th>\n",
       "      <td>Daniel D. Gajski</td>\n",
       "      <td>1997</td>\n",
       "      <td>0</td>\n",
       "      <td>ASPDAC</td>\n",
       "    </tr>\n",
       "  </tbody>\n",
       "</table>\n",
       "</div>"
      ],
      "text/plain": [
       "          Full name  Year Sex Conference (short)\n",
       "0     Atsushi Asada  1995   0             ASPDAC\n",
       "1      Jim Meadlock  1995   0             ASPDAC\n",
       "2    John Darringer  1995   0             ASPDAC\n",
       "3      Tatsuo Izawa  1997   0             ASPDAC\n",
       "4  Daniel D. Gajski  1997   0             ASPDAC"
      ]
     },
     "execution_count": 14,
     "metadata": {},
     "output_type": "execute_result"
    }
   ],
   "source": [
    "df = read_csv_files_from_folder(filepath=filepath,folder='Invited Speakers')\n",
    "print(\"Number of rows:\", len(df))\n",
    "df.head()"
   ]
  },
  {
   "attachments": {},
   "cell_type": "markdown",
   "metadata": {},
   "source": [
    "#### Remove rows"
   ]
  },
  {
   "cell_type": "code",
   "execution_count": 15,
   "metadata": {},
   "outputs": [],
   "source": [
    "# Only include data after 2003\n",
    "df = df[(df['Year'] >= 2003) & (df['Year'] <= 2022)]\n",
    "df = df[~df['Conference (short)'].isin([\"ICIP\",\"CVPR\"])]\n",
    "df = df[df['Full name'] != \"Wei Wei\"]"
   ]
  },
  {
   "attachments": {},
   "cell_type": "markdown",
   "metadata": {},
   "source": [
    "#### Clean the name columns"
   ]
  },
  {
   "cell_type": "code",
   "execution_count": 16,
   "metadata": {},
   "outputs": [
    {
     "name": "stdout",
     "output_type": "stream",
     "text": [
      "Number of rows where the first name only contains abbreviation:  40\n",
      "These rows will be removed\n",
      "There are now: 1488 rows\n"
     ]
    },
    {
     "data": {
      "text/html": [
       "<div>\n",
       "<style scoped>\n",
       "    .dataframe tbody tr th:only-of-type {\n",
       "        vertical-align: middle;\n",
       "    }\n",
       "\n",
       "    .dataframe tbody tr th {\n",
       "        vertical-align: top;\n",
       "    }\n",
       "\n",
       "    .dataframe thead th {\n",
       "        text-align: right;\n",
       "    }\n",
       "</style>\n",
       "<table border=\"1\" class=\"dataframe\">\n",
       "  <thead>\n",
       "    <tr style=\"text-align: right;\">\n",
       "      <th></th>\n",
       "      <th>Full name</th>\n",
       "      <th>Year</th>\n",
       "      <th>Sex</th>\n",
       "      <th>Conference (short)</th>\n",
       "      <th>First name</th>\n",
       "      <th>Middle name</th>\n",
       "      <th>Last name</th>\n",
       "    </tr>\n",
       "  </thead>\n",
       "  <tbody>\n",
       "    <tr>\n",
       "      <th>22</th>\n",
       "      <td>Glovanni De WIichcli</td>\n",
       "      <td>2003</td>\n",
       "      <td>0</td>\n",
       "      <td>ASPDAC</td>\n",
       "      <td>glovanni</td>\n",
       "      <td>De</td>\n",
       "      <td>WIichcli</td>\n",
       "    </tr>\n",
       "    <tr>\n",
       "      <th>23</th>\n",
       "      <td>Tadahiro Ohm</td>\n",
       "      <td>2003</td>\n",
       "      <td>0</td>\n",
       "      <td>ASPDAC</td>\n",
       "      <td>tadahiro</td>\n",
       "      <td>NaN</td>\n",
       "      <td>Ohm</td>\n",
       "    </tr>\n",
       "    <tr>\n",
       "      <th>24</th>\n",
       "      <td>Ycrvant Zorian</td>\n",
       "      <td>2003</td>\n",
       "      <td>0</td>\n",
       "      <td>ASPDAC</td>\n",
       "      <td>ycrvant</td>\n",
       "      <td>NaN</td>\n",
       "      <td>Zorian</td>\n",
       "    </tr>\n",
       "    <tr>\n",
       "      <th>25</th>\n",
       "      <td>Gary L. Baldwi</td>\n",
       "      <td>2004</td>\n",
       "      <td>0</td>\n",
       "      <td>ASPDAC</td>\n",
       "      <td>gary</td>\n",
       "      <td>L.</td>\n",
       "      <td>Baldwi</td>\n",
       "    </tr>\n",
       "    <tr>\n",
       "      <th>26</th>\n",
       "      <td>Rudy Lauwereins</td>\n",
       "      <td>2004</td>\n",
       "      <td>0</td>\n",
       "      <td>ASPDAC</td>\n",
       "      <td>rudy</td>\n",
       "      <td>NaN</td>\n",
       "      <td>Lauwereins</td>\n",
       "    </tr>\n",
       "  </tbody>\n",
       "</table>\n",
       "</div>"
      ],
      "text/plain": [
       "               Full name  Year Sex Conference (short) First name Middle name  \\\n",
       "22  Glovanni De WIichcli  2003   0             ASPDAC   glovanni          De   \n",
       "23          Tadahiro Ohm  2003   0             ASPDAC   tadahiro         NaN   \n",
       "24        Ycrvant Zorian  2003   0             ASPDAC    ycrvant         NaN   \n",
       "25        Gary L. Baldwi  2004   0             ASPDAC       gary          L.   \n",
       "26       Rudy Lauwereins  2004   0             ASPDAC       rudy         NaN   \n",
       "\n",
       "     Last name  \n",
       "22    WIichcli  \n",
       "23         Ohm  \n",
       "24      Zorian  \n",
       "25      Baldwi  \n",
       "26  Lauwereins  "
      ]
     },
     "execution_count": 16,
     "metadata": {},
     "output_type": "execute_result"
    }
   ],
   "source": [
    "df = Name_preprocessing(df)\n",
    "df.head()"
   ]
  },
  {
   "attachments": {},
   "cell_type": "markdown",
   "metadata": {},
   "source": [
    "#### Add gender data"
   ]
  },
  {
   "cell_type": "code",
   "execution_count": 17,
   "metadata": {},
   "outputs": [
    {
     "name": "stdout",
     "output_type": "stream",
     "text": [
      "Number of rows with null value in gender: 154\n",
      "Number of rows after removal of unknown genders: 1334\n"
     ]
    },
    {
     "data": {
      "text/html": [
       "<div>\n",
       "<style scoped>\n",
       "    .dataframe tbody tr th:only-of-type {\n",
       "        vertical-align: middle;\n",
       "    }\n",
       "\n",
       "    .dataframe tbody tr th {\n",
       "        vertical-align: top;\n",
       "    }\n",
       "\n",
       "    .dataframe thead th {\n",
       "        text-align: right;\n",
       "    }\n",
       "</style>\n",
       "<table border=\"1\" class=\"dataframe\">\n",
       "  <thead>\n",
       "    <tr style=\"text-align: right;\">\n",
       "      <th></th>\n",
       "      <th>Full name</th>\n",
       "      <th>Year</th>\n",
       "      <th>Sex</th>\n",
       "      <th>Conference (short)</th>\n",
       "      <th>First name</th>\n",
       "      <th>Middle name</th>\n",
       "      <th>Last name</th>\n",
       "      <th>gender</th>\n",
       "    </tr>\n",
       "  </thead>\n",
       "  <tbody>\n",
       "    <tr>\n",
       "      <th>3</th>\n",
       "      <td>Gary L. Baldwi</td>\n",
       "      <td>2004</td>\n",
       "      <td>0</td>\n",
       "      <td>ASPDAC</td>\n",
       "      <td>gary</td>\n",
       "      <td>L.</td>\n",
       "      <td>Baldwi</td>\n",
       "      <td>M</td>\n",
       "    </tr>\n",
       "    <tr>\n",
       "      <th>4</th>\n",
       "      <td>Rudy Lauwereins</td>\n",
       "      <td>2004</td>\n",
       "      <td>0</td>\n",
       "      <td>ASPDAC</td>\n",
       "      <td>rudy</td>\n",
       "      <td>NaN</td>\n",
       "      <td>Lauwereins</td>\n",
       "      <td>M</td>\n",
       "    </tr>\n",
       "    <tr>\n",
       "      <th>5</th>\n",
       "      <td>Rajeev Madhavan</td>\n",
       "      <td>2005</td>\n",
       "      <td>0</td>\n",
       "      <td>ASPDAC</td>\n",
       "      <td>rajeev</td>\n",
       "      <td>NaN</td>\n",
       "      <td>Madhavan</td>\n",
       "      <td>M</td>\n",
       "    </tr>\n",
       "    <tr>\n",
       "      <th>6</th>\n",
       "      <td>Jan M. Rabaey</td>\n",
       "      <td>2005</td>\n",
       "      <td>0</td>\n",
       "      <td>ASPDAC</td>\n",
       "      <td>jan</td>\n",
       "      <td>M.</td>\n",
       "      <td>Rabaey</td>\n",
       "      <td>M</td>\n",
       "    </tr>\n",
       "    <tr>\n",
       "      <th>8</th>\n",
       "      <td>Alberto Sangiovanni-Vincentelli</td>\n",
       "      <td>2006</td>\n",
       "      <td>0</td>\n",
       "      <td>ASPDAC</td>\n",
       "      <td>alberto</td>\n",
       "      <td>NaN</td>\n",
       "      <td>Sangiovanni-Vincentelli</td>\n",
       "      <td>M</td>\n",
       "    </tr>\n",
       "  </tbody>\n",
       "</table>\n",
       "</div>"
      ],
      "text/plain": [
       "                         Full name  Year Sex Conference (short) First name  \\\n",
       "3                   Gary L. Baldwi  2004   0             ASPDAC       gary   \n",
       "4                  Rudy Lauwereins  2004   0             ASPDAC       rudy   \n",
       "5                  Rajeev Madhavan  2005   0             ASPDAC     rajeev   \n",
       "6                    Jan M. Rabaey  2005   0             ASPDAC        jan   \n",
       "8  Alberto Sangiovanni-Vincentelli  2006   0             ASPDAC    alberto   \n",
       "\n",
       "  Middle name                Last name gender  \n",
       "3          L.                   Baldwi      M  \n",
       "4         NaN               Lauwereins      M  \n",
       "5         NaN                 Madhavan      M  \n",
       "6          M.                   Rabaey      M  \n",
       "8         NaN  Sangiovanni-Vincentelli      M  "
      ]
     },
     "execution_count": 17,
     "metadata": {},
     "output_type": "execute_result"
    }
   ],
   "source": [
    "# merge df and name_df by \"First name\" and \"name\" and include \"Gender column\"\n",
    "df = pd.merge(df, name_df, how='left', left_on='First name', right_on='name')\n",
    "\n",
    "# Drop unnecessary columns\n",
    "df = df.drop(['name', 'code', 'wgt'], axis=1)\n",
    "\n",
    "print(\"Number of rows with null value in gender:\", df[\"gender\"].isnull().sum())\n",
    "\n",
    "# Drop all rows with nan value in gender column #TODO\n",
    "df = df.dropna(subset=['gender'])\n",
    "print(\"Number of rows after removal of unknown genders:\", len(df))\n",
    "\n",
    "df.head()"
   ]
  },
  {
   "attachments": {},
   "cell_type": "markdown",
   "metadata": {},
   "source": [
    "##### Clean up gender columns"
   ]
  },
  {
   "cell_type": "code",
   "execution_count": 18,
   "metadata": {},
   "outputs": [],
   "source": [
    "df['Sex'].replace(np.nan, 'unknown', inplace=True)\n",
    "df['Sex'].replace('x','unknown',inplace=True)\n",
    "df['Sex'].replace('0','M',inplace=True)\n",
    "df['Sex'].replace(0,'M',inplace=True)\n",
    "df['Sex'].replace('1','F',inplace=True)\n",
    "df['Sex'].replace(1,'F',inplace=True)"
   ]
  },
  {
   "cell_type": "code",
   "execution_count": 19,
   "metadata": {},
   "outputs": [
    {
     "name": "stdout",
     "output_type": "stream",
     "text": [
      "Number of rows where \"Sex\" is F and \"gender\" is M: 2\n",
      "Number of rows where \"Sex\" is M and \"gender\" is F: 6\n"
     ]
    }
   ],
   "source": [
    "print('Number of rows where \"Sex\" is F and \"gender\" is M:',len(np.where((df['Sex'] == 'F') & (df['gender']=='M'))[0]))\n",
    "print('Number of rows where \"Sex\" is M and \"gender\" is F:',len(np.where((df['Sex'] == 'M') & (df['gender']=='F'))[0]))\n",
    "\n",
    "# Overwrite the value in column 'gender' with the 'Sex' column\n",
    "df.loc[df['Sex'] == 'F', 'gender'] = 'F'  \n",
    "df.loc[df['Sex'] == 'M', 'gender'] = 'M'   \n",
    "\n",
    "# Drop unnecessary columns\n",
    "df = df.drop(['Sex'],axis=1)"
   ]
  },
  {
   "attachments": {},
   "cell_type": "markdown",
   "metadata": {},
   "source": [
    "#### Fix unique names"
   ]
  },
  {
   "cell_type": "code",
   "execution_count": 20,
   "metadata": {},
   "outputs": [
    {
     "name": "stdout",
     "output_type": "stream",
     "text": [
      "Before: There are  1136  unique names\n",
      "After: There are  1124  unique names\n"
     ]
    }
   ],
   "source": [
    "print(\"Before: There are \",df['Full name'].nunique(),\" unique names\")\n",
    "df = Middle_name_clean(df)\n",
    "print(\"After: There are \",df['Full name'].nunique(),\" unique names\")"
   ]
  },
  {
   "attachments": {},
   "cell_type": "markdown",
   "metadata": {},
   "source": [
    "#### Save factTable"
   ]
  },
  {
   "cell_type": "code",
   "execution_count": 22,
   "metadata": {},
   "outputs": [],
   "source": [
    "df.to_csv(os.path.join(filepath,\"factInvited_init.csv\"), index=False)"
   ]
  },
  {
   "attachments": {},
   "cell_type": "markdown",
   "metadata": {},
   "source": [
    "## Proceedings"
   ]
  },
  {
   "attachments": {},
   "cell_type": "markdown",
   "metadata": {},
   "source": [
    "#### Load and combine all .csv files in the folder"
   ]
  },
  {
   "cell_type": "code",
   "execution_count": 25,
   "metadata": {},
   "outputs": [
    {
     "name": "stdout",
     "output_type": "stream",
     "text": [
      "Number of rows: 466168\n"
     ]
    },
    {
     "data": {
      "text/html": [
       "<div>\n",
       "<style scoped>\n",
       "    .dataframe tbody tr th:only-of-type {\n",
       "        vertical-align: middle;\n",
       "    }\n",
       "\n",
       "    .dataframe tbody tr th {\n",
       "        vertical-align: top;\n",
       "    }\n",
       "\n",
       "    .dataframe thead th {\n",
       "        text-align: right;\n",
       "    }\n",
       "</style>\n",
       "<table border=\"1\" class=\"dataframe\">\n",
       "  <thead>\n",
       "    <tr style=\"text-align: right;\">\n",
       "      <th></th>\n",
       "      <th>Full name</th>\n",
       "      <th>Year</th>\n",
       "      <th>Conference (short)</th>\n",
       "    </tr>\n",
       "  </thead>\n",
       "  <tbody>\n",
       "    <tr>\n",
       "      <th>466163</th>\n",
       "      <td>ZoltÃ¡n Kmetty</td>\n",
       "      <td>2019.0</td>\n",
       "      <td>ic2s2</td>\n",
       "    </tr>\n",
       "    <tr>\n",
       "      <th>466164</th>\n",
       "      <td>Zoya Khan</td>\n",
       "      <td>2019.0</td>\n",
       "      <td>ic2s2</td>\n",
       "    </tr>\n",
       "    <tr>\n",
       "      <th>466165</th>\n",
       "      <td>Zuzana Sasovova</td>\n",
       "      <td>2019.0</td>\n",
       "      <td>ic2s2</td>\n",
       "    </tr>\n",
       "    <tr>\n",
       "      <th>466166</th>\n",
       "      <td>Ãkos Jakobi</td>\n",
       "      <td>2019.0</td>\n",
       "      <td>ic2s2</td>\n",
       "    </tr>\n",
       "    <tr>\n",
       "      <th>466167</th>\n",
       "      <td>ÃaÄrÄ± Yoltar</td>\n",
       "      <td>2019.0</td>\n",
       "      <td>ic2s2</td>\n",
       "    </tr>\n",
       "  </tbody>\n",
       "</table>\n",
       "</div>"
      ],
      "text/plain": [
       "              Full name    Year Conference (short)\n",
       "466163   ZoltÃ¡n Kmetty  2019.0              ic2s2\n",
       "466164        Zoya Khan  2019.0              ic2s2\n",
       "466165  Zuzana Sasovova  2019.0              ic2s2\n",
       "466166     Ãkos Jakobi  2019.0              ic2s2\n",
       "466167  ÃaÄrÄ± Yoltar  2019.0              ic2s2"
      ]
     },
     "execution_count": 25,
     "metadata": {},
     "output_type": "execute_result"
    }
   ],
   "source": [
    "# Append all files in Data folder as a datafrom, and add a column for the file name without the extension and folder name\n",
    "df = read_csv_files_from_folder(filepath=filepath,folder='Proceedings')\n",
    "print(\"Number of rows:\", len(df))\n",
    "df.tail()"
   ]
  },
  {
   "attachments": {},
   "cell_type": "markdown",
   "metadata": {},
   "source": [
    "#### Remove rows"
   ]
  },
  {
   "cell_type": "code",
   "execution_count": 26,
   "metadata": {},
   "outputs": [],
   "source": [
    "# Only include data after 2003\n",
    "df = df[(df['Year'] >= 2003) & (df['Year'] <= 2022)]\n",
    "df = df[~df['Conference (short)'].isin([\"ICIP\",\"CVPR\"])]"
   ]
  },
  {
   "attachments": {},
   "cell_type": "markdown",
   "metadata": {},
   "source": [
    "#### Clean the names"
   ]
  },
  {
   "cell_type": "code",
   "execution_count": 27,
   "metadata": {},
   "outputs": [
    {
     "name": "stdout",
     "output_type": "stream",
     "text": [
      "Number of rows where the first name only contains abbreviation:  1828\n",
      "These rows will be removed\n",
      "There are now: 275118 rows\n"
     ]
    },
    {
     "data": {
      "text/html": [
       "<div>\n",
       "<style scoped>\n",
       "    .dataframe tbody tr th:only-of-type {\n",
       "        vertical-align: middle;\n",
       "    }\n",
       "\n",
       "    .dataframe tbody tr th {\n",
       "        vertical-align: top;\n",
       "    }\n",
       "\n",
       "    .dataframe thead th {\n",
       "        text-align: right;\n",
       "    }\n",
       "</style>\n",
       "<table border=\"1\" class=\"dataframe\">\n",
       "  <thead>\n",
       "    <tr style=\"text-align: right;\">\n",
       "      <th></th>\n",
       "      <th>Full name</th>\n",
       "      <th>Year</th>\n",
       "      <th>Conference (short)</th>\n",
       "      <th>First name</th>\n",
       "      <th>Middle name</th>\n",
       "      <th>Last name</th>\n",
       "    </tr>\n",
       "  </thead>\n",
       "  <tbody>\n",
       "    <tr>\n",
       "      <th>2405</th>\n",
       "      <td>Hiroto Yasuura</td>\n",
       "      <td>2003.0</td>\n",
       "      <td>ASPDAC</td>\n",
       "      <td>hiroto</td>\n",
       "      <td>NaN</td>\n",
       "      <td>Yasuura</td>\n",
       "    </tr>\n",
       "    <tr>\n",
       "      <th>2406</th>\n",
       "      <td>Yazdan Aghaghiri</td>\n",
       "      <td>2003.0</td>\n",
       "      <td>ASPDAC</td>\n",
       "      <td>yazdan</td>\n",
       "      <td>NaN</td>\n",
       "      <td>Aghaghiri</td>\n",
       "    </tr>\n",
       "    <tr>\n",
       "      <th>2407</th>\n",
       "      <td>Farzan Fallah</td>\n",
       "      <td>2003.0</td>\n",
       "      <td>ASPDAC</td>\n",
       "      <td>farzan</td>\n",
       "      <td>NaN</td>\n",
       "      <td>Fallah</td>\n",
       "    </tr>\n",
       "    <tr>\n",
       "      <th>2408</th>\n",
       "      <td>Massoud Pedram</td>\n",
       "      <td>2003.0</td>\n",
       "      <td>ASPDAC</td>\n",
       "      <td>massoud</td>\n",
       "      <td>NaN</td>\n",
       "      <td>Pedram</td>\n",
       "    </tr>\n",
       "    <tr>\n",
       "      <th>2409</th>\n",
       "      <td>Satoshi Komatsu</td>\n",
       "      <td>2003.0</td>\n",
       "      <td>ASPDAC</td>\n",
       "      <td>satoshi</td>\n",
       "      <td>NaN</td>\n",
       "      <td>Komatsu</td>\n",
       "    </tr>\n",
       "  </tbody>\n",
       "</table>\n",
       "</div>"
      ],
      "text/plain": [
       "             Full name    Year Conference (short) First name Middle name  \\\n",
       "2405    Hiroto Yasuura  2003.0             ASPDAC     hiroto         NaN   \n",
       "2406  Yazdan Aghaghiri  2003.0             ASPDAC     yazdan         NaN   \n",
       "2407     Farzan Fallah  2003.0             ASPDAC     farzan         NaN   \n",
       "2408    Massoud Pedram  2003.0             ASPDAC    massoud         NaN   \n",
       "2409   Satoshi Komatsu  2003.0             ASPDAC    satoshi         NaN   \n",
       "\n",
       "      Last name  \n",
       "2405    Yasuura  \n",
       "2406  Aghaghiri  \n",
       "2407     Fallah  \n",
       "2408     Pedram  \n",
       "2409    Komatsu  "
      ]
     },
     "execution_count": 27,
     "metadata": {},
     "output_type": "execute_result"
    }
   ],
   "source": [
    "df = Name_preprocessing(df)\n",
    "df.head()"
   ]
  },
  {
   "attachments": {},
   "cell_type": "markdown",
   "metadata": {},
   "source": [
    "#### Add gender data"
   ]
  },
  {
   "cell_type": "code",
   "execution_count": 5,
   "metadata": {},
   "outputs": [
    {
     "name": "stdout",
     "output_type": "stream",
     "text": [
      "Number of rows with null value in gender: 135609\n",
      "Number of rows after removal of unknown genders: 324479\n"
     ]
    },
    {
     "data": {
      "text/html": [
       "<div>\n",
       "<style scoped>\n",
       "    .dataframe tbody tr th:only-of-type {\n",
       "        vertical-align: middle;\n",
       "    }\n",
       "\n",
       "    .dataframe tbody tr th {\n",
       "        vertical-align: top;\n",
       "    }\n",
       "\n",
       "    .dataframe thead th {\n",
       "        text-align: right;\n",
       "    }\n",
       "</style>\n",
       "<table border=\"1\" class=\"dataframe\">\n",
       "  <thead>\n",
       "    <tr style=\"text-align: right;\">\n",
       "      <th></th>\n",
       "      <th>Full name</th>\n",
       "      <th>Year</th>\n",
       "      <th>Conference (short)</th>\n",
       "      <th>First name</th>\n",
       "      <th>Middle name</th>\n",
       "      <th>Last name</th>\n",
       "      <th>gender</th>\n",
       "    </tr>\n",
       "  </thead>\n",
       "  <tbody>\n",
       "    <tr>\n",
       "      <th>0</th>\n",
       "      <td>Isao Shirakawa</td>\n",
       "      <td>1995.0</td>\n",
       "      <td>ASPDAC</td>\n",
       "      <td>isao</td>\n",
       "      <td>NaN</td>\n",
       "      <td>Shirakawa</td>\n",
       "      <td>M</td>\n",
       "    </tr>\n",
       "    <tr>\n",
       "      <th>5</th>\n",
       "      <td>TingTing Hwang</td>\n",
       "      <td>1995.0</td>\n",
       "      <td>ASPDAC</td>\n",
       "      <td>tingting</td>\n",
       "      <td>NaN</td>\n",
       "      <td>Hwang</td>\n",
       "      <td>F</td>\n",
       "    </tr>\n",
       "    <tr>\n",
       "      <th>6</th>\n",
       "      <td>Sanjay Dhar</td>\n",
       "      <td>1995.0</td>\n",
       "      <td>ASPDAC</td>\n",
       "      <td>sanjay</td>\n",
       "      <td>NaN</td>\n",
       "      <td>Dhar</td>\n",
       "      <td>M</td>\n",
       "    </tr>\n",
       "    <tr>\n",
       "      <th>7</th>\n",
       "      <td>Dave J. Gurney</td>\n",
       "      <td>1995.0</td>\n",
       "      <td>ASPDAC</td>\n",
       "      <td>dave</td>\n",
       "      <td>J.</td>\n",
       "      <td>Gurney</td>\n",
       "      <td>M</td>\n",
       "    </tr>\n",
       "    <tr>\n",
       "      <th>8</th>\n",
       "      <td>Michel Thill</td>\n",
       "      <td>1995.0</td>\n",
       "      <td>ASPDAC</td>\n",
       "      <td>michel</td>\n",
       "      <td>NaN</td>\n",
       "      <td>Thill</td>\n",
       "      <td>M</td>\n",
       "    </tr>\n",
       "  </tbody>\n",
       "</table>\n",
       "</div>"
      ],
      "text/plain": [
       "        Full name    Year Conference (short) First name Middle name  \\\n",
       "0  Isao Shirakawa  1995.0             ASPDAC       isao         NaN   \n",
       "5  TingTing Hwang  1995.0             ASPDAC   tingting         NaN   \n",
       "6     Sanjay Dhar  1995.0             ASPDAC     sanjay         NaN   \n",
       "7  Dave J. Gurney  1995.0             ASPDAC       dave          J.   \n",
       "8    Michel Thill  1995.0             ASPDAC     michel         NaN   \n",
       "\n",
       "   Last name gender  \n",
       "0  Shirakawa      M  \n",
       "5      Hwang      F  \n",
       "6       Dhar      M  \n",
       "7     Gurney      M  \n",
       "8      Thill      M  "
      ]
     },
     "execution_count": 5,
     "metadata": {},
     "output_type": "execute_result"
    }
   ],
   "source": [
    "# merge df and name_df by \"First name\" and \"name\" and include \"Gender column\"\n",
    "df = pd.merge(df, name_df, how='left', left_on='First name', right_on='name')\n",
    "\n",
    "# Drop unnecessary columns\n",
    "df = df.drop(['name', 'code', 'wgt'], axis=1)\n",
    "\n",
    "print(\"Number of rows with null value in gender:\", df[\"gender\"].isnull().sum())\n",
    "\n",
    "# Drop all rows with nan value in gender column #TODO\n",
    "df = df.dropna(subset=['gender'])\n",
    "print(\"Number of rows after removal of unknown genders:\", len(df))\n",
    "\n",
    "df.head()"
   ]
  },
  {
   "attachments": {},
   "cell_type": "markdown",
   "metadata": {},
   "source": [
    "#### Fix Unique names"
   ]
  },
  {
   "cell_type": "code",
   "execution_count": 6,
   "metadata": {},
   "outputs": [
    {
     "name": "stdout",
     "output_type": "stream",
     "text": [
      "Before: There are  107340  unique names\n",
      "After: There are  106655  unique names\n"
     ]
    }
   ],
   "source": [
    "print(\"Before: There are \",df['Full name'].nunique(),\" unique names\")\n",
    "df = Middle_name_clean(df)\n",
    "print(\"After: There are \",df['Full name'].nunique(),\" unique names\")"
   ]
  },
  {
   "attachments": {},
   "cell_type": "markdown",
   "metadata": {},
   "source": [
    "#### Save factTable"
   ]
  },
  {
   "cell_type": "code",
   "execution_count": 7,
   "metadata": {},
   "outputs": [],
   "source": [
    "df.to_csv(os.path.join(filepath,\"factProceedings_init.csv\"), index=False)"
   ]
  },
  {
   "attachments": {},
   "cell_type": "markdown",
   "metadata": {},
   "source": [
    "## Add Columns\n",
    "NB: Do not complete this step until after the Get_Paper_info.ipynb has been runned"
   ]
  },
  {
   "cell_type": "code",
   "execution_count": 3,
   "metadata": {},
   "outputs": [],
   "source": [
    "# Load files\n",
    "df_Invited = pd.read_csv(os.path.join(filepath,'factInvited.csv'))\n",
    "df_Proceedings = pd.read_csv(os.path.join(filepath,'factProceedings.csv'))"
   ]
  },
  {
   "cell_type": "code",
   "execution_count": 31,
   "metadata": {},
   "outputs": [],
   "source": [
    "# Remove Wei Wei from df_Invited\n",
    "df_Invited = df_Invited[df_Invited['Full name'] != \"Wei Wei\"]"
   ]
  },
  {
   "cell_type": "code",
   "execution_count": 7,
   "metadata": {},
   "outputs": [],
   "source": [
    "# Add age\n",
    "df_Invited['Age'] = np.where(df_Invited['First year paper'] == 0, 0, np.where(df_Invited['Year'] - df_Invited['First year paper'] < 0, 0, df_Invited['Year'] - df_Invited['First year paper']))\n",
    "df_Proceedings['Age'] = np.where(df_Proceedings['First year paper'] == 0, 0, np.where(df_Proceedings['Year'] - df_Proceedings['First year paper'] < 0, 0, df_Proceedings['Year'] - df_Proceedings['First year paper']))"
   ]
  },
  {
   "cell_type": "code",
   "execution_count": 5,
   "metadata": {},
   "outputs": [],
   "source": [
    "# replace nan values in Year with 2019\n",
    "df_Proceedings['Year'].replace(np.nan, 2019, inplace=True)"
   ]
  },
  {
   "cell_type": "code",
   "execution_count": 8,
   "metadata": {},
   "outputs": [],
   "source": [
    "# Change column types to int\n",
    "def change_column_types_to_int(df, columns):\n",
    "    for column in columns:\n",
    "        df[column] = df[column].astype(int)\n",
    "    return df\n",
    "\n",
    "df_Invited = change_column_types_to_int(df_Invited,['Year','Paper Count','Max Paper Count','First year paper','Age'])\n",
    "df_Proceedings = change_column_types_to_int(df_Proceedings,['Year','Paper Count','Max Paper Count','First year paper','Age'])"
   ]
  },
  {
   "cell_type": "code",
   "execution_count": 9,
   "metadata": {},
   "outputs": [],
   "source": [
    "# Add field\n",
    "df_conference = pd.read_csv(os.path.join(filepath,'Dimension Tables','Conference_Field_Name.csv'))\n",
    "\n",
    "df_Invited = df_Invited.merge(df_conference, how='left', on='Conference (short)')\n",
    "df_Proceedings = df_Proceedings.merge(df_conference, how='left', on='Conference (short)')\n",
    "\n",
    "df_Invited = df_Invited.drop(['Subcategori Topic'],axis=1)\n",
    "df_Proceedings = df_Proceedings.drop(['Subcategori Topic'],axis=1)"
   ]
  },
  {
   "cell_type": "code",
   "execution_count": 10,
   "metadata": {},
   "outputs": [],
   "source": [
    "# Add Productivity column\n",
    "df_Invited['Productivity'] = np.divide(df_Invited['Paper Count'],df_Invited['Age'])\n",
    "df_Invited['Productivity'] = df_Invited['Productivity'].replace([np.inf, -np.inf,np.nan], 0)\n",
    "\n",
    "df_Proceedings['Productivity'] = np.divide(df_Proceedings['Paper Count'],df_Proceedings['Age'])\n",
    "df_Proceedings['Productivity'] = df_Proceedings['Productivity'].replace([np.inf, -np.inf,np.nan], 0)"
   ]
  },
  {
   "cell_type": "code",
   "execution_count": 11,
   "metadata": {},
   "outputs": [],
   "source": [
    "# Remove conference\n",
    "df_Invited = df_Invited[~df_Invited['Conference (short)'].isin([\"ECCV\",\"ICIP\",\"CVPR\"])]\n",
    "df_Proceedings = df_Proceedings[~df_Proceedings['Conference (short)'].isin([\"ECCV\",\"ICIP\",\"CVPR\"])]"
   ]
  },
  {
   "cell_type": "code",
   "execution_count": 12,
   "metadata": {},
   "outputs": [],
   "source": [
    "# Only include data after 2003\n",
    "df_Invited = df_Invited[df_Invited['Year'] >= 2003]\n",
    "df_Proceedings = df_Proceedings[df_Proceedings['Year'] >= 2003]\n",
    "\n",
    "df_Invited = df_Invited[df_Invited['Year'] <= 2022]\n",
    "df_Proceedings = df_Proceedings[df_Proceedings['Year'] <= 2022]"
   ]
  },
  {
   "cell_type": "code",
   "execution_count": 16,
   "metadata": {},
   "outputs": [],
   "source": [
    "df_Invited['Conference (short)'].replace(\"ic2s2\", \"IC2S2\", inplace=True)"
   ]
  },
  {
   "cell_type": "code",
   "execution_count": 32,
   "metadata": {},
   "outputs": [],
   "source": [
    "# Save tables\n",
    "df_Invited.to_csv(os.path.join(filepath,'factInvited.csv'), index=False)\n",
    "df_Proceedings.to_csv(os.path.join(filepath,'factProceedings.csv'), index=False)"
   ]
  }
 ],
 "metadata": {
  "kernelspec": {
   "display_name": "Python 3",
   "language": "python",
   "name": "python3"
  },
  "language_info": {
   "codemirror_mode": {
    "name": "ipython",
    "version": 3
   },
   "file_extension": ".py",
   "mimetype": "text/x-python",
   "name": "python",
   "nbconvert_exporter": "python",
   "pygments_lexer": "ipython3",
   "version": "3.11.1"
  },
  "orig_nbformat": 4,
  "vscode": {
   "interpreter": {
    "hash": "d92ff415db99feb7da45e8748a5c23d5d44d2038e70d5b05ab6a02856c817802"
   }
  }
 },
 "nbformat": 4,
 "nbformat_minor": 2
}
