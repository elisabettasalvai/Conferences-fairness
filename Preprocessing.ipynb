{
 "cells": [
  {
   "cell_type": "code",
   "execution_count": 16,
   "metadata": {},
   "outputs": [],
   "source": [
    "# load setup.py file\n",
    "%run setup.py\n",
    "# change number of lines in dataframe\n",
    "pd.set_option('display.max_rows', None)"
   ]
  },
  {
   "cell_type": "code",
   "execution_count": 17,
   "metadata": {},
   "outputs": [
    {
     "name": "stdout",
     "output_type": "stream",
     "text": [
      "Number of rows: 97795\n"
     ]
    },
    {
     "data": {
      "text/html": [
       "<div>\n",
       "<style scoped>\n",
       "    .dataframe tbody tr th:only-of-type {\n",
       "        vertical-align: middle;\n",
       "    }\n",
       "\n",
       "    .dataframe tbody tr th {\n",
       "        vertical-align: top;\n",
       "    }\n",
       "\n",
       "    .dataframe thead th {\n",
       "        text-align: right;\n",
       "    }\n",
       "</style>\n",
       "<table border=\"1\" class=\"dataframe\">\n",
       "  <thead>\n",
       "    <tr style=\"text-align: right;\">\n",
       "      <th></th>\n",
       "      <th>name</th>\n",
       "      <th>code</th>\n",
       "      <th>gender</th>\n",
       "      <th>wgt</th>\n",
       "    </tr>\n",
       "  </thead>\n",
       "  <tbody>\n",
       "    <tr>\n",
       "      <th>758</th>\n",
       "      <td>aaban</td>\n",
       "      <td>US</td>\n",
       "      <td>M</td>\n",
       "      <td>1.0</td>\n",
       "    </tr>\n",
       "    <tr>\n",
       "      <th>1857914</th>\n",
       "      <td>lexxy</td>\n",
       "      <td>US</td>\n",
       "      <td>F</td>\n",
       "      <td>1.0</td>\n",
       "    </tr>\n",
       "    <tr>\n",
       "      <th>1857667</th>\n",
       "      <td>lexia</td>\n",
       "      <td>US</td>\n",
       "      <td>F</td>\n",
       "      <td>1.0</td>\n",
       "    </tr>\n",
       "    <tr>\n",
       "      <th>1857563</th>\n",
       "      <td>lexi</td>\n",
       "      <td>US</td>\n",
       "      <td>F</td>\n",
       "      <td>1.0</td>\n",
       "    </tr>\n",
       "    <tr>\n",
       "      <th>1857549</th>\n",
       "      <td>lexey</td>\n",
       "      <td>US</td>\n",
       "      <td>F</td>\n",
       "      <td>1.0</td>\n",
       "    </tr>\n",
       "  </tbody>\n",
       "</table>\n",
       "</div>"
      ],
      "text/plain": [
       "          name code gender  wgt\n",
       "758      aaban   US      M  1.0\n",
       "1857914  lexxy   US      F  1.0\n",
       "1857667  lexia   US      F  1.0\n",
       "1857563   lexi   US      F  1.0\n",
       "1857549  lexey   US      F  1.0"
      ]
     },
     "execution_count": 17,
     "metadata": {},
     "output_type": "execute_result"
    }
   ],
   "source": [
    "def append_data(folder):\n",
    "    all_files = glob.glob(folder + \"/*.csv\")\n",
    "    df = pd.DataFrame()\n",
    "    for file in all_files:\n",
    "        df_temp = pd.read_csv(file, index_col=None)\n",
    "        df_temp['File name'] = os.path.splitext(os.path.basename(file))[0]\n",
    "        df = df.append(df_temp, ignore_index=True)\n",
    "    df['Conference (short)'] = df['File name'].str.split('_').str[0]\n",
    "    df = df.drop([\"Field\",\"File name\"], axis=1)\n",
    "    try:\n",
    "        df = df.drop([\"Key Note Speaker\"], axis=1)\n",
    "    except:\n",
    "        pass\n",
    "    return df\n",
    "\n",
    "def Name_preprocessing(df):\n",
    "    # First Name\n",
    "    df['First name'] = df['Full name'].str.split(' ').str[0].str.lower()\n",
    "    df['First name'] = df[\"First name\"].str.normalize('NFKD')\\\n",
    "       .str.encode('ascii', errors='ignore')\\\n",
    "       .str.decode('utf-8')\n",
    "    print(\"Number of rows where the first name only contains abbreviation: \", df[df['First name'].str.contains('^[a-z]\\.$')].shape[0])\n",
    "    print(\"These rows will be removed\")\n",
    "    df = df[~df['First name'].str.contains('^[a-z]\\.$')]\n",
    "    print(\"There are now:\",df.shape[0],\"rows\")\n",
    "       \n",
    "    # Middel and Last Name\n",
    "    df['Middle name'] = df['Full name'].str.split(' ').str[1]\n",
    "    df['Last name (temp)'] = df['Full name'].str.split(' ').str[2]\n",
    "    df['Last name'] = np.where(df['Last name (temp)'].isnull(), df['Middle name'], df['Last name (temp)'])\n",
    "    df['Middle name'] = np.where(df['Last name (temp)'].isnull(), np.nan, df['Middle name'])\n",
    "    df = df.drop([\"Last name (temp)\"], axis=1)\n",
    "    return df\n",
    "\n",
    "def Middle_name_clean(df):\n",
    "    # Find all rows with different middle names\n",
    "    row_to_remove = df[df.duplicated(['First name','Last name'], keep=False)].sort_values(['First name','Last name']).drop_duplicates(subset=['First name','Middle name','Last name'], keep=False).drop_duplicates(subset=['First name','Last name'], keep=False)\n",
    "    rows_to_change = df[df.duplicated(['First name','Last name'], keep=False)].sort_values(['First name','Last name']).drop_duplicates(subset=['First name','Middle name','Last name'], keep=False)\n",
    "    rows_to_change = rows_to_change[~rows_to_change.isin(row_to_remove)].dropna(how='all').sort_values(['First name','Last name','Middle name'])\n",
    "\n",
    "    for i in range(len(rows_to_change)-1):\n",
    "        if (rows_to_change.iloc[i]['First name'] == rows_to_change.iloc[i+1]['First name']) and (rows_to_change.iloc[i]['Last name'] == rows_to_change.iloc[i+1]['Last name']):\n",
    "            if pd.isnull(rows_to_change.iloc[i+1]['Middle name']):\n",
    "                rows_to_change.iloc[i+1,rows_to_change.columns.get_loc('Middle name')] = rows_to_change.iloc[i]['Middle name']\n",
    "    \n",
    "    # Overwrite the Middle name\n",
    "    df.loc[rows_to_change.index,'Middle name'] = rows_to_change['Middle name']\n",
    "    df['Full name'] = df['First name'].str.capitalize() + ' ' + df['Middle name'].fillna('') + ' ' + df['Last name']\n",
    "    return df\n",
    "\n",
    "#############################################\n",
    "# Gender Data\n",
    "#############################################\n",
    "name_df = pd.read_csv('Dimension Tables/wgnd_2_0_name-gender-code.csv')\n",
    "# Keep only US or DK names\n",
    "name_df = name_df[(name_df['code'] == 'US') | (name_df['code'] == 'DK')]\n",
    "# drop duplicates\n",
    "name_df = name_df.drop_duplicates(subset=['name',\"gender\"], keep='first')\n",
    "# for all duplicated value keep the row with the max \"wgt\" value\n",
    "name_df = name_df.sort_values('wgt', ascending=False).drop_duplicates(subset=['name'], keep='first')\n",
    "\n",
    "print(\"Number of rows:\", len(name_df))\n",
    "name_df.head()"
   ]
  },
  {
   "attachments": {},
   "cell_type": "markdown",
   "metadata": {},
   "source": [
    "# Key Note Speakers"
   ]
  },
  {
   "attachments": {},
   "cell_type": "markdown",
   "metadata": {},
   "source": [
    "#### Load and combine all .csv files in the folder"
   ]
  },
  {
   "cell_type": "code",
   "execution_count": 18,
   "metadata": {},
   "outputs": [
    {
     "name": "stdout",
     "output_type": "stream",
     "text": [
      "Number of rows: 2044\n"
     ]
    },
    {
     "data": {
      "text/html": [
       "<div>\n",
       "<style scoped>\n",
       "    .dataframe tbody tr th:only-of-type {\n",
       "        vertical-align: middle;\n",
       "    }\n",
       "\n",
       "    .dataframe tbody tr th {\n",
       "        vertical-align: top;\n",
       "    }\n",
       "\n",
       "    .dataframe thead th {\n",
       "        text-align: right;\n",
       "    }\n",
       "</style>\n",
       "<table border=\"1\" class=\"dataframe\">\n",
       "  <thead>\n",
       "    <tr style=\"text-align: right;\">\n",
       "      <th></th>\n",
       "      <th>Full name</th>\n",
       "      <th>Year</th>\n",
       "      <th>Sex</th>\n",
       "      <th>Conference (short)</th>\n",
       "    </tr>\n",
       "  </thead>\n",
       "  <tbody>\n",
       "    <tr>\n",
       "      <th>0</th>\n",
       "      <td>Atsushi Asada</td>\n",
       "      <td>1995</td>\n",
       "      <td>0</td>\n",
       "      <td>ASPDAC</td>\n",
       "    </tr>\n",
       "    <tr>\n",
       "      <th>1</th>\n",
       "      <td>Jim Meadlock</td>\n",
       "      <td>1995</td>\n",
       "      <td>0</td>\n",
       "      <td>ASPDAC</td>\n",
       "    </tr>\n",
       "    <tr>\n",
       "      <th>2</th>\n",
       "      <td>John Darringer</td>\n",
       "      <td>1995</td>\n",
       "      <td>0</td>\n",
       "      <td>ASPDAC</td>\n",
       "    </tr>\n",
       "    <tr>\n",
       "      <th>3</th>\n",
       "      <td>Tatsuo Izawa</td>\n",
       "      <td>1997</td>\n",
       "      <td>0</td>\n",
       "      <td>ASPDAC</td>\n",
       "    </tr>\n",
       "    <tr>\n",
       "      <th>4</th>\n",
       "      <td>Daniel D. Gajski</td>\n",
       "      <td>1997</td>\n",
       "      <td>0</td>\n",
       "      <td>ASPDAC</td>\n",
       "    </tr>\n",
       "  </tbody>\n",
       "</table>\n",
       "</div>"
      ],
      "text/plain": [
       "          Full name  Year Sex Conference (short)\n",
       "0     Atsushi Asada  1995   0             ASPDAC\n",
       "1      Jim Meadlock  1995   0             ASPDAC\n",
       "2    John Darringer  1995   0             ASPDAC\n",
       "3      Tatsuo Izawa  1997   0             ASPDAC\n",
       "4  Daniel D. Gajski  1997   0             ASPDAC"
      ]
     },
     "execution_count": 18,
     "metadata": {},
     "output_type": "execute_result"
    }
   ],
   "source": [
    "df = append_data('Invited Speakers')\n",
    "print(\"Number of rows:\", len(df))\n",
    "df.head()"
   ]
  },
  {
   "attachments": {},
   "cell_type": "markdown",
   "metadata": {},
   "source": [
    "#### Clean the name columns"
   ]
  },
  {
   "cell_type": "code",
   "execution_count": 19,
   "metadata": {},
   "outputs": [
    {
     "name": "stdout",
     "output_type": "stream",
     "text": [
      "Number of rows where the first name only contains abbreviation:  112\n",
      "These rows will be removed\n",
      "There are now: 1932 rows\n"
     ]
    },
    {
     "data": {
      "text/html": [
       "<div>\n",
       "<style scoped>\n",
       "    .dataframe tbody tr th:only-of-type {\n",
       "        vertical-align: middle;\n",
       "    }\n",
       "\n",
       "    .dataframe tbody tr th {\n",
       "        vertical-align: top;\n",
       "    }\n",
       "\n",
       "    .dataframe thead th {\n",
       "        text-align: right;\n",
       "    }\n",
       "</style>\n",
       "<table border=\"1\" class=\"dataframe\">\n",
       "  <thead>\n",
       "    <tr style=\"text-align: right;\">\n",
       "      <th></th>\n",
       "      <th>Full name</th>\n",
       "      <th>Year</th>\n",
       "      <th>Sex</th>\n",
       "      <th>Conference (short)</th>\n",
       "      <th>First name</th>\n",
       "      <th>Middle name</th>\n",
       "      <th>Last name</th>\n",
       "    </tr>\n",
       "  </thead>\n",
       "  <tbody>\n",
       "    <tr>\n",
       "      <th>0</th>\n",
       "      <td>Atsushi Asada</td>\n",
       "      <td>1995</td>\n",
       "      <td>0</td>\n",
       "      <td>ASPDAC</td>\n",
       "      <td>atsushi</td>\n",
       "      <td>NaN</td>\n",
       "      <td>Asada</td>\n",
       "    </tr>\n",
       "    <tr>\n",
       "      <th>1</th>\n",
       "      <td>Jim Meadlock</td>\n",
       "      <td>1995</td>\n",
       "      <td>0</td>\n",
       "      <td>ASPDAC</td>\n",
       "      <td>jim</td>\n",
       "      <td>NaN</td>\n",
       "      <td>Meadlock</td>\n",
       "    </tr>\n",
       "    <tr>\n",
       "      <th>2</th>\n",
       "      <td>John Darringer</td>\n",
       "      <td>1995</td>\n",
       "      <td>0</td>\n",
       "      <td>ASPDAC</td>\n",
       "      <td>john</td>\n",
       "      <td>NaN</td>\n",
       "      <td>Darringer</td>\n",
       "    </tr>\n",
       "    <tr>\n",
       "      <th>3</th>\n",
       "      <td>Tatsuo Izawa</td>\n",
       "      <td>1997</td>\n",
       "      <td>0</td>\n",
       "      <td>ASPDAC</td>\n",
       "      <td>tatsuo</td>\n",
       "      <td>NaN</td>\n",
       "      <td>Izawa</td>\n",
       "    </tr>\n",
       "    <tr>\n",
       "      <th>4</th>\n",
       "      <td>Daniel D. Gajski</td>\n",
       "      <td>1997</td>\n",
       "      <td>0</td>\n",
       "      <td>ASPDAC</td>\n",
       "      <td>daniel</td>\n",
       "      <td>D.</td>\n",
       "      <td>Gajski</td>\n",
       "    </tr>\n",
       "  </tbody>\n",
       "</table>\n",
       "</div>"
      ],
      "text/plain": [
       "          Full name  Year Sex Conference (short) First name Middle name  \\\n",
       "0     Atsushi Asada  1995   0             ASPDAC    atsushi         NaN   \n",
       "1      Jim Meadlock  1995   0             ASPDAC        jim         NaN   \n",
       "2    John Darringer  1995   0             ASPDAC       john         NaN   \n",
       "3      Tatsuo Izawa  1997   0             ASPDAC     tatsuo         NaN   \n",
       "4  Daniel D. Gajski  1997   0             ASPDAC     daniel          D.   \n",
       "\n",
       "   Last name  \n",
       "0      Asada  \n",
       "1   Meadlock  \n",
       "2  Darringer  \n",
       "3      Izawa  \n",
       "4     Gajski  "
      ]
     },
     "execution_count": 19,
     "metadata": {},
     "output_type": "execute_result"
    }
   ],
   "source": [
    "df = Name_preprocessing(df)\n",
    "df.head()"
   ]
  },
  {
   "attachments": {},
   "cell_type": "markdown",
   "metadata": {},
   "source": [
    "#### Add gender data"
   ]
  },
  {
   "cell_type": "code",
   "execution_count": 20,
   "metadata": {},
   "outputs": [
    {
     "name": "stdout",
     "output_type": "stream",
     "text": [
      "Number of rows with null value in gender: 167\n",
      "Number of rows after removal of unknown genders: 1765\n"
     ]
    },
    {
     "data": {
      "text/html": [
       "<div>\n",
       "<style scoped>\n",
       "    .dataframe tbody tr th:only-of-type {\n",
       "        vertical-align: middle;\n",
       "    }\n",
       "\n",
       "    .dataframe tbody tr th {\n",
       "        vertical-align: top;\n",
       "    }\n",
       "\n",
       "    .dataframe thead th {\n",
       "        text-align: right;\n",
       "    }\n",
       "</style>\n",
       "<table border=\"1\" class=\"dataframe\">\n",
       "  <thead>\n",
       "    <tr style=\"text-align: right;\">\n",
       "      <th></th>\n",
       "      <th>Full name</th>\n",
       "      <th>Year</th>\n",
       "      <th>Sex</th>\n",
       "      <th>Conference (short)</th>\n",
       "      <th>First name</th>\n",
       "      <th>Middle name</th>\n",
       "      <th>Last name</th>\n",
       "      <th>gender</th>\n",
       "    </tr>\n",
       "  </thead>\n",
       "  <tbody>\n",
       "    <tr>\n",
       "      <th>0</th>\n",
       "      <td>Atsushi Asada</td>\n",
       "      <td>1995</td>\n",
       "      <td>0</td>\n",
       "      <td>ASPDAC</td>\n",
       "      <td>atsushi</td>\n",
       "      <td>NaN</td>\n",
       "      <td>Asada</td>\n",
       "      <td>M</td>\n",
       "    </tr>\n",
       "    <tr>\n",
       "      <th>1</th>\n",
       "      <td>Jim Meadlock</td>\n",
       "      <td>1995</td>\n",
       "      <td>0</td>\n",
       "      <td>ASPDAC</td>\n",
       "      <td>jim</td>\n",
       "      <td>NaN</td>\n",
       "      <td>Meadlock</td>\n",
       "      <td>M</td>\n",
       "    </tr>\n",
       "    <tr>\n",
       "      <th>2</th>\n",
       "      <td>John Darringer</td>\n",
       "      <td>1995</td>\n",
       "      <td>0</td>\n",
       "      <td>ASPDAC</td>\n",
       "      <td>john</td>\n",
       "      <td>NaN</td>\n",
       "      <td>Darringer</td>\n",
       "      <td>M</td>\n",
       "    </tr>\n",
       "    <tr>\n",
       "      <th>3</th>\n",
       "      <td>Tatsuo Izawa</td>\n",
       "      <td>1997</td>\n",
       "      <td>0</td>\n",
       "      <td>ASPDAC</td>\n",
       "      <td>tatsuo</td>\n",
       "      <td>NaN</td>\n",
       "      <td>Izawa</td>\n",
       "      <td>M</td>\n",
       "    </tr>\n",
       "    <tr>\n",
       "      <th>4</th>\n",
       "      <td>Daniel D. Gajski</td>\n",
       "      <td>1997</td>\n",
       "      <td>0</td>\n",
       "      <td>ASPDAC</td>\n",
       "      <td>daniel</td>\n",
       "      <td>D.</td>\n",
       "      <td>Gajski</td>\n",
       "      <td>M</td>\n",
       "    </tr>\n",
       "  </tbody>\n",
       "</table>\n",
       "</div>"
      ],
      "text/plain": [
       "          Full name  Year Sex Conference (short) First name Middle name  \\\n",
       "0     Atsushi Asada  1995   0             ASPDAC    atsushi         NaN   \n",
       "1      Jim Meadlock  1995   0             ASPDAC        jim         NaN   \n",
       "2    John Darringer  1995   0             ASPDAC       john         NaN   \n",
       "3      Tatsuo Izawa  1997   0             ASPDAC     tatsuo         NaN   \n",
       "4  Daniel D. Gajski  1997   0             ASPDAC     daniel          D.   \n",
       "\n",
       "   Last name gender  \n",
       "0      Asada      M  \n",
       "1   Meadlock      M  \n",
       "2  Darringer      M  \n",
       "3      Izawa      M  \n",
       "4     Gajski      M  "
      ]
     },
     "execution_count": 20,
     "metadata": {},
     "output_type": "execute_result"
    }
   ],
   "source": [
    "# merge df and name_df by \"First name\" and \"name\" and include \"Gender column\"\n",
    "df = pd.merge(df, name_df, how='left', left_on='First name', right_on='name')\n",
    "\n",
    "# Drop unnecessary columns\n",
    "df = df.drop(['name', 'code', 'wgt'], axis=1)\n",
    "\n",
    "print(\"Number of rows with null value in gender:\", df[\"gender\"].isnull().sum())\n",
    "\n",
    "# Drop all rows with nan value in gender column #TODO\n",
    "df = df.dropna(subset=['gender'])\n",
    "print(\"Number of rows after removal of unknown genders:\", len(df))\n",
    "\n",
    "df.head()"
   ]
  },
  {
   "attachments": {},
   "cell_type": "markdown",
   "metadata": {},
   "source": [
    "##### Clean up gender columns"
   ]
  },
  {
   "cell_type": "code",
   "execution_count": 21,
   "metadata": {},
   "outputs": [],
   "source": [
    "df['Sex'].replace(np.nan, 'unknown', inplace=True)\n",
    "df['Sex'].replace('x','unknown',inplace=True)\n",
    "df['Sex'].replace('0','M',inplace=True)\n",
    "df['Sex'].replace(0,'M',inplace=True)\n",
    "df['Sex'].replace('1','F',inplace=True)\n",
    "df['Sex'].replace(1,'F',inplace=True)"
   ]
  },
  {
   "cell_type": "code",
   "execution_count": 22,
   "metadata": {},
   "outputs": [
    {
     "name": "stdout",
     "output_type": "stream",
     "text": [
      "Number of rows where \"Sex\" is F and \"gender\" is M: 3\n",
      "Number of rows where \"Sex\" is M and \"gender\" is F: 10\n"
     ]
    }
   ],
   "source": [
    "print('Number of rows where \"Sex\" is F and \"gender\" is M:',len(np.where((df['Sex'] == 'F') & (df['gender']=='M'))[0]))\n",
    "print('Number of rows where \"Sex\" is M and \"gender\" is F:',len(np.where((df['Sex'] == 'M') & (df['gender']=='F'))[0]))\n",
    "\n",
    "# Overwrite the value in column 'gender' with the 'Sex' column\n",
    "df.loc[df['Sex'] == 'F', 'gender'] = 'F'  \n",
    "df.loc[df['Sex'] == 'M', 'gender'] = 'M'   \n",
    "\n",
    "# Drop unnecessary columns\n",
    "df = df.drop(['Sex'],axis=1)"
   ]
  },
  {
   "attachments": {},
   "cell_type": "markdown",
   "metadata": {},
   "source": [
    "#### Fix unique names"
   ]
  },
  {
   "cell_type": "code",
   "execution_count": 23,
   "metadata": {},
   "outputs": [
    {
     "name": "stdout",
     "output_type": "stream",
     "text": [
      "Before: There are  1520  unique names\n",
      "After: There are  1515  unique names\n"
     ]
    }
   ],
   "source": [
    "print(\"Before: There are \",df['Full name'].nunique(),\" unique names\")\n",
    "df = Middle_name_clean(df)\n",
    "print(\"After: There are \",df['Full name'].nunique(),\" unique names\")"
   ]
  },
  {
   "attachments": {},
   "cell_type": "markdown",
   "metadata": {},
   "source": [
    "#### Save factTable"
   ]
  },
  {
   "cell_type": "code",
   "execution_count": 67,
   "metadata": {},
   "outputs": [],
   "source": [
    "df.to_csv(\"factInvited.csv\", index=False)"
   ]
  },
  {
   "attachments": {},
   "cell_type": "markdown",
   "metadata": {},
   "source": [
    "# Proceedings"
   ]
  },
  {
   "attachments": {},
   "cell_type": "markdown",
   "metadata": {},
   "source": [
    "#### Load and combine all .csv files in the folder"
   ]
  },
  {
   "cell_type": "code",
   "execution_count": 24,
   "metadata": {},
   "outputs": [
    {
     "name": "stdout",
     "output_type": "stream",
     "text": [
      "Number of rows: 407531\n"
     ]
    },
    {
     "data": {
      "text/html": [
       "<div>\n",
       "<style scoped>\n",
       "    .dataframe tbody tr th:only-of-type {\n",
       "        vertical-align: middle;\n",
       "    }\n",
       "\n",
       "    .dataframe tbody tr th {\n",
       "        vertical-align: top;\n",
       "    }\n",
       "\n",
       "    .dataframe thead th {\n",
       "        text-align: right;\n",
       "    }\n",
       "</style>\n",
       "<table border=\"1\" class=\"dataframe\">\n",
       "  <thead>\n",
       "    <tr style=\"text-align: right;\">\n",
       "      <th></th>\n",
       "      <th>Full name</th>\n",
       "      <th>Year</th>\n",
       "      <th>Conference (short)</th>\n",
       "    </tr>\n",
       "  </thead>\n",
       "  <tbody>\n",
       "    <tr>\n",
       "      <th>407526</th>\n",
       "      <td>Julià Minguillón</td>\n",
       "      <td>2022</td>\n",
       "      <td>WWW</td>\n",
       "    </tr>\n",
       "    <tr>\n",
       "      <th>407527</th>\n",
       "      <td>Tiziano Piccardi</td>\n",
       "      <td>2022</td>\n",
       "      <td>WWW</td>\n",
       "    </tr>\n",
       "    <tr>\n",
       "      <th>407528</th>\n",
       "      <td>Martin Gerlach</td>\n",
       "      <td>2022</td>\n",
       "      <td>WWW</td>\n",
       "    </tr>\n",
       "    <tr>\n",
       "      <th>407529</th>\n",
       "      <td>Robert West</td>\n",
       "      <td>2022</td>\n",
       "      <td>WWW</td>\n",
       "    </tr>\n",
       "    <tr>\n",
       "      <th>407530</th>\n",
       "      <td>Subhashish Panigrahi</td>\n",
       "      <td>2022</td>\n",
       "      <td>WWW</td>\n",
       "    </tr>\n",
       "  </tbody>\n",
       "</table>\n",
       "</div>"
      ],
      "text/plain": [
       "                   Full name  Year Conference (short)\n",
       "407526      Julià Minguillón  2022                WWW\n",
       "407527      Tiziano Piccardi  2022                WWW\n",
       "407528        Martin Gerlach  2022                WWW\n",
       "407529           Robert West  2022                WWW\n",
       "407530  Subhashish Panigrahi  2022                WWW"
      ]
     },
     "execution_count": 24,
     "metadata": {},
     "output_type": "execute_result"
    }
   ],
   "source": [
    "# Append all files in Data folder as a datafrom, and add a column for the file name without the extension and folder name\n",
    "df = append_data('Proceedings')\n",
    "print(\"Number of rows:\", len(df))\n",
    "df.tail()"
   ]
  },
  {
   "attachments": {},
   "cell_type": "markdown",
   "metadata": {},
   "source": [
    "#### Clean the names"
   ]
  },
  {
   "cell_type": "code",
   "execution_count": 25,
   "metadata": {},
   "outputs": [
    {
     "name": "stdout",
     "output_type": "stream",
     "text": [
      "Number of rows where the first name only contains abbreviation:  5709\n",
      "These rows will be removed\n",
      "There are now: 401822 rows\n"
     ]
    },
    {
     "data": {
      "text/html": [
       "<div>\n",
       "<style scoped>\n",
       "    .dataframe tbody tr th:only-of-type {\n",
       "        vertical-align: middle;\n",
       "    }\n",
       "\n",
       "    .dataframe tbody tr th {\n",
       "        vertical-align: top;\n",
       "    }\n",
       "\n",
       "    .dataframe thead th {\n",
       "        text-align: right;\n",
       "    }\n",
       "</style>\n",
       "<table border=\"1\" class=\"dataframe\">\n",
       "  <thead>\n",
       "    <tr style=\"text-align: right;\">\n",
       "      <th></th>\n",
       "      <th>Full name</th>\n",
       "      <th>Year</th>\n",
       "      <th>Conference (short)</th>\n",
       "      <th>First name</th>\n",
       "      <th>Middle name</th>\n",
       "      <th>Last name</th>\n",
       "    </tr>\n",
       "  </thead>\n",
       "  <tbody>\n",
       "    <tr>\n",
       "      <th>0</th>\n",
       "      <td>Isao Shirakawa</td>\n",
       "      <td>1995</td>\n",
       "      <td>ASPDAC</td>\n",
       "      <td>isao</td>\n",
       "      <td>NaN</td>\n",
       "      <td>Shirakawa</td>\n",
       "    </tr>\n",
       "    <tr>\n",
       "      <th>1</th>\n",
       "      <td>Wen-Zen Shen</td>\n",
       "      <td>1995</td>\n",
       "      <td>ASPDAC</td>\n",
       "      <td>wen-zen</td>\n",
       "      <td>NaN</td>\n",
       "      <td>Shen</td>\n",
       "    </tr>\n",
       "    <tr>\n",
       "      <th>2</th>\n",
       "      <td>Jiing-Yuan Lin</td>\n",
       "      <td>1995</td>\n",
       "      <td>ASPDAC</td>\n",
       "      <td>jiing-yuan</td>\n",
       "      <td>NaN</td>\n",
       "      <td>Lin</td>\n",
       "    </tr>\n",
       "    <tr>\n",
       "      <th>3</th>\n",
       "      <td>Fong-Wen Wang</td>\n",
       "      <td>1995</td>\n",
       "      <td>ASPDAC</td>\n",
       "      <td>fong-wen</td>\n",
       "      <td>NaN</td>\n",
       "      <td>Wang</td>\n",
       "    </tr>\n",
       "    <tr>\n",
       "      <th>4</th>\n",
       "      <td>How-Rern Lin</td>\n",
       "      <td>1995</td>\n",
       "      <td>ASPDAC</td>\n",
       "      <td>how-rern</td>\n",
       "      <td>NaN</td>\n",
       "      <td>Lin</td>\n",
       "    </tr>\n",
       "  </tbody>\n",
       "</table>\n",
       "</div>"
      ],
      "text/plain": [
       "        Full name  Year Conference (short)  First name Middle name  Last name\n",
       "0  Isao Shirakawa  1995             ASPDAC        isao         NaN  Shirakawa\n",
       "1    Wen-Zen Shen  1995             ASPDAC     wen-zen         NaN       Shen\n",
       "2  Jiing-Yuan Lin  1995             ASPDAC  jiing-yuan         NaN        Lin\n",
       "3   Fong-Wen Wang  1995             ASPDAC    fong-wen         NaN       Wang\n",
       "4    How-Rern Lin  1995             ASPDAC    how-rern         NaN        Lin"
      ]
     },
     "execution_count": 25,
     "metadata": {},
     "output_type": "execute_result"
    }
   ],
   "source": [
    "df = Name_preprocessing(df)\n",
    "df.head()"
   ]
  },
  {
   "attachments": {},
   "cell_type": "markdown",
   "metadata": {},
   "source": [
    "#### Add gender data"
   ]
  },
  {
   "cell_type": "code",
   "execution_count": 26,
   "metadata": {},
   "outputs": [
    {
     "name": "stdout",
     "output_type": "stream",
     "text": [
      "Number of rows with null value in gender: 112432\n",
      "Number of rows after removal of unknown genders: 289390\n"
     ]
    },
    {
     "data": {
      "text/html": [
       "<div>\n",
       "<style scoped>\n",
       "    .dataframe tbody tr th:only-of-type {\n",
       "        vertical-align: middle;\n",
       "    }\n",
       "\n",
       "    .dataframe tbody tr th {\n",
       "        vertical-align: top;\n",
       "    }\n",
       "\n",
       "    .dataframe thead th {\n",
       "        text-align: right;\n",
       "    }\n",
       "</style>\n",
       "<table border=\"1\" class=\"dataframe\">\n",
       "  <thead>\n",
       "    <tr style=\"text-align: right;\">\n",
       "      <th></th>\n",
       "      <th>Full name</th>\n",
       "      <th>Year</th>\n",
       "      <th>Conference (short)</th>\n",
       "      <th>First name</th>\n",
       "      <th>Middle name</th>\n",
       "      <th>Last name</th>\n",
       "      <th>gender</th>\n",
       "    </tr>\n",
       "  </thead>\n",
       "  <tbody>\n",
       "    <tr>\n",
       "      <th>0</th>\n",
       "      <td>Isao Shirakawa</td>\n",
       "      <td>1995</td>\n",
       "      <td>ASPDAC</td>\n",
       "      <td>isao</td>\n",
       "      <td>NaN</td>\n",
       "      <td>Shirakawa</td>\n",
       "      <td>M</td>\n",
       "    </tr>\n",
       "    <tr>\n",
       "      <th>5</th>\n",
       "      <td>TingTing Hwang</td>\n",
       "      <td>1995</td>\n",
       "      <td>ASPDAC</td>\n",
       "      <td>tingting</td>\n",
       "      <td>NaN</td>\n",
       "      <td>Hwang</td>\n",
       "      <td>F</td>\n",
       "    </tr>\n",
       "    <tr>\n",
       "      <th>6</th>\n",
       "      <td>Sanjay Dhar</td>\n",
       "      <td>1995</td>\n",
       "      <td>ASPDAC</td>\n",
       "      <td>sanjay</td>\n",
       "      <td>NaN</td>\n",
       "      <td>Dhar</td>\n",
       "      <td>M</td>\n",
       "    </tr>\n",
       "    <tr>\n",
       "      <th>7</th>\n",
       "      <td>Dave J. Gurney</td>\n",
       "      <td>1995</td>\n",
       "      <td>ASPDAC</td>\n",
       "      <td>dave</td>\n",
       "      <td>J.</td>\n",
       "      <td>Gurney</td>\n",
       "      <td>M</td>\n",
       "    </tr>\n",
       "    <tr>\n",
       "      <th>8</th>\n",
       "      <td>Michel Thill</td>\n",
       "      <td>1995</td>\n",
       "      <td>ASPDAC</td>\n",
       "      <td>michel</td>\n",
       "      <td>NaN</td>\n",
       "      <td>Thill</td>\n",
       "      <td>M</td>\n",
       "    </tr>\n",
       "  </tbody>\n",
       "</table>\n",
       "</div>"
      ],
      "text/plain": [
       "        Full name  Year Conference (short) First name Middle name  Last name  \\\n",
       "0  Isao Shirakawa  1995             ASPDAC       isao         NaN  Shirakawa   \n",
       "5  TingTing Hwang  1995             ASPDAC   tingting         NaN      Hwang   \n",
       "6     Sanjay Dhar  1995             ASPDAC     sanjay         NaN       Dhar   \n",
       "7  Dave J. Gurney  1995             ASPDAC       dave          J.     Gurney   \n",
       "8    Michel Thill  1995             ASPDAC     michel         NaN      Thill   \n",
       "\n",
       "  gender  \n",
       "0      M  \n",
       "5      F  \n",
       "6      M  \n",
       "7      M  \n",
       "8      M  "
      ]
     },
     "execution_count": 26,
     "metadata": {},
     "output_type": "execute_result"
    }
   ],
   "source": [
    "# merge df and name_df by \"First name\" and \"name\" and include \"Gender column\"\n",
    "df = pd.merge(df, name_df, how='left', left_on='First name', right_on='name')\n",
    "\n",
    "# Drop unnecessary columns\n",
    "df = df.drop(['name', 'code', 'wgt'], axis=1)\n",
    "\n",
    "print(\"Number of rows with null value in gender:\", df[\"gender\"].isnull().sum())\n",
    "\n",
    "# Drop all rows with nan value in gender column #TODO\n",
    "df = df.dropna(subset=['gender'])\n",
    "print(\"Number of rows after removal of unknown genders:\", len(df))\n",
    "\n",
    "df.head()"
   ]
  },
  {
   "attachments": {},
   "cell_type": "markdown",
   "metadata": {},
   "source": [
    "#### Fix Unique names"
   ]
  },
  {
   "cell_type": "code",
   "execution_count": 27,
   "metadata": {},
   "outputs": [
    {
     "name": "stdout",
     "output_type": "stream",
     "text": [
      "Before: There are  99552  unique names\n",
      "After: There are  98924  unique names\n"
     ]
    }
   ],
   "source": [
    "print(\"Before: There are \",df['Full name'].nunique(),\" unique names\")\n",
    "df = Middle_name_clean(df)\n",
    "print(\"After: There are \",df['Full name'].nunique(),\" unique names\")"
   ]
  },
  {
   "attachments": {},
   "cell_type": "markdown",
   "metadata": {},
   "source": [
    "#### Save factTable"
   ]
  },
  {
   "cell_type": "code",
   "execution_count": 15,
   "metadata": {},
   "outputs": [],
   "source": [
    "df.to_csv(\"factProceedings.csv\", index=False)"
   ]
  }
 ],
 "metadata": {
  "kernelspec": {
   "display_name": "Python 3",
   "language": "python",
   "name": "python3"
  },
  "language_info": {
   "codemirror_mode": {
    "name": "ipython",
    "version": 3
   },
   "file_extension": ".py",
   "mimetype": "text/x-python",
   "name": "python",
   "nbconvert_exporter": "python",
   "pygments_lexer": "ipython3",
   "version": "3.11.1"
  },
  "orig_nbformat": 4,
  "vscode": {
   "interpreter": {
    "hash": "d92ff415db99feb7da45e8748a5c23d5d44d2038e70d5b05ab6a02856c817802"
   }
  }
 },
 "nbformat": 4,
 "nbformat_minor": 2
}
