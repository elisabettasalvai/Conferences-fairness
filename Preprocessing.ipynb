{
 "cells": [
  {
   "attachments": {},
   "cell_type": "markdown",
   "metadata": {},
   "source": [
    "# Data Pre-Processing"
   ]
  },
  {
   "attachments": {},
   "cell_type": "markdown",
   "metadata": {},
   "source": [
    "### Define Functions"
   ]
  },
  {
   "cell_type": "code",
   "execution_count": 1,
   "metadata": {},
   "outputs": [],
   "source": [
    "# load setup.py file\n",
    "%run setup.py\n",
    "# change number of lines in dataframe\n",
    "pd.set_option('display.max_rows', 10)"
   ]
  },
  {
   "cell_type": "code",
   "execution_count": 2,
   "metadata": {},
   "outputs": [
    {
     "name": "stdout",
     "output_type": "stream",
     "text": [
      "Number of rows: 97795\n"
     ]
    },
    {
     "data": {
      "text/html": [
       "<div>\n",
       "<style scoped>\n",
       "    .dataframe tbody tr th:only-of-type {\n",
       "        vertical-align: middle;\n",
       "    }\n",
       "\n",
       "    .dataframe tbody tr th {\n",
       "        vertical-align: top;\n",
       "    }\n",
       "\n",
       "    .dataframe thead th {\n",
       "        text-align: right;\n",
       "    }\n",
       "</style>\n",
       "<table border=\"1\" class=\"dataframe\">\n",
       "  <thead>\n",
       "    <tr style=\"text-align: right;\">\n",
       "      <th></th>\n",
       "      <th>name</th>\n",
       "      <th>code</th>\n",
       "      <th>gender</th>\n",
       "      <th>wgt</th>\n",
       "    </tr>\n",
       "  </thead>\n",
       "  <tbody>\n",
       "    <tr>\n",
       "      <th>758</th>\n",
       "      <td>aaban</td>\n",
       "      <td>US</td>\n",
       "      <td>M</td>\n",
       "      <td>1.0</td>\n",
       "    </tr>\n",
       "    <tr>\n",
       "      <th>1857914</th>\n",
       "      <td>lexxy</td>\n",
       "      <td>US</td>\n",
       "      <td>F</td>\n",
       "      <td>1.0</td>\n",
       "    </tr>\n",
       "    <tr>\n",
       "      <th>1857667</th>\n",
       "      <td>lexia</td>\n",
       "      <td>US</td>\n",
       "      <td>F</td>\n",
       "      <td>1.0</td>\n",
       "    </tr>\n",
       "    <tr>\n",
       "      <th>1857563</th>\n",
       "      <td>lexi</td>\n",
       "      <td>US</td>\n",
       "      <td>F</td>\n",
       "      <td>1.0</td>\n",
       "    </tr>\n",
       "    <tr>\n",
       "      <th>1857549</th>\n",
       "      <td>lexey</td>\n",
       "      <td>US</td>\n",
       "      <td>F</td>\n",
       "      <td>1.0</td>\n",
       "    </tr>\n",
       "  </tbody>\n",
       "</table>\n",
       "</div>"
      ],
      "text/plain": [
       "          name code gender  wgt\n",
       "758      aaban   US      M  1.0\n",
       "1857914  lexxy   US      F  1.0\n",
       "1857667  lexia   US      F  1.0\n",
       "1857563   lexi   US      F  1.0\n",
       "1857549  lexey   US      F  1.0"
      ]
     },
     "execution_count": 2,
     "metadata": {},
     "output_type": "execute_result"
    }
   ],
   "source": [
    "def read_csv_files_from_folder(filepath,folder):\n",
    "    # Step 1: Create a path to all the .csv files in the folder\n",
    "    csv_path = os.path.join(filepath, folder, \"*.csv\")\n",
    "\n",
    "    # Step 2: Use the glob module to get a list of all the .csv files in the folder\n",
    "    csv_files = glob.glob(csv_path)\n",
    "    \n",
    "    # Step 3: Create an empty list to store the dataframes\n",
    "    df_list = []\n",
    "\n",
    "    # Step 4: Loop through all the .csv files and append them to the dataframe list\n",
    "    for file_path in csv_files:\n",
    "        df = pd.read_csv(file_path,index_col=False,encoding='utf-8',sep=\",\")\n",
    "        df['Conference (short)'] = os.path.basename(file_path)\n",
    "        df['Conference (short)'] = df['Conference (short)'].str.split('_').str[0]\n",
    "        df_list.append(df)\n",
    "\n",
    "    # Step 5: Concatenate all the dataframes in the list into a single dataframe\n",
    "    final_df = pd.concat(df_list, ignore_index=True)\n",
    "    \n",
    "    # Step 6: Delete unnesseary columns\n",
    "    try:\n",
    "        final_df = final_df.drop([\"Field\"], axis=1)\n",
    "        final_df = final_df.drop([\"Key Note Speaker\"], axis=1)\n",
    "    except:\n",
    "        pass\n",
    "\n",
    "    # Step 7: Return the final dataframe\n",
    "    return final_df\n",
    "\n",
    "def Name_preprocessing(df):\n",
    "    # First Name\n",
    "    df['First name'] = df['Full name'].str.split(' ').str[0].str.lower()\n",
    "    df['First name'] = df[\"First name\"].apply(unidecode)\n",
    "    \n",
    "    print(\"Number of rows where the first name only contains abbreviation: \", df[df['First name'].str.contains('^[a-z]\\.$')].shape[0])\n",
    "    print(\"These rows will be removed\")\n",
    "    df = df[~df['First name'].str.contains('^[a-z]\\.$')]\n",
    "    print(\"There are now:\",df.shape[0],\"rows\")\n",
    "       \n",
    "    # Middel and Last Name\n",
    "    df['Middle name'] = df['Full name'].str.split(' ').str[1]\n",
    "    df['Last name (temp)'] = df['Full name'].str.split(' ').str[2]\n",
    "    df['Last name'] = np.where(df['Last name (temp)'].isnull(), df['Middle name'], df['Last name (temp)'])\n",
    "    df['Middle name'] = np.where(df['Last name (temp)'].isnull(), np.nan, df['Middle name'])\n",
    "    df = df.drop([\"Last name (temp)\"], axis=1)\n",
    "    return df\n",
    "\n",
    "def Middle_name_clean(df):\n",
    "    # Find all rows with different middle names\n",
    "    row_to_remove = df[df.duplicated(['First name','Last name'], keep=False)].sort_values(['First name','Last name']).drop_duplicates(subset=['First name','Middle name','Last name'], keep=False).drop_duplicates(subset=['First name','Last name'], keep=False)\n",
    "    rows_to_change = df[df.duplicated(['First name','Last name'], keep=False)].sort_values(['First name','Last name']).drop_duplicates(subset=['First name','Middle name','Last name'], keep=False)\n",
    "    rows_to_change = rows_to_change[~rows_to_change.isin(row_to_remove)].dropna(how='all').sort_values(['First name','Last name','Middle name'])\n",
    "\n",
    "    for i in range(len(rows_to_change)-1):\n",
    "        if (rows_to_change.iloc[i]['First name'] == rows_to_change.iloc[i+1]['First name']) and (rows_to_change.iloc[i]['Last name'] == rows_to_change.iloc[i+1]['Last name']):\n",
    "            if pd.isnull(rows_to_change.iloc[i+1]['Middle name']):\n",
    "                rows_to_change.iloc[i+1,rows_to_change.columns.get_loc('Middle name')] = rows_to_change.iloc[i]['Middle name']\n",
    "    \n",
    "    # Overwrite the Middle name\n",
    "    df.loc[rows_to_change.index,'Middle name'] = rows_to_change['Middle name']\n",
    "    \n",
    "    df['First name'] = df['First name'].str.capitalize()\n",
    "\n",
    "    # if middle name is nan then combine first and last name with space between, otherwise if middle name is not nan then combine first, middle and last name with space between\n",
    "    df['Full name'] = np.where(df['Middle name'].isnull(), df['First name'] + ' ' + df['Last name'], df['First name'] + ' ' + df['Middle name'] + ' ' + df['Last name'])\n",
    "    return df\n",
    "\n",
    "\n",
    "\n",
    "#############################################\n",
    "# Gender Data\n",
    "#############################################\n",
    "name_df = pd.read_csv('Dimension Tables/wgnd_2_0_name-gender-code.csv')\n",
    "# Keep only US or DK names\n",
    "name_df = name_df[(name_df['code'] == 'US') | (name_df['code'] == 'DK')]\n",
    "# drop duplicates\n",
    "name_df = name_df.drop_duplicates(subset=['name',\"gender\"], keep='first')\n",
    "# for all duplicated value keep the row with the max \"wgt\" value\n",
    "name_df = name_df.sort_values('wgt', ascending=False).drop_duplicates(subset=['name'], keep='first')\n",
    "\n",
    "print(\"Number of rows:\", len(name_df))\n",
    "name_df.head()"
   ]
  },
  {
   "attachments": {},
   "cell_type": "markdown",
   "metadata": {},
   "source": [
    "## Key Note Speakers"
   ]
  },
  {
   "attachments": {},
   "cell_type": "markdown",
   "metadata": {},
   "source": [
    "#### Load and combine all .csv files in the folder"
   ]
  },
  {
   "cell_type": "code",
   "execution_count": 112,
   "metadata": {},
   "outputs": [
    {
     "name": "stdout",
     "output_type": "stream",
     "text": [
      "Number of rows: 1856\n"
     ]
    },
    {
     "data": {
      "text/html": [
       "<div>\n",
       "<style scoped>\n",
       "    .dataframe tbody tr th:only-of-type {\n",
       "        vertical-align: middle;\n",
       "    }\n",
       "\n",
       "    .dataframe tbody tr th {\n",
       "        vertical-align: top;\n",
       "    }\n",
       "\n",
       "    .dataframe thead th {\n",
       "        text-align: right;\n",
       "    }\n",
       "</style>\n",
       "<table border=\"1\" class=\"dataframe\">\n",
       "  <thead>\n",
       "    <tr style=\"text-align: right;\">\n",
       "      <th></th>\n",
       "      <th>Full name</th>\n",
       "      <th>Year</th>\n",
       "      <th>Sex</th>\n",
       "      <th>Conference (short)</th>\n",
       "    </tr>\n",
       "  </thead>\n",
       "  <tbody>\n",
       "    <tr>\n",
       "      <th>0</th>\n",
       "      <td>Atsushi Asada</td>\n",
       "      <td>1995</td>\n",
       "      <td>0</td>\n",
       "      <td>ASPDAC</td>\n",
       "    </tr>\n",
       "    <tr>\n",
       "      <th>1</th>\n",
       "      <td>Jim Meadlock</td>\n",
       "      <td>1995</td>\n",
       "      <td>0</td>\n",
       "      <td>ASPDAC</td>\n",
       "    </tr>\n",
       "    <tr>\n",
       "      <th>2</th>\n",
       "      <td>John Darringer</td>\n",
       "      <td>1995</td>\n",
       "      <td>0</td>\n",
       "      <td>ASPDAC</td>\n",
       "    </tr>\n",
       "    <tr>\n",
       "      <th>3</th>\n",
       "      <td>Tatsuo Izawa</td>\n",
       "      <td>1997</td>\n",
       "      <td>0</td>\n",
       "      <td>ASPDAC</td>\n",
       "    </tr>\n",
       "    <tr>\n",
       "      <th>4</th>\n",
       "      <td>Daniel D. Gajski</td>\n",
       "      <td>1997</td>\n",
       "      <td>0</td>\n",
       "      <td>ASPDAC</td>\n",
       "    </tr>\n",
       "  </tbody>\n",
       "</table>\n",
       "</div>"
      ],
      "text/plain": [
       "          Full name  Year Sex Conference (short)\n",
       "0     Atsushi Asada  1995   0             ASPDAC\n",
       "1      Jim Meadlock  1995   0             ASPDAC\n",
       "2    John Darringer  1995   0             ASPDAC\n",
       "3      Tatsuo Izawa  1997   0             ASPDAC\n",
       "4  Daniel D. Gajski  1997   0             ASPDAC"
      ]
     },
     "execution_count": 112,
     "metadata": {},
     "output_type": "execute_result"
    }
   ],
   "source": [
    "df = read_csv_files_from_folder(filepath=filepath,folder='Invited Speakers')\n",
    "print(\"Number of rows:\", len(df))\n",
    "df.head()"
   ]
  },
  {
   "attachments": {},
   "cell_type": "markdown",
   "metadata": {},
   "source": [
    "#### Remove rows"
   ]
  },
  {
   "cell_type": "code",
   "execution_count": 113,
   "metadata": {},
   "outputs": [],
   "source": [
    "# Only include data after 2003\n",
    "df = df[(df['Year'] >= 2003) & (df['Year'] <= 2022)]"
   ]
  },
  {
   "attachments": {},
   "cell_type": "markdown",
   "metadata": {},
   "source": [
    "#### Clean the name columns"
   ]
  },
  {
   "cell_type": "code",
   "execution_count": 114,
   "metadata": {},
   "outputs": [
    {
     "name": "stdout",
     "output_type": "stream",
     "text": [
      "Number of rows where the first name only contains abbreviation:  1\n",
      "These rows will be removed\n",
      "There are now: 1343 rows\n"
     ]
    },
    {
     "data": {
      "text/html": [
       "<div>\n",
       "<style scoped>\n",
       "    .dataframe tbody tr th:only-of-type {\n",
       "        vertical-align: middle;\n",
       "    }\n",
       "\n",
       "    .dataframe tbody tr th {\n",
       "        vertical-align: top;\n",
       "    }\n",
       "\n",
       "    .dataframe thead th {\n",
       "        text-align: right;\n",
       "    }\n",
       "</style>\n",
       "<table border=\"1\" class=\"dataframe\">\n",
       "  <thead>\n",
       "    <tr style=\"text-align: right;\">\n",
       "      <th></th>\n",
       "      <th>Full name</th>\n",
       "      <th>Year</th>\n",
       "      <th>Sex</th>\n",
       "      <th>Conference (short)</th>\n",
       "      <th>First name</th>\n",
       "      <th>Middle name</th>\n",
       "      <th>Last name</th>\n",
       "    </tr>\n",
       "  </thead>\n",
       "  <tbody>\n",
       "    <tr>\n",
       "      <th>22</th>\n",
       "      <td>Glovanni De WIichcli</td>\n",
       "      <td>2003</td>\n",
       "      <td>0</td>\n",
       "      <td>ASPDAC</td>\n",
       "      <td>glovanni</td>\n",
       "      <td>De</td>\n",
       "      <td>WIichcli</td>\n",
       "    </tr>\n",
       "    <tr>\n",
       "      <th>23</th>\n",
       "      <td>Tadahiro Ohm</td>\n",
       "      <td>2003</td>\n",
       "      <td>0</td>\n",
       "      <td>ASPDAC</td>\n",
       "      <td>tadahiro</td>\n",
       "      <td>NaN</td>\n",
       "      <td>Ohm</td>\n",
       "    </tr>\n",
       "    <tr>\n",
       "      <th>24</th>\n",
       "      <td>Ycrvant Zorian</td>\n",
       "      <td>2003</td>\n",
       "      <td>0</td>\n",
       "      <td>ASPDAC</td>\n",
       "      <td>ycrvant</td>\n",
       "      <td>NaN</td>\n",
       "      <td>Zorian</td>\n",
       "    </tr>\n",
       "    <tr>\n",
       "      <th>25</th>\n",
       "      <td>Gary L. Baldwi</td>\n",
       "      <td>2004</td>\n",
       "      <td>0</td>\n",
       "      <td>ASPDAC</td>\n",
       "      <td>gary</td>\n",
       "      <td>L.</td>\n",
       "      <td>Baldwi</td>\n",
       "    </tr>\n",
       "    <tr>\n",
       "      <th>26</th>\n",
       "      <td>Rudy Lauwereins</td>\n",
       "      <td>2004</td>\n",
       "      <td>0</td>\n",
       "      <td>ASPDAC</td>\n",
       "      <td>rudy</td>\n",
       "      <td>NaN</td>\n",
       "      <td>Lauwereins</td>\n",
       "    </tr>\n",
       "  </tbody>\n",
       "</table>\n",
       "</div>"
      ],
      "text/plain": [
       "               Full name  Year Sex Conference (short) First name Middle name  \\\n",
       "22  Glovanni De WIichcli  2003   0             ASPDAC   glovanni          De   \n",
       "23          Tadahiro Ohm  2003   0             ASPDAC   tadahiro         NaN   \n",
       "24        Ycrvant Zorian  2003   0             ASPDAC    ycrvant         NaN   \n",
       "25        Gary L. Baldwi  2004   0             ASPDAC       gary          L.   \n",
       "26       Rudy Lauwereins  2004   0             ASPDAC       rudy         NaN   \n",
       "\n",
       "     Last name  \n",
       "22    WIichcli  \n",
       "23         Ohm  \n",
       "24      Zorian  \n",
       "25      Baldwi  \n",
       "26  Lauwereins  "
      ]
     },
     "execution_count": 114,
     "metadata": {},
     "output_type": "execute_result"
    }
   ],
   "source": [
    "df = Name_preprocessing(df)\n",
    "df.head()"
   ]
  },
  {
   "attachments": {},
   "cell_type": "markdown",
   "metadata": {},
   "source": [
    "#### Add gender data"
   ]
  },
  {
   "cell_type": "code",
   "execution_count": 115,
   "metadata": {},
   "outputs": [
    {
     "name": "stdout",
     "output_type": "stream",
     "text": [
      "Number of rows with null value in gender: 110\n"
     ]
    },
    {
     "data": {
      "text/html": [
       "<div>\n",
       "<style scoped>\n",
       "    .dataframe tbody tr th:only-of-type {\n",
       "        vertical-align: middle;\n",
       "    }\n",
       "\n",
       "    .dataframe tbody tr th {\n",
       "        vertical-align: top;\n",
       "    }\n",
       "\n",
       "    .dataframe thead th {\n",
       "        text-align: right;\n",
       "    }\n",
       "</style>\n",
       "<table border=\"1\" class=\"dataframe\">\n",
       "  <thead>\n",
       "    <tr style=\"text-align: right;\">\n",
       "      <th></th>\n",
       "      <th>Full name</th>\n",
       "      <th>Year</th>\n",
       "      <th>Sex</th>\n",
       "      <th>Conference (short)</th>\n",
       "      <th>First name</th>\n",
       "      <th>Middle name</th>\n",
       "      <th>Last name</th>\n",
       "      <th>gender</th>\n",
       "    </tr>\n",
       "  </thead>\n",
       "  <tbody>\n",
       "    <tr>\n",
       "      <th>0</th>\n",
       "      <td>Glovanni De WIichcli</td>\n",
       "      <td>2003</td>\n",
       "      <td>0</td>\n",
       "      <td>ASPDAC</td>\n",
       "      <td>glovanni</td>\n",
       "      <td>De</td>\n",
       "      <td>WIichcli</td>\n",
       "      <td>0</td>\n",
       "    </tr>\n",
       "    <tr>\n",
       "      <th>1</th>\n",
       "      <td>Tadahiro Ohm</td>\n",
       "      <td>2003</td>\n",
       "      <td>0</td>\n",
       "      <td>ASPDAC</td>\n",
       "      <td>tadahiro</td>\n",
       "      <td>NaN</td>\n",
       "      <td>Ohm</td>\n",
       "      <td>0</td>\n",
       "    </tr>\n",
       "    <tr>\n",
       "      <th>2</th>\n",
       "      <td>Ycrvant Zorian</td>\n",
       "      <td>2003</td>\n",
       "      <td>0</td>\n",
       "      <td>ASPDAC</td>\n",
       "      <td>ycrvant</td>\n",
       "      <td>NaN</td>\n",
       "      <td>Zorian</td>\n",
       "      <td>0</td>\n",
       "    </tr>\n",
       "    <tr>\n",
       "      <th>3</th>\n",
       "      <td>Gary L. Baldwi</td>\n",
       "      <td>2004</td>\n",
       "      <td>0</td>\n",
       "      <td>ASPDAC</td>\n",
       "      <td>gary</td>\n",
       "      <td>L.</td>\n",
       "      <td>Baldwi</td>\n",
       "      <td>M</td>\n",
       "    </tr>\n",
       "    <tr>\n",
       "      <th>4</th>\n",
       "      <td>Rudy Lauwereins</td>\n",
       "      <td>2004</td>\n",
       "      <td>0</td>\n",
       "      <td>ASPDAC</td>\n",
       "      <td>rudy</td>\n",
       "      <td>NaN</td>\n",
       "      <td>Lauwereins</td>\n",
       "      <td>M</td>\n",
       "    </tr>\n",
       "  </tbody>\n",
       "</table>\n",
       "</div>"
      ],
      "text/plain": [
       "              Full name  Year Sex Conference (short) First name Middle name  \\\n",
       "0  Glovanni De WIichcli  2003   0             ASPDAC   glovanni          De   \n",
       "1          Tadahiro Ohm  2003   0             ASPDAC   tadahiro         NaN   \n",
       "2        Ycrvant Zorian  2003   0             ASPDAC    ycrvant         NaN   \n",
       "3        Gary L. Baldwi  2004   0             ASPDAC       gary          L.   \n",
       "4       Rudy Lauwereins  2004   0             ASPDAC       rudy         NaN   \n",
       "\n",
       "    Last name gender  \n",
       "0    WIichcli      0  \n",
       "1         Ohm      0  \n",
       "2      Zorian      0  \n",
       "3      Baldwi      M  \n",
       "4  Lauwereins      M  "
      ]
     },
     "execution_count": 115,
     "metadata": {},
     "output_type": "execute_result"
    }
   ],
   "source": [
    "# merge df and name_df by \"First name\" and \"name\" and include \"Gender column\"\n",
    "df = pd.merge(df, name_df, how='left', left_on='First name', right_on='name')\n",
    "\n",
    "# Drop unnecessary columns\n",
    "df = df.drop(['name', 'code', 'wgt'], axis=1)\n",
    "\n",
    "print(\"Number of rows with null value in gender:\", df[\"gender\"].isnull().sum())\n",
    "\n",
    "# Replace with the value in 'Sex' column\n",
    "df['gender'] = df['gender'].fillna(df['Sex'])\n",
    "\n",
    "df.head()"
   ]
  },
  {
   "attachments": {},
   "cell_type": "markdown",
   "metadata": {},
   "source": [
    "##### Clean up gender columns"
   ]
  },
  {
   "cell_type": "code",
   "execution_count": 119,
   "metadata": {},
   "outputs": [],
   "source": [
    "df['Sex'].replace(np.nan, 'unknown', inplace=True)\n",
    "df['Sex'].replace('x','unknown',inplace=True)\n",
    "df['Sex'].replace('0','M',inplace=True)\n",
    "df['Sex'].replace(0,'M',inplace=True)\n",
    "df['Sex'].replace('1','F',inplace=True)\n",
    "df['Sex'].replace(1,'F',inplace=True)\n",
    "\n",
    "df['gender'].replace(1,'F',inplace=True)\n",
    "df['gender'].replace(0,'M',inplace=True)\n",
    "df['gender'].replace('1','F',inplace=True)\n",
    "df['gender'].replace('0','M',inplace=True)"
   ]
  },
  {
   "cell_type": "code",
   "execution_count": 121,
   "metadata": {},
   "outputs": [
    {
     "name": "stdout",
     "output_type": "stream",
     "text": [
      "Number of rows where \"Sex\" is F and \"gender\" is M: 4\n",
      "Number of rows where \"Sex\" is M and \"gender\" is F: 8\n"
     ]
    }
   ],
   "source": [
    "print('Number of rows where \"Sex\" is F and \"gender\" is M:',len(np.where((df['Sex'] == 'F') & (df['gender']=='M'))[0]))\n",
    "print('Number of rows where \"Sex\" is M and \"gender\" is F:',len(np.where((df['Sex'] == 'M') & (df['gender']=='F'))[0]))\n",
    "\n",
    "# Overwrite the value in column 'gender' with the 'Sex' column\n",
    "df.loc[df['Sex'] == 'F', 'gender'] = 'F'  \n",
    "df.loc[df['Sex'] == 'M', 'gender'] = 'M'   \n",
    "\n",
    "# Drop unnecessary columns\n",
    "df = df.drop(['Sex'],axis=1)"
   ]
  },
  {
   "attachments": {},
   "cell_type": "markdown",
   "metadata": {},
   "source": [
    "#### Fix unique names"
   ]
  },
  {
   "cell_type": "code",
   "execution_count": 122,
   "metadata": {},
   "outputs": [
    {
     "name": "stdout",
     "output_type": "stream",
     "text": [
      "Before: There are  1147  unique names\n",
      "After: There are  1134  unique names\n"
     ]
    }
   ],
   "source": [
    "print(\"Before: There are \",df['Full name'].nunique(),\" unique names\")\n",
    "df = Middle_name_clean(df)\n",
    "print(\"After: There are \",df['Full name'].nunique(),\" unique names\")"
   ]
  },
  {
   "attachments": {},
   "cell_type": "markdown",
   "metadata": {},
   "source": [
    "#### Save factTable"
   ]
  },
  {
   "cell_type": "code",
   "execution_count": 124,
   "metadata": {},
   "outputs": [],
   "source": [
    "df.to_csv(os.path.join(filepath,\"factInvited_init.csv\"), index=False)"
   ]
  },
  {
   "attachments": {},
   "cell_type": "markdown",
   "metadata": {},
   "source": [
    "## Proceedings"
   ]
  },
  {
   "attachments": {},
   "cell_type": "markdown",
   "metadata": {},
   "source": [
    "#### Load and combine all .csv files in the folder"
   ]
  },
  {
   "cell_type": "code",
   "execution_count": 15,
   "metadata": {},
   "outputs": [
    {
     "name": "stdout",
     "output_type": "stream",
     "text": [
      "Number of rows: 283579\n"
     ]
    }
   ],
   "source": [
    "# Append all files in Data folder as a datafrom, and add a column for the file name without the extension and folder name\n",
    "df = read_csv_files_from_folder(filepath=filepath,folder='Proceedings')\n",
    "print(\"Number of rows:\", len(df))"
   ]
  },
  {
   "attachments": {},
   "cell_type": "markdown",
   "metadata": {},
   "source": [
    "#### Remove rows"
   ]
  },
  {
   "cell_type": "code",
   "execution_count": null,
   "metadata": {},
   "outputs": [],
   "source": [
    "# Only include data after 2003\n",
    "df['Year'] = df['Year'].astype(int)\n",
    "df = df[(df['Year'] >= 2003) & (df['Year'] <= 2022)]"
   ]
  },
  {
   "attachments": {},
   "cell_type": "markdown",
   "metadata": {},
   "source": [
    "#### Clean the names"
   ]
  },
  {
   "cell_type": "code",
   "execution_count": 20,
   "metadata": {},
   "outputs": [
    {
     "name": "stdout",
     "output_type": "stream",
     "text": [
      "Number of rows where the first name only contains abbreviation:  1836\n",
      "These rows will be removed\n",
      "There are now: 281743 rows\n"
     ]
    },
    {
     "data": {
      "text/html": [
       "<div>\n",
       "<style scoped>\n",
       "    .dataframe tbody tr th:only-of-type {\n",
       "        vertical-align: middle;\n",
       "    }\n",
       "\n",
       "    .dataframe tbody tr th {\n",
       "        vertical-align: top;\n",
       "    }\n",
       "\n",
       "    .dataframe thead th {\n",
       "        text-align: right;\n",
       "    }\n",
       "</style>\n",
       "<table border=\"1\" class=\"dataframe\">\n",
       "  <thead>\n",
       "    <tr style=\"text-align: right;\">\n",
       "      <th></th>\n",
       "      <th>Full name</th>\n",
       "      <th>Year</th>\n",
       "      <th>Links</th>\n",
       "      <th>Conference (short)</th>\n",
       "      <th>First name</th>\n",
       "      <th>Middle name</th>\n",
       "      <th>Last name</th>\n",
       "    </tr>\n",
       "  </thead>\n",
       "  <tbody>\n",
       "    <tr>\n",
       "      <th>0</th>\n",
       "      <td>Hiroto Yasuura</td>\n",
       "      <td>2003</td>\n",
       "      <td>['https://dblp.org/pid/43/4149.html']</td>\n",
       "      <td>ASPDAC</td>\n",
       "      <td>hiroto</td>\n",
       "      <td>NaN</td>\n",
       "      <td>Yasuura</td>\n",
       "    </tr>\n",
       "    <tr>\n",
       "      <th>1</th>\n",
       "      <td>Yazdan Aghaghiri</td>\n",
       "      <td>2003</td>\n",
       "      <td>['https://dblp.org/pid/20/4429.html']</td>\n",
       "      <td>ASPDAC</td>\n",
       "      <td>yazdan</td>\n",
       "      <td>NaN</td>\n",
       "      <td>Aghaghiri</td>\n",
       "    </tr>\n",
       "    <tr>\n",
       "      <th>2</th>\n",
       "      <td>Farzan Fallah</td>\n",
       "      <td>2003</td>\n",
       "      <td>['https://dblp.org/pid/02/1886.html']</td>\n",
       "      <td>ASPDAC</td>\n",
       "      <td>farzan</td>\n",
       "      <td>NaN</td>\n",
       "      <td>Fallah</td>\n",
       "    </tr>\n",
       "    <tr>\n",
       "      <th>3</th>\n",
       "      <td>Massoud Pedram</td>\n",
       "      <td>2003</td>\n",
       "      <td>['https://dblp.org/pid/p/MassoudPedram.html']</td>\n",
       "      <td>ASPDAC</td>\n",
       "      <td>massoud</td>\n",
       "      <td>NaN</td>\n",
       "      <td>Pedram</td>\n",
       "    </tr>\n",
       "    <tr>\n",
       "      <th>4</th>\n",
       "      <td>Satoshi Komatsu</td>\n",
       "      <td>2003</td>\n",
       "      <td>['https://dblp.org/pid/08/4585.html']</td>\n",
       "      <td>ASPDAC</td>\n",
       "      <td>satoshi</td>\n",
       "      <td>NaN</td>\n",
       "      <td>Komatsu</td>\n",
       "    </tr>\n",
       "  </tbody>\n",
       "</table>\n",
       "</div>"
      ],
      "text/plain": [
       "          Full name  Year                                          Links  \\\n",
       "0    Hiroto Yasuura  2003          ['https://dblp.org/pid/43/4149.html']   \n",
       "1  Yazdan Aghaghiri  2003          ['https://dblp.org/pid/20/4429.html']   \n",
       "2     Farzan Fallah  2003          ['https://dblp.org/pid/02/1886.html']   \n",
       "3    Massoud Pedram  2003  ['https://dblp.org/pid/p/MassoudPedram.html']   \n",
       "4   Satoshi Komatsu  2003          ['https://dblp.org/pid/08/4585.html']   \n",
       "\n",
       "  Conference (short) First name Middle name  Last name  \n",
       "0             ASPDAC     hiroto         NaN    Yasuura  \n",
       "1             ASPDAC     yazdan         NaN  Aghaghiri  \n",
       "2             ASPDAC     farzan         NaN     Fallah  \n",
       "3             ASPDAC    massoud         NaN     Pedram  \n",
       "4             ASPDAC    satoshi         NaN    Komatsu  "
      ]
     },
     "execution_count": 20,
     "metadata": {},
     "output_type": "execute_result"
    }
   ],
   "source": [
    "df = Name_preprocessing(df)\n",
    "df.head()"
   ]
  },
  {
   "attachments": {},
   "cell_type": "markdown",
   "metadata": {},
   "source": [
    "#### Add gender data"
   ]
  },
  {
   "cell_type": "code",
   "execution_count": 21,
   "metadata": {},
   "outputs": [
    {
     "name": "stdout",
     "output_type": "stream",
     "text": [
      "Number of rows with null value in gender: 79663\n",
      "Number of rows after removal of unknown genders: 202080\n"
     ]
    },
    {
     "data": {
      "text/html": [
       "<div>\n",
       "<style scoped>\n",
       "    .dataframe tbody tr th:only-of-type {\n",
       "        vertical-align: middle;\n",
       "    }\n",
       "\n",
       "    .dataframe tbody tr th {\n",
       "        vertical-align: top;\n",
       "    }\n",
       "\n",
       "    .dataframe thead th {\n",
       "        text-align: right;\n",
       "    }\n",
       "</style>\n",
       "<table border=\"1\" class=\"dataframe\">\n",
       "  <thead>\n",
       "    <tr style=\"text-align: right;\">\n",
       "      <th></th>\n",
       "      <th>Full name</th>\n",
       "      <th>Year</th>\n",
       "      <th>Links</th>\n",
       "      <th>Conference (short)</th>\n",
       "      <th>First name</th>\n",
       "      <th>Middle name</th>\n",
       "      <th>Last name</th>\n",
       "      <th>gender</th>\n",
       "    </tr>\n",
       "  </thead>\n",
       "  <tbody>\n",
       "    <tr>\n",
       "      <th>0</th>\n",
       "      <td>Hiroto Yasuura</td>\n",
       "      <td>2003</td>\n",
       "      <td>['https://dblp.org/pid/43/4149.html']</td>\n",
       "      <td>ASPDAC</td>\n",
       "      <td>hiroto</td>\n",
       "      <td>NaN</td>\n",
       "      <td>Yasuura</td>\n",
       "      <td>M</td>\n",
       "    </tr>\n",
       "    <tr>\n",
       "      <th>2</th>\n",
       "      <td>Farzan Fallah</td>\n",
       "      <td>2003</td>\n",
       "      <td>['https://dblp.org/pid/02/1886.html']</td>\n",
       "      <td>ASPDAC</td>\n",
       "      <td>farzan</td>\n",
       "      <td>NaN</td>\n",
       "      <td>Fallah</td>\n",
       "      <td>M</td>\n",
       "    </tr>\n",
       "    <tr>\n",
       "      <th>4</th>\n",
       "      <td>Satoshi Komatsu</td>\n",
       "      <td>2003</td>\n",
       "      <td>['https://dblp.org/pid/08/4585.html']</td>\n",
       "      <td>ASPDAC</td>\n",
       "      <td>satoshi</td>\n",
       "      <td>NaN</td>\n",
       "      <td>Komatsu</td>\n",
       "      <td>M</td>\n",
       "    </tr>\n",
       "    <tr>\n",
       "      <th>5</th>\n",
       "      <td>Masahiro Fujita</td>\n",
       "      <td>2003</td>\n",
       "      <td>['https://dblp.org/pid/56/1768.html']</td>\n",
       "      <td>ASPDAC</td>\n",
       "      <td>masahiro</td>\n",
       "      <td>NaN</td>\n",
       "      <td>Fujita</td>\n",
       "      <td>M</td>\n",
       "    </tr>\n",
       "    <tr>\n",
       "      <th>6</th>\n",
       "      <td>Sri Parameswaran</td>\n",
       "      <td>2003</td>\n",
       "      <td>['https://dblp.org/pid/38/622.html']</td>\n",
       "      <td>ASPDAC</td>\n",
       "      <td>sri</td>\n",
       "      <td>NaN</td>\n",
       "      <td>Parameswaran</td>\n",
       "      <td>F</td>\n",
       "    </tr>\n",
       "  </tbody>\n",
       "</table>\n",
       "</div>"
      ],
      "text/plain": [
       "          Full name  Year                                  Links  \\\n",
       "0    Hiroto Yasuura  2003  ['https://dblp.org/pid/43/4149.html']   \n",
       "2     Farzan Fallah  2003  ['https://dblp.org/pid/02/1886.html']   \n",
       "4   Satoshi Komatsu  2003  ['https://dblp.org/pid/08/4585.html']   \n",
       "5   Masahiro Fujita  2003  ['https://dblp.org/pid/56/1768.html']   \n",
       "6  Sri Parameswaran  2003   ['https://dblp.org/pid/38/622.html']   \n",
       "\n",
       "  Conference (short) First name Middle name     Last name gender  \n",
       "0             ASPDAC     hiroto         NaN       Yasuura      M  \n",
       "2             ASPDAC     farzan         NaN        Fallah      M  \n",
       "4             ASPDAC    satoshi         NaN       Komatsu      M  \n",
       "5             ASPDAC   masahiro         NaN        Fujita      M  \n",
       "6             ASPDAC        sri         NaN  Parameswaran      F  "
      ]
     },
     "execution_count": 21,
     "metadata": {},
     "output_type": "execute_result"
    }
   ],
   "source": [
    "# merge df and name_df by \"First name\" and \"name\" and include \"Gender column\"\n",
    "df = pd.merge(df, name_df, how='left', left_on='First name', right_on='name')\n",
    "\n",
    "# Drop unnecessary columns\n",
    "df = df.drop(['name', 'code', 'wgt'], axis=1)\n",
    "\n",
    "print(\"Number of rows with null value in gender:\", df[\"gender\"].isnull().sum())\n",
    "\n",
    "# Drop all rows with nan value in gender column\n",
    "df = df.dropna(subset=['gender'])\n",
    "print(\"Number of rows after removal of unknown genders:\", len(df))\n",
    "\n",
    "df.head()"
   ]
  },
  {
   "attachments": {},
   "cell_type": "markdown",
   "metadata": {},
   "source": [
    "#### Fix Unique names"
   ]
  },
  {
   "cell_type": "code",
   "execution_count": 22,
   "metadata": {},
   "outputs": [
    {
     "name": "stdout",
     "output_type": "stream",
     "text": [
      "Before: There are  69321  unique names\n",
      "After: There are  68772  unique names\n"
     ]
    }
   ],
   "source": [
    "print(\"Before: There are \",df['Full name'].nunique(),\" unique names\")\n",
    "df = Middle_name_clean(df)\n",
    "print(\"After: There are \",df['Full name'].nunique(),\" unique names\")"
   ]
  },
  {
   "attachments": {},
   "cell_type": "markdown",
   "metadata": {},
   "source": [
    "#### Save factTable"
   ]
  },
  {
   "cell_type": "code",
   "execution_count": 28,
   "metadata": {},
   "outputs": [],
   "source": [
    "df.to_csv(os.path.join(filepath,\"factProceedings_init.csv\"), index=False)"
   ]
  },
  {
   "attachments": {},
   "cell_type": "markdown",
   "metadata": {},
   "source": [
    "## Add Columns\n",
    "NB: Do not complete this step until after the Get_Paper_info.ipynb has been runned"
   ]
  },
  {
   "cell_type": "code",
   "execution_count": 2,
   "metadata": {},
   "outputs": [],
   "source": [
    "# Load files\n",
    "df_Invited = pd.read_csv(os.path.join(filepath,'factInvited.csv'))\n",
    "df_Proceedings = pd.read_csv(os.path.join(filepath,'factProceedings.csv'))"
   ]
  },
  {
   "cell_type": "code",
   "execution_count": 52,
   "metadata": {},
   "outputs": [],
   "source": [
    "# Add age\n",
    "df_Invited['Age'] = np.where(df_Invited['First year paper'] == 0, 0, np.where(df_Invited['Year'] - df_Invited['First year paper'] < 0, 0, df_Invited['Year'] - df_Invited['First year paper']))\n",
    "df_Proceedings['Age'] = np.where(df_Proceedings['First year paper'] == 0, 0, np.where(df_Proceedings['Year'] - df_Proceedings['First year paper'] < 0, 0, df_Proceedings['Year'] - df_Proceedings['First year paper']))"
   ]
  },
  {
   "cell_type": "code",
   "execution_count": 53,
   "metadata": {},
   "outputs": [],
   "source": [
    "# Change column types to int\n",
    "def change_column_types_to_int(df, columns):\n",
    "    for column in columns:\n",
    "        df[column] = df[column].astype(int)\n",
    "    return df\n",
    "\n",
    "df_Invited = change_column_types_to_int(df_Invited,['Year','Paper Count','Max Paper Count','First year paper','Age'])\n",
    "df_Proceedings = change_column_types_to_int(df_Proceedings,['Year','Paper Count','Max Paper Count','First year paper','Age'])"
   ]
  },
  {
   "cell_type": "code",
   "execution_count": 29,
   "metadata": {},
   "outputs": [],
   "source": [
    "# Add field\n",
    "df_conference = pd.read_csv(os.path.join(filepath,'Dimension Tables','dimConference.csv'),sep=\",\")\n",
    "\n",
    "df_Invited = df_Invited.merge(df_conference, how='left', on='Conference (short)')\n",
    "df_Proceedings = df_Proceedings.merge(df_conference, how='left', on='Conference (short)')\n",
    "\n",
    "df_Invited = df_Invited.drop(['Subcategori Topic'],axis=1)\n",
    "df_Proceedings = df_Proceedings.drop(['Subcategori Topic'],axis=1)"
   ]
  },
  {
   "cell_type": "code",
   "execution_count": 55,
   "metadata": {},
   "outputs": [],
   "source": [
    "# Add Productivity column\n",
    "df_Invited['Productivity'] = np.divide(df_Invited['Paper Count'],df_Invited['Age'])\n",
    "df_Invited['Productivity'] = df_Invited['Productivity'].replace([np.inf, -np.inf,np.nan], 0)\n",
    "\n",
    "df_Proceedings['Productivity'] = np.divide(df_Proceedings['Paper Count'],df_Proceedings['Age'])\n",
    "df_Proceedings['Productivity'] = df_Proceedings['Productivity'].replace([np.inf, -np.inf,np.nan], 0)"
   ]
  },
  {
   "cell_type": "code",
   "execution_count": 9,
   "metadata": {},
   "outputs": [],
   "source": [
    "# Save tables\n",
    "df_Invited.to_csv(os.path.join(filepath,'factInvited.csv'), index=False)\n",
    "df_Proceedings.to_csv(os.path.join(filepath,'factProceedings.csv'), index=False)"
   ]
  }
 ],
 "metadata": {
  "kernelspec": {
   "display_name": "Python 3",
   "language": "python",
   "name": "python3"
  },
  "language_info": {
   "codemirror_mode": {
    "name": "ipython",
    "version": 3
   },
   "file_extension": ".py",
   "mimetype": "text/x-python",
   "name": "python",
   "nbconvert_exporter": "python",
   "pygments_lexer": "ipython3",
   "version": "3.11.1"
  },
  "orig_nbformat": 4,
  "vscode": {
   "interpreter": {
    "hash": "d92ff415db99feb7da45e8748a5c23d5d44d2038e70d5b05ab6a02856c817802"
   }
  }
 },
 "nbformat": 4,
 "nbformat_minor": 2
}
