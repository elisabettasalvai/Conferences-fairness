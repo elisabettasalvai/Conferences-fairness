{
 "cells": [
  {
   "cell_type": "code",
   "execution_count": 1,
   "metadata": {},
   "outputs": [],
   "source": [
    "import numpy as np\n",
    "import matplotlib.pyplot as plt\n",
    "import seaborn\n",
    "import matplotlib.cm as cm\n",
    "import requests\n",
    "import json\n",
    "import pandas as pd\n",
    "import time\n",
    "import datetime\n",
    "import os\n",
    "import sys\n",
    "import glob\n",
    "import re\n",
    "import math\n",
    "import random\n",
    "import pickle\n",
    "import copy\n",
    "import itertools\n",
    "import collections\n",
    "import warnings\n",
    "warnings.filterwarnings('ignore')\n",
    "from bs4 import BeautifulSoup"
   ]
  },
  {
   "attachments": {},
   "cell_type": "markdown",
   "metadata": {},
   "source": [
    "#### TED Data"
   ]
  },
  {
   "cell_type": "code",
   "execution_count": 9,
   "metadata": {},
   "outputs": [],
   "source": [
    "TED_data = pd.read_csv('TED_data.csv')\n",
    "# split Year column and keep only decimals value\n",
    "TED_data['Year'] = TED_data['Year'].apply(lambda x: x.split(' ')[1])\n",
    "#Save the data\n",
    "TED_data.to_csv('Data/TED_data.csv', index=False)"
   ]
  },
  {
   "attachments": {},
   "cell_type": "markdown",
   "metadata": {},
   "source": [
    "#### WoLLIC Data"
   ]
  },
  {
   "cell_type": "code",
   "execution_count": 4,
   "metadata": {},
   "outputs": [],
   "source": [
    "WoLLIC_data = pd.read_csv('WoLLIC_data.csv')\n",
    "\n",
    "# # create a new row for each element in Full name column and split by \",\"\n",
    "# WoLLIC_data = WoLLIC_data.assign(Full_Name=WoLLIC_data['Full name'].str.split(',')).explode('Full_Name')\n",
    "# WoLLIC_data.drop(['Full name'], axis=1, inplace=True)\n",
    "# # Rename column\n",
    "# WoLLIC_data.rename(columns={'Full_Name': 'Full name'}, inplace=True)\n",
    "\n",
    "# Trim the spaces in the Full name column\n",
    "WoLLIC_data['Full name'] = WoLLIC_data['Full name'].apply(lambda x: x.strip())\n",
    "\n",
    "# Save the data\n",
    "WoLLIC_data.to_csv('Data/WoLLIC_data.csv', index=False)"
   ]
  },
  {
   "attachments": {},
   "cell_type": "markdown",
   "metadata": {},
   "source": [
    "#### Add Field"
   ]
  },
  {
   "cell_type": "code",
   "execution_count": 2,
   "metadata": {},
   "outputs": [],
   "source": [
    "def Add_field_column(folder,file_name,field_name):\n",
    "    # Read the data\n",
    "    df = pd.read_csv(folder+file_name)\n",
    "    # Add a new column to the data\n",
    "    df[\"Field\"] = field_name\n",
    "    # Save the data\n",
    "    df.to_csv(folder+file_name, index=False)"
   ]
  },
  {
   "cell_type": "code",
   "execution_count": 4,
   "metadata": {},
   "outputs": [],
   "source": [
    "Add_field_column('Proceedings/','WWW_data.csv','Data Management')"
   ]
  },
  {
   "attachments": {},
   "cell_type": "markdown",
   "metadata": {},
   "source": [
    "#### Remove Field"
   ]
  },
  {
   "cell_type": "code",
   "execution_count": 2,
   "metadata": {},
   "outputs": [
    {
     "name": "stdout",
     "output_type": "stream",
     "text": [
      "Number of rows: 7616\n"
     ]
    },
    {
     "data": {
      "text/html": [
       "<div>\n",
       "<style scoped>\n",
       "    .dataframe tbody tr th:only-of-type {\n",
       "        vertical-align: middle;\n",
       "    }\n",
       "\n",
       "    .dataframe tbody tr th {\n",
       "        vertical-align: top;\n",
       "    }\n",
       "\n",
       "    .dataframe thead th {\n",
       "        text-align: right;\n",
       "    }\n",
       "</style>\n",
       "<table border=\"1\" class=\"dataframe\">\n",
       "  <thead>\n",
       "    <tr style=\"text-align: right;\">\n",
       "      <th></th>\n",
       "      <th>Full name</th>\n",
       "      <th>Year</th>\n",
       "      <th>Sex</th>\n",
       "      <th>Field</th>\n",
       "      <th>File name</th>\n",
       "      <th>Key Note Speaker</th>\n",
       "      <th>Duration</th>\n",
       "    </tr>\n",
       "  </thead>\n",
       "  <tbody>\n",
       "    <tr>\n",
       "      <th>7611</th>\n",
       "      <td>Victor Zue</td>\n",
       "      <td>1995</td>\n",
       "      <td>x</td>\n",
       "      <td>Data Management</td>\n",
       "      <td>WWW</td>\n",
       "      <td>NaN</td>\n",
       "      <td>NaN</td>\n",
       "    </tr>\n",
       "    <tr>\n",
       "      <th>7612</th>\n",
       "      <td>David Goddeau</td>\n",
       "      <td>1995</td>\n",
       "      <td>x</td>\n",
       "      <td>Data Management</td>\n",
       "      <td>WWW</td>\n",
       "      <td>NaN</td>\n",
       "      <td>NaN</td>\n",
       "    </tr>\n",
       "    <tr>\n",
       "      <th>7613</th>\n",
       "      <td>Christopher Dobbs</td>\n",
       "      <td>1995</td>\n",
       "      <td>x</td>\n",
       "      <td>Data Management</td>\n",
       "      <td>WWW</td>\n",
       "      <td>NaN</td>\n",
       "      <td>NaN</td>\n",
       "    </tr>\n",
       "    <tr>\n",
       "      <th>7614</th>\n",
       "      <td>Robert W. Lucky</td>\n",
       "      <td>1995</td>\n",
       "      <td>x</td>\n",
       "      <td>Data Management</td>\n",
       "      <td>WWW</td>\n",
       "      <td>NaN</td>\n",
       "      <td>NaN</td>\n",
       "    </tr>\n",
       "    <tr>\n",
       "      <th>7615</th>\n",
       "      <td>Thomas Reardon</td>\n",
       "      <td>1995</td>\n",
       "      <td>x</td>\n",
       "      <td>Data Management</td>\n",
       "      <td>WWW</td>\n",
       "      <td>NaN</td>\n",
       "      <td>NaN</td>\n",
       "    </tr>\n",
       "  </tbody>\n",
       "</table>\n",
       "</div>"
      ],
      "text/plain": [
       "              Full name  Year Sex            Field File name  \\\n",
       "7611         Victor Zue  1995   x  Data Management       WWW   \n",
       "7612      David Goddeau  1995   x  Data Management       WWW   \n",
       "7613  Christopher Dobbs  1995   x  Data Management       WWW   \n",
       "7614    Robert W. Lucky  1995   x  Data Management       WWW   \n",
       "7615     Thomas Reardon  1995   x  Data Management       WWW   \n",
       "\n",
       "      Key Note Speaker Duration  \n",
       "7611               NaN      NaN  \n",
       "7612               NaN      NaN  \n",
       "7613               NaN      NaN  \n",
       "7614               NaN      NaN  \n",
       "7615               NaN      NaN  "
      ]
     },
     "execution_count": 2,
     "metadata": {},
     "output_type": "execute_result"
    }
   ],
   "source": [
    "def append_data(folder):\n",
    "    all_files = glob.glob(folder + \"/*.csv\")\n",
    "    df = pd.DataFrame()\n",
    "    for file in all_files:\n",
    "        df_temp = pd.read_csv(file, index_col=None)\n",
    "        df_temp['File name'] = os.path.splitext(os.path.basename(file))[0]\n",
    "        df = df.append(df_temp, ignore_index=True)\n",
    "    df['File name'] = df['File name'].str.split('_').str[0]\n",
    "    return df\n",
    "\n",
    "df = append_data('Key Note Speakers')\n",
    "print(\"Number of rows:\", len(df))\n",
    "df.tail()"
   ]
  },
  {
   "attachments": {},
   "cell_type": "markdown",
   "metadata": {},
   "source": [
    "#### Other"
   ]
  },
  {
   "cell_type": "code",
   "execution_count": 31,
   "metadata": {},
   "outputs": [],
   "source": [
    "t = open(\"WWW_2001.txt\", \"r\") \n",
    "text = t.readlines()"
   ]
  },
  {
   "cell_type": "code",
   "execution_count": 32,
   "metadata": {},
   "outputs": [],
   "source": [
    "# keep only the lines that start with \"by \"\n",
    "text = [x for x in text if x.startswith(\"by\")]"
   ]
  },
  {
   "cell_type": "code",
   "execution_count": 33,
   "metadata": {},
   "outputs": [
    {
     "data": {
      "text/plain": [
       "['by Renata Wassermann and Marcelo Finger (Departamento de CiÃªncia da ComputaÃ§Ã£o, Instituto de MatemÃ¡tica e EstatÃ\\xadstica, Universidade de SÃ£o Paulo, Brazil)\\n',\n",
       " 'by Maricarmen MartÃ\\xadnez (Department of Mathematics, Indiana University, USA)\\n',\n",
       " 'by Carlos Oller (Facultad de FilosofÃ\\xada y Letras, Universidad de Buenos Aires, Argentina)\\n',\n",
       " 'by Renata Pereira de Freitas (Programa de Engenharia de Sistemas e ComputaÃ§Ã£o, COPPE, Universidade Federal do Rio de Janeiro, Brazil),\\n',\n",
       " 'by ClÃ¡udia Nalon, Clare Dixon and Michael Fisher (Department of Computer Science, University of Liverpool, United Kingdom)\\n',\n",
       " 'by MaurÃ\\xadcio Ayala RincÃ³n (Departamento de MatemÃ¡tica, Universidade de BrasÃ\\xadlia, Brazil) and   Fairouz Kamareddine (Department of Computing and Electrical Engeneering, Heriot-Watt University, Scotland)\\n',\n",
       " 'by Hongwei Xi (Department of Electrical and Computer Engineering and Computer Science, University of Cincinnati, USA) and\\n',\n",
       " 'by Juliette Kennedy (Institut Mittag-Leffler, The Royal Swedish Academy of Sciences, Sweden)\\n',\n",
       " 'by Aldo Victorio Figallo (Departamento de MatemÃ¡tica, Universidad Nacional del Sur, Argentina),   Guillermina Ramon and Susana Saad (Instituto de Ciencias BÃ¡sicas, Universidad Nacional de San Juan, Argentina)\\n',\n",
       " 'by Michel Gagnon (Departamento de InformÃ¡tica, Universidade Federal do ParanÃ¡, Brazil)\\n',\n",
       " 'by Ralf Naumann ']"
      ]
     },
     "execution_count": 33,
     "metadata": {},
     "output_type": "execute_result"
    }
   ],
   "source": [
    "text"
   ]
  },
  {
   "cell_type": "code",
   "execution_count": null,
   "metadata": {},
   "outputs": [],
   "source": []
  }
 ],
 "metadata": {
  "kernelspec": {
   "display_name": "Python 3",
   "language": "python",
   "name": "python3"
  },
  "language_info": {
   "codemirror_mode": {
    "name": "ipython",
    "version": 3
   },
   "file_extension": ".py",
   "mimetype": "text/x-python",
   "name": "python",
   "nbconvert_exporter": "python",
   "pygments_lexer": "ipython3",
   "version": "3.11.1"
  },
  "orig_nbformat": 4,
  "vscode": {
   "interpreter": {
    "hash": "d92ff415db99feb7da45e8748a5c23d5d44d2038e70d5b05ab6a02856c817802"
   }
  }
 },
 "nbformat": 4,
 "nbformat_minor": 2
}
