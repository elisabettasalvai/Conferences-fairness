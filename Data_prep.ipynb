{
 "cells": [
  {
   "cell_type": "code",
   "execution_count": 1,
   "metadata": {},
   "outputs": [],
   "source": [
    "import numpy as np\n",
    "import matplotlib.pyplot as plt\n",
    "import seaborn\n",
    "import matplotlib.cm as cm\n",
    "import requests\n",
    "import json\n",
    "import pandas as pd\n",
    "import time\n",
    "import datetime\n",
    "import os\n",
    "import sys\n",
    "import glob\n",
    "import re\n",
    "import math\n",
    "import random\n",
    "import pickle\n",
    "import copy\n",
    "import itertools\n",
    "import collections\n",
    "import warnings\n",
    "warnings.filterwarnings('ignore')\n",
    "from bs4 import BeautifulSoup"
   ]
  },
  {
   "attachments": {},
   "cell_type": "markdown",
   "metadata": {},
   "source": [
    "#### TED Data"
   ]
  },
  {
   "cell_type": "code",
   "execution_count": 9,
   "metadata": {},
   "outputs": [],
   "source": [
    "TED_data = pd.read_csv('TED_data.csv')\n",
    "# split Year column and keep only decimals value\n",
    "TED_data['Year'] = TED_data['Year'].apply(lambda x: x.split(' ')[1])\n",
    "#Save the data\n",
    "TED_data.to_csv('Data/TED_data.csv', index=False)"
   ]
  },
  {
   "attachments": {},
   "cell_type": "markdown",
   "metadata": {},
   "source": [
    "#### WoLLIC Data"
   ]
  },
  {
   "cell_type": "code",
   "execution_count": 4,
   "metadata": {},
   "outputs": [],
   "source": [
    "WoLLIC_data = pd.read_csv('WoLLIC_data.csv')\n",
    "\n",
    "# # create a new row for each element in Full name column and split by \",\"\n",
    "# WoLLIC_data = WoLLIC_data.assign(Full_Name=WoLLIC_data['Full name'].str.split(',')).explode('Full_Name')\n",
    "# WoLLIC_data.drop(['Full name'], axis=1, inplace=True)\n",
    "# # Rename column\n",
    "# WoLLIC_data.rename(columns={'Full_Name': 'Full name'}, inplace=True)\n",
    "\n",
    "# Trim the spaces in the Full name column\n",
    "WoLLIC_data['Full name'] = WoLLIC_data['Full name'].apply(lambda x: x.strip())\n",
    "\n",
    "# Save the data\n",
    "WoLLIC_data.to_csv('Data/WoLLIC_data.csv', index=False)"
   ]
  },
  {
   "attachments": {},
   "cell_type": "markdown",
   "metadata": {},
   "source": [
    "#### Add Field"
   ]
  },
  {
   "cell_type": "code",
   "execution_count": 6,
   "metadata": {},
   "outputs": [],
   "source": [
    "def Add_field_column(folder,file_name,field_name):\n",
    "    # Read the data\n",
    "    df = pd.read_csv(folder+file_name)\n",
    "    # Add a new column to the data\n",
    "    df[\"Field\"] = field_name\n",
    "    # Save the data\n",
    "    df.to_csv(folder+file_name, index=False)"
   ]
  },
  {
   "cell_type": "code",
   "execution_count": 37,
   "metadata": {},
   "outputs": [],
   "source": [
    "Add_field_column('Proceedings/','WWW_data.csv','Data management')"
   ]
  }
 ],
 "metadata": {
  "kernelspec": {
   "display_name": "Python 3",
   "language": "python",
   "name": "python3"
  },
  "language_info": {
   "codemirror_mode": {
    "name": "ipython",
    "version": 3
   },
   "file_extension": ".py",
   "mimetype": "text/x-python",
   "name": "python",
   "nbconvert_exporter": "python",
   "pygments_lexer": "ipython3",
   "version": "3.11.1"
  },
  "orig_nbformat": 4,
  "vscode": {
   "interpreter": {
    "hash": "d92ff415db99feb7da45e8748a5c23d5d44d2038e70d5b05ab6a02856c817802"
   }
  }
 },
 "nbformat": 4,
 "nbformat_minor": 2
}
