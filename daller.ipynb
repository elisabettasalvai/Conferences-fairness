{
 "cells": [
  {
   "cell_type": "code",
   "execution_count": 11,
   "metadata": {},
   "outputs": [],
   "source": [
    "from bs4 import BeautifulSoup\n",
    "import re\n",
    "import emoji\n",
    "import pandas as pd\n",
    "import numpy as np\n",
    "import requests as req\n",
    "import seaborn as sns\n",
    "\n",
    "import matplotlib.pyplot as plt\n",
    "from matplotlib.pyplot import subplots, show\n",
    "%matplotlib inline\n",
    "import lxml"
   ]
  },
  {
   "cell_type": "code",
   "execution_count": 22,
   "metadata": {},
   "outputs": [],
   "source": [
    "names = ['Linus Knoop', 'Viktor Stenby Johansson', 'Maya Lee Pedersen', 'Henrik Stefansen', 'Mette Steinlein Christensen', 'Magnus Stjernborg Koch', 'Rasmus Aagaard', 'Josephine Frederikke Bidstrup Ramsløv', 'Kaare Halskov Anholm', 'Olivia Nygaard Mark', 'Søren Sandgaard', 'Alexander Torp Jørgensen', 'Oscar Hoffmann', 'Andreas Goltermann', 'Louise Frost', 'Rolf Glenny Mogensen', 'Mathias Nikolaj Linderod Albrechtsen', 'Niels Peter Moos', 'Louise Vomb Boje Lund', 'Jøn Olsen', 'Kamma Nørrelund Pedersen', 'Mikkel Swartz', 'Marie Sjørslev Pedersen', 'Stine Kure', 'Troels Christoffersen', 'Robert Mandsfelt', 'Hans Kristian Bech Hansen', 'Bjørt Óladóttir Joensen','Felix Larsen','Valdemar Søgaard']"
   ]
  },
  {
   "cell_type": "code",
   "execution_count": 31,
   "metadata": {},
   "outputs": [
    {
     "data": {
      "text/plain": [
       "1216"
      ]
     },
     "execution_count": 31,
     "metadata": {},
     "output_type": "execute_result"
    }
   ],
   "source": [
    "sum([471, 375, 370])"
   ]
  },
  {
   "cell_type": "code",
   "execution_count": 33,
   "metadata": {},
   "outputs": [
    {
     "name": "stdout",
     "output_type": "stream",
     "text": [
      "Linus Knoop : 1216\n",
      "Viktor Stenby Johansson : 2781\n",
      "Maya Lee Pedersen : 389\n",
      "Henrik Stefansen : 486\n",
      "Mette Steinlein Christensen : 262\n",
      "Magnus Stjernborg Koch : 1142\n",
      "Rasmus Aagaard : 1265\n",
      "Josephine Frederikke Bidstrup Ramsløv : 670\n",
      "Kaare Halskov Anholm : 1530\n",
      "Olivia Nygaard Mark : 1396\n",
      "Søren Sandgaard : 1008\n",
      "Alexander Torp Jørgensen : 4420\n",
      "Oscar Hoffmann : 577\n",
      "Andreas Goltermann : 284\n",
      "Louise Frost : 285\n",
      "Rolf Glenny Mogensen : 561\n",
      "Mathias Nikolaj Linderod Albrechtsen : 1513\n",
      "Niels Peter Moos : 2434\n",
      "Louise Vomb Boje Lund : 710\n",
      "Jøn Olsen : 894\n",
      "Kamma Nørrelund Pedersen : 261\n",
      "Mikkel Swartz : 452\n",
      "Marie Sjørslev Pedersen : 940\n",
      "Stine Kure : 755\n",
      "Troels Christoffersen : 531\n",
      "Robert Mandsfelt : 469\n",
      "Hans Kristian Bech Hansen : 226\n",
      "Bjørt Óladóttir Joensen : 571\n",
      "Felix Larsen : 1104\n",
      "Valdemar Søgaard : 178\n"
     ]
    }
   ],
   "source": [
    "for name in names:\n",
    "    # Requesting for the website\n",
    "    counts = []\n",
    "    for i in range(1,4): \n",
    "        HTMLFile  = open('messages/inbox/flodekabsspamchatkabs19_1973759966039246/message_'+str(i)+'.html','r',encoding='UTF-8', errors='ignore')  \n",
    "    \n",
    "        # Creating a BeautifulSoup object and specifying the parser\n",
    "        S = BeautifulSoup(HTMLFile.read(), 'html.parser')\n",
    "        str1 = S.find_all(string=re.compile(name))\n",
    "        \n",
    "        # if there is a @ in the string or an emoji then remove it\n",
    "        str1 = [x for x in str1 if '@' not in x and emoji.emoji_count(x) == 0]\n",
    "        # if the string contains \"Deltagere:\" then remove it\n",
    "        str1 = [x for x in str1 if 'Deltagere:' not in x]\n",
    "\n",
    "        counts.append(len(str1))\n",
    "    print(name,\":\", sum(counts))"
   ]
  },
  {
   "attachments": {},
   "cell_type": "markdown",
   "metadata": {},
   "source": [
    "## Citat"
   ]
  },
  {
   "cell_type": "code",
   "execution_count": 36,
   "metadata": {},
   "outputs": [
    {
     "name": "stdout",
     "output_type": "stream",
     "text": [
      "Linus Knoop : 4\n",
      "Viktor Stenby Johansson : 11\n",
      "Maya Lee Pedersen : 29\n",
      "Henrik Stefansen : 23\n",
      "Mette Steinlein Christensen : 36\n",
      "Magnus Stjernborg Koch : 18\n",
      "Rasmus Aagaard : 2\n",
      "Josephine Frederikke Bidstrup Ramsløv : 11\n",
      "Kaare Halskov Anholm : 1\n",
      "Olivia Nygaard Mark : 14\n",
      "Søren Sandgaard : 12\n",
      "Alexander Torp Jørgensen : 9\n",
      "Oscar Hoffmann : 13\n",
      "Andreas Goltermann : 13\n",
      "Louise Frost : 17\n",
      "Rolf Glenny Mogensen : 20\n",
      "Mathias Nikolaj Linderod Albrechtsen : 11\n",
      "Niels Peter Moos : 13\n",
      "Louise Vomb Boje Lund : 4\n",
      "Jøn Olsen : 8\n",
      "Kamma Nørrelund Pedersen : 18\n",
      "Mikkel Swartz : 16\n",
      "Marie Sjørslev Pedersen : 8\n",
      "Stine Kure : 21\n",
      "Troels Christoffersen : 34\n",
      "Robert Mandsfelt : 4\n",
      "Hans Kristian Bech Hansen : 6\n",
      "Bjørt Óladóttir Joensen : 4\n",
      "Felix Larsen : 6\n",
      "Valdemar Søgaard : 2\n"
     ]
    }
   ],
   "source": [
    "for name in names:\n",
    "    # Requesting for the website\n",
    "    HTMLFile  = open('messages/inbox/citatkabs19_2322348244504501/message_1.html','r',encoding='UTF-8', errors='ignore')  \n",
    "\n",
    "    # Creating a BeautifulSoup object and specifying the parser\n",
    "    S = BeautifulSoup(HTMLFile.read(), 'html.parser')\n",
    "    str1 = S.find_all(string=re.compile(name))\n",
    "    \n",
    "    # keep only the strings that contain a @ \n",
    "    str1 = [x for x in str1 if '@' in x]\n",
    "    # if the string contains \"Deltagere:\" then remove it\n",
    "    str1 = [x for x in str1 if 'Deltagere:' not in x]\n",
    "\n",
    "    print(name,\":\", len(str1))"
   ]
  }
 ],
 "metadata": {
  "kernelspec": {
   "display_name": "Python 3",
   "language": "python",
   "name": "python3"
  },
  "language_info": {
   "codemirror_mode": {
    "name": "ipython",
    "version": 3
   },
   "file_extension": ".py",
   "mimetype": "text/x-python",
   "name": "python",
   "nbconvert_exporter": "python",
   "pygments_lexer": "ipython3",
   "version": "3.11.1"
  },
  "orig_nbformat": 4,
  "vscode": {
   "interpreter": {
    "hash": "d92ff415db99feb7da45e8748a5c23d5d44d2038e70d5b05ab6a02856c817802"
   }
  }
 },
 "nbformat": 4,
 "nbformat_minor": 2
}
