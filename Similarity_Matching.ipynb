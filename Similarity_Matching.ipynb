{
 "cells": [
  {
   "attachments": {},
   "cell_type": "markdown",
   "metadata": {},
   "source": [
    "# Similarity Matching"
   ]
  },
  {
   "cell_type": "code",
   "execution_count": 1,
   "metadata": {},
   "outputs": [],
   "source": [
    "%run setup.py"
   ]
  },
  {
   "cell_type": "code",
   "execution_count": 80,
   "metadata": {},
   "outputs": [
    {
     "data": {
      "text/html": [
       "<div>\n",
       "<style scoped>\n",
       "    .dataframe tbody tr th:only-of-type {\n",
       "        vertical-align: middle;\n",
       "    }\n",
       "\n",
       "    .dataframe tbody tr th {\n",
       "        vertical-align: top;\n",
       "    }\n",
       "\n",
       "    .dataframe thead th {\n",
       "        text-align: right;\n",
       "    }\n",
       "</style>\n",
       "<table border=\"1\" class=\"dataframe\">\n",
       "  <thead>\n",
       "    <tr style=\"text-align: right;\">\n",
       "      <th></th>\n",
       "      <th>Full name</th>\n",
       "      <th>Year</th>\n",
       "      <th>Conference (short)</th>\n",
       "      <th>First name</th>\n",
       "      <th>Middle name</th>\n",
       "      <th>Last name</th>\n",
       "      <th>gender</th>\n",
       "      <th>Paper Count</th>\n",
       "      <th>Max Paper Count</th>\n",
       "      <th>First year paper</th>\n",
       "      <th>Age</th>\n",
       "      <th>Conference (long)</th>\n",
       "      <th>Main Topic</th>\n",
       "      <th>Productivity</th>\n",
       "      <th>Source</th>\n",
       "      <th>log(Paper Count)</th>\n",
       "      <th>index</th>\n",
       "    </tr>\n",
       "  </thead>\n",
       "  <tbody>\n",
       "    <tr>\n",
       "      <th>0</th>\n",
       "      <td>Gary L. Baldwi</td>\n",
       "      <td>2004</td>\n",
       "      <td>ASPDAC</td>\n",
       "      <td>Gary</td>\n",
       "      <td>L.</td>\n",
       "      <td>Baldwi</td>\n",
       "      <td>M</td>\n",
       "      <td>4</td>\n",
       "      <td>4</td>\n",
       "      <td>1962</td>\n",
       "      <td>42</td>\n",
       "      <td>Asia and South Pacific Design Automation Confe...</td>\n",
       "      <td>Computer Architecture</td>\n",
       "      <td>0.095238</td>\n",
       "      <td>Invited</td>\n",
       "      <td>1.386294</td>\n",
       "      <td>0</td>\n",
       "    </tr>\n",
       "    <tr>\n",
       "      <th>1</th>\n",
       "      <td>Rudy Lauwereins</td>\n",
       "      <td>2004</td>\n",
       "      <td>ASPDAC</td>\n",
       "      <td>Rudy</td>\n",
       "      <td>NaN</td>\n",
       "      <td>Lauwereins</td>\n",
       "      <td>M</td>\n",
       "      <td>112</td>\n",
       "      <td>196</td>\n",
       "      <td>1987</td>\n",
       "      <td>17</td>\n",
       "      <td>Asia and South Pacific Design Automation Confe...</td>\n",
       "      <td>Computer Architecture</td>\n",
       "      <td>6.588235</td>\n",
       "      <td>Invited</td>\n",
       "      <td>4.718499</td>\n",
       "      <td>1</td>\n",
       "    </tr>\n",
       "    <tr>\n",
       "      <th>2</th>\n",
       "      <td>Rajeev Madhavan</td>\n",
       "      <td>2005</td>\n",
       "      <td>ASPDAC</td>\n",
       "      <td>Rajeev</td>\n",
       "      <td>NaN</td>\n",
       "      <td>Madhavan</td>\n",
       "      <td>M</td>\n",
       "      <td>5</td>\n",
       "      <td>5</td>\n",
       "      <td>1994</td>\n",
       "      <td>11</td>\n",
       "      <td>Asia and South Pacific Design Automation Confe...</td>\n",
       "      <td>Computer Architecture</td>\n",
       "      <td>0.454545</td>\n",
       "      <td>Invited</td>\n",
       "      <td>1.609438</td>\n",
       "      <td>2</td>\n",
       "    </tr>\n",
       "  </tbody>\n",
       "</table>\n",
       "</div>"
      ],
      "text/plain": [
       "         Full name  Year Conference (short) First name Middle name  \\\n",
       "0   Gary L. Baldwi  2004             ASPDAC       Gary          L.   \n",
       "1  Rudy Lauwereins  2004             ASPDAC       Rudy         NaN   \n",
       "2  Rajeev Madhavan  2005             ASPDAC     Rajeev         NaN   \n",
       "\n",
       "    Last name gender  Paper Count  Max Paper Count  First year paper  Age  \\\n",
       "0      Baldwi      M            4                4              1962   42   \n",
       "1  Lauwereins      M          112              196              1987   17   \n",
       "2    Madhavan      M            5                5              1994   11   \n",
       "\n",
       "                                   Conference (long)             Main Topic  \\\n",
       "0  Asia and South Pacific Design Automation Confe...  Computer Architecture   \n",
       "1  Asia and South Pacific Design Automation Confe...  Computer Architecture   \n",
       "2  Asia and South Pacific Design Automation Confe...  Computer Architecture   \n",
       "\n",
       "   Productivity   Source  log(Paper Count)  index  \n",
       "0      0.095238  Invited          1.386294      0  \n",
       "1      6.588235  Invited          4.718499      1  \n",
       "2      0.454545  Invited          1.609438      2  "
      ]
     },
     "execution_count": 80,
     "metadata": {},
     "output_type": "execute_result"
    }
   ],
   "source": [
    "# Load data\n",
    "df_Invited = pd.read_csv(os.path.join(filepath,'factInvited.csv'))\n",
    "df_Invited['Source'] = \"Invited\"\n",
    "df_Proceedings = pd.read_csv(os.path.join(filepath,'factProceedings.csv'))\n",
    "df_Proceedings['Source'] = \"Proceedings\"\n",
    "# Append data to one dataframe\n",
    "df = df_Invited.append(df_Proceedings).reset_index(drop=True)\n",
    "df = df[df['Productivity'] != 0]\n",
    "df['log(Paper Count)'] = np.log(df['Paper Count'])\n",
    "df['index'] = df.index\n",
    "df.head(3)"
   ]
  },
  {
   "attachments": {},
   "cell_type": "markdown",
   "metadata": {},
   "source": [
    "## Method 1 - Cosine Similarity"
   ]
  },
  {
   "cell_type": "code",
   "execution_count": 36,
   "metadata": {},
   "outputs": [
    {
     "ename": "KeyboardInterrupt",
     "evalue": "",
     "output_type": "error",
     "traceback": [
      "\u001b[1;31m---------------------------------------------------------------------------\u001b[0m",
      "\u001b[1;31mKeyboardInterrupt\u001b[0m                         Traceback (most recent call last)",
      "Cell \u001b[1;32mIn[36], line 15\u001b[0m\n\u001b[0;32m     13\u001b[0m \u001b[39mfor\u001b[39;00m i, male \u001b[39min\u001b[39;00m male_data\u001b[39m.\u001b[39miterrows():\n\u001b[0;32m     14\u001b[0m     similarities \u001b[39m=\u001b[39m similarity_matrix[i] \u001b[39m>\u001b[39m\u001b[39m=\u001b[39m \u001b[39m.9\u001b[39m\n\u001b[1;32m---> 15\u001b[0m     similar_females \u001b[39m=\u001b[39m female_data\u001b[39m.\u001b[39;49miloc[similarities]\n\u001b[0;32m     16\u001b[0m     similar_females_index \u001b[39m=\u001b[39m similar_females[\u001b[39m'\u001b[39m\u001b[39mindex\u001b[39m\u001b[39m'\u001b[39m]\u001b[39m.\u001b[39mto_list() \u001b[39m# get the index of similar females\u001b[39;00m\n\u001b[0;32m     17\u001b[0m     df\u001b[39m.\u001b[39mloc[male[\u001b[39m'\u001b[39m\u001b[39mindex\u001b[39m\u001b[39m'\u001b[39m], \u001b[39m'\u001b[39m\u001b[39mSimilar Females\u001b[39m\u001b[39m'\u001b[39m] \u001b[39m=\u001b[39m \u001b[39m\"\u001b[39m\u001b[39m, \u001b[39m\u001b[39m\"\u001b[39m\u001b[39m.\u001b[39mjoin(\u001b[39mmap\u001b[39m(\u001b[39mstr\u001b[39m, similar_females_index)) \u001b[39m# assign to the new column\u001b[39;00m\n",
      "File \u001b[1;32mc:\\Users\\verga\\AppData\\Local\\Programs\\Python\\Python311\\Lib\\site-packages\\pandas\\core\\indexing.py:139\u001b[0m, in \u001b[0;36mIndexingMixin.iloc\u001b[1;34m(self)\u001b[0m\n\u001b[0;32m    134\u001b[0m \u001b[39mclass\u001b[39;00m \u001b[39mIndexingMixin\u001b[39;00m:\n\u001b[0;32m    135\u001b[0m     \u001b[39m\"\"\"\u001b[39;00m\n\u001b[0;32m    136\u001b[0m \u001b[39m    Mixin for adding .loc/.iloc/.at/.iat to Dataframes and Series.\u001b[39;00m\n\u001b[0;32m    137\u001b[0m \u001b[39m    \"\"\"\u001b[39;00m\n\u001b[1;32m--> 139\u001b[0m     \u001b[39m@property\u001b[39m\n\u001b[0;32m    140\u001b[0m     \u001b[39mdef\u001b[39;00m \u001b[39miloc\u001b[39m(\u001b[39mself\u001b[39m) \u001b[39m-\u001b[39m\u001b[39m>\u001b[39m _iLocIndexer:\n\u001b[0;32m    141\u001b[0m         \u001b[39m\"\"\"\u001b[39;00m\n\u001b[0;32m    142\u001b[0m \u001b[39m        Purely integer-location based indexing for selection by position.\u001b[39;00m\n\u001b[0;32m    143\u001b[0m \n\u001b[1;32m   (...)\u001b[0m\n\u001b[0;32m    274\u001b[0m \u001b[39m        2  1000  3000\u001b[39;00m\n\u001b[0;32m    275\u001b[0m \u001b[39m        \"\"\"\u001b[39;00m\n\u001b[0;32m    276\u001b[0m         \u001b[39mreturn\u001b[39;00m _iLocIndexer(\u001b[39m\"\u001b[39m\u001b[39miloc\u001b[39m\u001b[39m\"\u001b[39m, \u001b[39mself\u001b[39m)\n",
      "\u001b[1;31mKeyboardInterrupt\u001b[0m: "
     ]
    }
   ],
   "source": [
    "# Step 1: Group the data by gender\n",
    "grouped_data = df.groupby('gender')\n",
    "\n",
    "# Step 2: Calculate the cosine similarity between males and females\n",
    "male_data = grouped_data.get_group('M')[['Paper Count', 'Age', 'Productivity']].reset_index()\n",
    "female_data = grouped_data.get_group('F')[['Paper Count', 'Age', 'Productivity']].reset_index()\n",
    "male_data_norm = (male_data - male_data.mean()) / male_data.std()\n",
    "female_data_norm = (female_data - female_data.mean()) / female_data.std()\n",
    "similarity_matrix = cosine_similarity(male_data_norm, female_data_norm)\n",
    "\n",
    "# Step 3: Create a new column that stores the similar females\n",
    "df['Similar Females'] = \"\"\n",
    "for i, male in male_data.iterrows():\n",
    "    similarities = similarity_matrix[i] >= .9\n",
    "    similar_females = female_data.iloc[similarities]\n",
    "    similar_females_index = similar_females['index'].to_list() # get the index of similar females\n",
    "    df.loc[male['index'], 'Similar Females'] = \", \".join(map(str, similar_females_index)) # assign to the new column\n",
    "\n",
    "# Step 4: replace index with names in 'Similar Females' column\n",
    "name_map = dict(zip(df.index, df['Full name']))\n",
    "df['Similar Females'] = df['Similar Females'].apply(lambda x: [name_map[int(i)] for i in x.split(',') if i])\n",
    "\n",
    "df.head()"
   ]
  },
  {
   "cell_type": "code",
   "execution_count": 4,
   "metadata": {},
   "outputs": [],
   "source": [
    "# Step 1: create a list of tuples containing all possible combinations of males and females who are similar\n",
    "links = [(node,name) for node in list(df['Full name'].values) for name in df[df['Full name'] == node]['Similar Females'].values[0]]\n",
    "\n",
    "# Step 2: remove duplicates\n",
    "links = list(dict.fromkeys(links))\n",
    "\n",
    "# Step 3: print\n",
    "links[0:10]"
   ]
  },
  {
   "attachments": {},
   "cell_type": "markdown",
   "metadata": {},
   "source": [
    "Check threshold for cosine similarity"
   ]
  },
  {
   "cell_type": "code",
   "execution_count": 38,
   "metadata": {},
   "outputs": [
    {
     "ename": "KeyboardInterrupt",
     "evalue": "",
     "output_type": "error",
     "traceback": [
      "\u001b[1;31m---------------------------------------------------------------------------\u001b[0m",
      "\u001b[1;31mKeyboardInterrupt\u001b[0m                         Traceback (most recent call last)",
      "Cell \u001b[1;32mIn[38], line 14\u001b[0m\n\u001b[0;32m     12\u001b[0m \u001b[39m# Step 3: Create a list to store similarity values and plot histogram\u001b[39;00m\n\u001b[0;32m     13\u001b[0m similarity_list \u001b[39m=\u001b[39m []\n\u001b[1;32m---> 14\u001b[0m \u001b[39mfor\u001b[39;00m i, male \u001b[39min\u001b[39;00m male_data\u001b[39m.\u001b[39miterrows():\n\u001b[0;32m     15\u001b[0m     similarities \u001b[39m=\u001b[39m similarity_matrix[i]\n\u001b[0;32m     16\u001b[0m     similarity_list\u001b[39m.\u001b[39mappend(similarities)\n",
      "File \u001b[1;32mc:\\Users\\verga\\AppData\\Local\\Programs\\Python\\Python311\\Lib\\site-packages\\pandas\\core\\frame.py:1410\u001b[0m, in \u001b[0;36mDataFrame.iterrows\u001b[1;34m(self)\u001b[0m\n\u001b[0;32m   1408\u001b[0m klass \u001b[39m=\u001b[39m \u001b[39mself\u001b[39m\u001b[39m.\u001b[39m_constructor_sliced\n\u001b[0;32m   1409\u001b[0m \u001b[39mfor\u001b[39;00m k, v \u001b[39min\u001b[39;00m \u001b[39mzip\u001b[39m(\u001b[39mself\u001b[39m\u001b[39m.\u001b[39mindex, \u001b[39mself\u001b[39m\u001b[39m.\u001b[39mvalues):\n\u001b[1;32m-> 1410\u001b[0m     s \u001b[39m=\u001b[39m klass(v, index\u001b[39m=\u001b[39;49mcolumns, name\u001b[39m=\u001b[39;49mk)\u001b[39m.\u001b[39m__finalize__(\u001b[39mself\u001b[39m)\n\u001b[0;32m   1411\u001b[0m     \u001b[39myield\u001b[39;00m k, s\n",
      "File \u001b[1;32mc:\\Users\\verga\\AppData\\Local\\Programs\\Python\\Python311\\Lib\\site-packages\\pandas\\core\\series.py:483\u001b[0m, in \u001b[0;36mSeries.__init__\u001b[1;34m(self, data, index, dtype, name, copy, fastpath)\u001b[0m\n\u001b[0;32m    481\u001b[0m     \u001b[39mobject\u001b[39m\u001b[39m.\u001b[39m\u001b[39m__setattr__\u001b[39m(\u001b[39mself\u001b[39m, \u001b[39m\"\u001b[39m\u001b[39m_name\u001b[39m\u001b[39m\"\u001b[39m, name)\n\u001b[0;32m    482\u001b[0m \u001b[39melse\u001b[39;00m:\n\u001b[1;32m--> 483\u001b[0m     \u001b[39mself\u001b[39;49m\u001b[39m.\u001b[39;49mname \u001b[39m=\u001b[39m name\n\u001b[0;32m    484\u001b[0m     \u001b[39mself\u001b[39m\u001b[39m.\u001b[39m_set_axis(\u001b[39m0\u001b[39m, index)\n",
      "File \u001b[1;32mc:\\Users\\verga\\AppData\\Local\\Programs\\Python\\Python311\\Lib\\site-packages\\pandas\\core\\generic.py:5924\u001b[0m, in \u001b[0;36mNDFrame.__setattr__\u001b[1;34m(self, name, value)\u001b[0m\n\u001b[0;32m   5922\u001b[0m     \u001b[39mobject\u001b[39m\u001b[39m.\u001b[39m\u001b[39m__setattr__\u001b[39m(\u001b[39mself\u001b[39m, name, value)\n\u001b[0;32m   5923\u001b[0m \u001b[39melif\u001b[39;00m name \u001b[39min\u001b[39;00m \u001b[39mself\u001b[39m\u001b[39m.\u001b[39m_metadata:\n\u001b[1;32m-> 5924\u001b[0m     \u001b[39mobject\u001b[39;49m\u001b[39m.\u001b[39;49m\u001b[39m__setattr__\u001b[39;49m(\u001b[39mself\u001b[39;49m, name, value)\n\u001b[0;32m   5925\u001b[0m \u001b[39melse\u001b[39;00m:\n\u001b[0;32m   5926\u001b[0m     \u001b[39mtry\u001b[39;00m:\n",
      "File \u001b[1;32mc:\\Users\\verga\\AppData\\Local\\Programs\\Python\\Python311\\Lib\\site-packages\\pandas\\core\\series.py:663\u001b[0m, in \u001b[0;36mSeries.name\u001b[1;34m(self, value)\u001b[0m\n\u001b[0;32m    661\u001b[0m \u001b[39m@name\u001b[39m\u001b[39m.\u001b[39msetter\n\u001b[0;32m    662\u001b[0m \u001b[39mdef\u001b[39;00m \u001b[39mname\u001b[39m(\u001b[39mself\u001b[39m, value: Hashable) \u001b[39m-\u001b[39m\u001b[39m>\u001b[39m \u001b[39mNone\u001b[39;00m:\n\u001b[1;32m--> 663\u001b[0m     validate_all_hashable(value, error_name\u001b[39m=\u001b[39;49m\u001b[39mf\u001b[39;49m\u001b[39m\"\u001b[39;49m\u001b[39m{\u001b[39;49;00m\u001b[39mtype\u001b[39;49m(\u001b[39mself\u001b[39;49m)\u001b[39m.\u001b[39;49m\u001b[39m__name__\u001b[39;49m\u001b[39m}\u001b[39;49;00m\u001b[39m.name\u001b[39;49m\u001b[39m\"\u001b[39;49m)\n\u001b[0;32m    664\u001b[0m     \u001b[39mobject\u001b[39m\u001b[39m.\u001b[39m\u001b[39m__setattr__\u001b[39m(\u001b[39mself\u001b[39m, \u001b[39m\"\u001b[39m\u001b[39m_name\u001b[39m\u001b[39m\"\u001b[39m, value)\n",
      "File \u001b[1;32mc:\\Users\\verga\\AppData\\Local\\Programs\\Python\\Python311\\Lib\\site-packages\\pandas\\core\\dtypes\\common.py:1725\u001b[0m, in \u001b[0;36mvalidate_all_hashable\u001b[1;34m(error_name, *args)\u001b[0m\n\u001b[0;32m   1718\u001b[0m     \u001b[39mif\u001b[39;00m typ \u001b[39mnot\u001b[39;00m \u001b[39min\u001b[39;00m [\u001b[39m\"\u001b[39m\u001b[39mgeneric\u001b[39m\u001b[39m\"\u001b[39m, \u001b[39m\"\u001b[39m\u001b[39mns\u001b[39m\u001b[39m\"\u001b[39m]:\n\u001b[0;32m   1719\u001b[0m         \u001b[39mraise\u001b[39;00m \u001b[39mValueError\u001b[39;00m(\n\u001b[0;32m   1720\u001b[0m             \u001b[39mf\u001b[39m\u001b[39m\"\u001b[39m\u001b[39m{\u001b[39;00m\u001b[39mrepr\u001b[39m(dtype\u001b[39m.\u001b[39mname)\u001b[39m}\u001b[39;00m\u001b[39m is too specific of a frequency, \u001b[39m\u001b[39m\"\u001b[39m\n\u001b[0;32m   1721\u001b[0m             \u001b[39mf\u001b[39m\u001b[39m\"\u001b[39m\u001b[39mtry passing \u001b[39m\u001b[39m{\u001b[39;00m\u001b[39mrepr\u001b[39m(dtype\u001b[39m.\u001b[39mtype\u001b[39m.\u001b[39m\u001b[39m__name__\u001b[39m)\u001b[39m}\u001b[39;00m\u001b[39m\"\u001b[39m\n\u001b[0;32m   1722\u001b[0m         )\n\u001b[1;32m-> 1725\u001b[0m \u001b[39mdef\u001b[39;00m \u001b[39mvalidate_all_hashable\u001b[39m(\u001b[39m*\u001b[39margs, error_name: \u001b[39mstr\u001b[39m \u001b[39m|\u001b[39m \u001b[39mNone\u001b[39;00m \u001b[39m=\u001b[39m \u001b[39mNone\u001b[39;00m) \u001b[39m-\u001b[39m\u001b[39m>\u001b[39m \u001b[39mNone\u001b[39;00m:\n\u001b[0;32m   1726\u001b[0m     \u001b[39m\"\"\"\u001b[39;00m\n\u001b[0;32m   1727\u001b[0m \u001b[39m    Return None if all args are hashable, else raise a TypeError.\u001b[39;00m\n\u001b[0;32m   1728\u001b[0m \n\u001b[1;32m   (...)\u001b[0m\n\u001b[0;32m   1742\u001b[0m \u001b[39m    None\u001b[39;00m\n\u001b[0;32m   1743\u001b[0m \u001b[39m    \"\"\"\u001b[39;00m\n\u001b[0;32m   1744\u001b[0m     \u001b[39mif\u001b[39;00m \u001b[39mnot\u001b[39;00m \u001b[39mall\u001b[39m(is_hashable(arg) \u001b[39mfor\u001b[39;00m arg \u001b[39min\u001b[39;00m args):\n",
      "\u001b[1;31mKeyboardInterrupt\u001b[0m: "
     ]
    }
   ],
   "source": [
    "# takes about 1 minute\n",
    "# Step 1: Group the data by gender\n",
    "grouped_data = df.groupby('gender')\n",
    "\n",
    "# Step 2: Calculate the cosine similarity between males and females\n",
    "male_data = grouped_data.get_group('M')[['Paper Count', 'Age', 'Productivity']].reset_index()\n",
    "female_data = grouped_data.get_group('F')[['Paper Count', 'Age', 'Productivity']].reset_index()\n",
    "male_data_norm = (male_data - male_data.mean()) / male_data.std()\n",
    "female_data_norm = (female_data - female_data.mean()) / female_data.std()\n",
    "similarity_matrix = cosine_similarity(male_data_norm, female_data_norm)\n",
    "\n",
    "# Step 3: Create a list to store similarity values and plot histogram\n",
    "similarity_list = []\n",
    "for i, male in male_data.iterrows():\n",
    "    similarities = similarity_matrix[i]\n",
    "    similarity_list.append(similarities)\n",
    "    \n",
    "combined_list = np.concatenate(similarity_list).tolist()"
   ]
  },
  {
   "cell_type": "code",
   "execution_count": null,
   "metadata": {},
   "outputs": [],
   "source": [
    "# takes a loooong time\n",
    "plt.hist(combined_list, bins=70)\n",
    "plt.xlabel('Similarity mesure between male and female speakers')\n",
    "plt.ylabel('Frequency')\n",
    "plt.title('Distribution of Similarities Between Male and Femlaes Speakers')"
   ]
  },
  {
   "attachments": {},
   "cell_type": "markdown",
   "metadata": {},
   "source": [
    "## Ratio plot"
   ]
  },
  {
   "cell_type": "code",
   "execution_count": 194,
   "metadata": {},
   "outputs": [
    {
     "name": "stderr",
     "output_type": "stream",
     "text": [
      "100%|██████████| 1000/1000 [01:20<00:00, 12.40it/s]\n"
     ]
    }
   ],
   "source": [
    "# Step 0: Select number of iterations\n",
    "n = 1000\n",
    "\n",
    "# Step 1: Group the data by gender\n",
    "grouped_data = df.groupby('gender')\n",
    "\n",
    "# Step 2: Calculate the cosine similarity between males and females\n",
    "male_data = grouped_data.get_group('M')[['Paper Count', 'Age', 'Productivity']].reset_index()\n",
    "female_data = grouped_data.get_group('F')[['Paper Count', 'Age', 'Productivity']].reset_index()\n",
    "male_data_norm = (male_data - male_data.mean()) / male_data.std()\n",
    "female_data_norm = (female_data - female_data.mean()) / female_data.std()\n",
    "similarity_matrix = cosine_similarity(male_data_norm, female_data_norm)\n",
    "\n",
    "# Step 3: Create a new column that stores the similar females\n",
    "df['Similar Females'] = \"\"\n",
    "for i, male in male_data.iterrows():\n",
    "    similarities = similarity_matrix[i] >= .9\n",
    "    similar_females = female_data.iloc[similarities]\n",
    "    similar_females_index = similar_females['index'].to_list() # get the index of similar females\n",
    "    df.loc[male['index'], 'Similar Females'] = \",\".join(map(str, similar_females_index)) # assign to the new column\n",
    "    \n",
    "    # x ---> [ 34, 65, 89] one male speaker can have several similar female\n",
    "\n",
    "# Step 4: Select a random female by their index n times\n",
    "ratio_list = []\n",
    "df['index_list'] = df['Similar Females'].apply(lambda x: [int(i) for i in x.split(',') if i])\n",
    "for j in tqdm(range(0,n)):\n",
    "    df['random_index'] = df['index_list'].apply(lambda x: random.choice(x) if len(x) > 0 else None).astype('Int64')\n",
    "    \n",
    "    # Step 5: Find the cooresponding informtion about the female speaker and save in new dataframe\n",
    "    df_filtered = df[(df['gender'] == 'M') & (df['random_index'] != \"\")]\n",
    "    df_filtered = df_filtered[['Full name', 'Year','Source','random_index']]\n",
    "    \n",
    "    A = pd.merge(df_filtered, df, left_on='random_index', right_on='index', how='left')\n",
    "    A = A[['Full name_x', 'Source_x', 'Year_x', 'Full name_y', 'Source_y']]\n",
    "    A = A.rename(columns={'Full name_x': \"Full Name_M\", \n",
    "                                        \"Source_x\": \"source_M\",\n",
    "                                        \"Year_x\": \"year_M\",\n",
    "                                        \"Full name_y\": \"Full Name_F\",\n",
    "                                        \"Source_y\": \"source_F\"})\n",
    "    \n",
    "    # Step 6: Calculate the ratio of female invited speakers and male invited speakers per year\n",
    "    P_males = A.groupby('year_M')['source_M'].value_counts(normalize=True).loc[:, 'Invited'].reset_index(name='fraction_M')\n",
    "    P_females = A.groupby('year_M')['source_F'].value_counts(normalize=True).loc[:, 'Invited'].reset_index(name='fraction_F')\n",
    "    ratio = np.divide(P_females['fraction_F'],P_males['fraction_M'])\n",
    "    # Save the list of ratio and add new ratio after each loop\n",
    "    ratio_list.append(ratio)            \n",
    "            \n",
    "# Step 7: Based on the list of fraction by year, calculate the mean and std.\n",
    "arr = np.array(ratio_list)             \n",
    "mean_ratio = np.mean(arr[:,:], axis=0)\n",
    "std_ratio = np.std(arr, axis=0)"
   ]
  },
  {
   "cell_type": "code",
   "execution_count": 251,
   "metadata": {},
   "outputs": [],
   "source": [
    "# df_true = df.groupby(['Year','gender'])['Source'].value_counts(normalize=True).reset_index(name='fraction')\n",
    "# ratio_true = np.divide(list(df_true[(df_true['gender'] == \"F\") & (df_true['Source'] == \"Invited\")]['fraction']), list(df_true[(df_true['gender'] == \"M\") & (df_true['Source'] == \"Invited\")]['fraction']))"
   ]
  },
  {
   "cell_type": "code",
   "execution_count": 263,
   "metadata": {},
   "outputs": [
    {
     "data": {
      "image/png": "[encoded data removed]",
      "text/plain": [
       "<Figure size 1000x500 with 1 Axes>"
      ]
     },
     "metadata": {},
     "output_type": "display_data"
    }
   ],
   "source": [
    "fig = plt.figure(figsize=(10,5))\n",
    "plt.errorbar(range(2003,2023), mean_ratio, yerr=std_ratio, fmt='o-', capsize=3,label=\"Adj. Ratio\")\n",
    "# plt.plot(range(2003,2023),ratio_true, label='True Ratio')\n",
    "plt.xticks(range(2003,2023,1), rotation=315)\n",
    "plt.hlines(1, 2003, 2022, linestyles='dashed')\n",
    "plt.legend()\n",
    "plt.xlabel('Year')\n",
    "plt.ylabel('Adj. Ratio of invited female/male speakers')\n",
    "plt.show()"
   ]
  },
  {
   "cell_type": "code",
   "execution_count": 3,
   "metadata": {},
   "outputs": [
    {
     "name": "stderr",
     "output_type": "stream",
     "text": [
      "100%|██████████| 1000/1000 [37:28<00:00,  2.25s/it]\n"
     ]
    }
   ],
   "source": [
    "'''\n",
    "# Step 0: Select number of iterations\n",
    "n = 1000\n",
    "\n",
    "# Step 1: Group the data by gender\n",
    "grouped_data = df.groupby('gender')\n",
    "\n",
    "# Step 2: Calculate the cosine similarity between males and females\n",
    "male_data = grouped_data.get_group('M')[['Paper Count', 'Age', 'Productivity']].reset_index()\n",
    "female_data = grouped_data.get_group('F')[['Paper Count', 'Age', 'Productivity']].reset_index()\n",
    "male_data_norm = (male_data - male_data.mean()) / male_data.std()\n",
    "female_data_norm = (female_data - female_data.mean()) / female_data.std()\n",
    "similarity_matrix = cosine_similarity(male_data_norm, female_data_norm)\n",
    "\n",
    "# Step 3: Create a new column that stores the similar females\n",
    "df['Similar Females'] = \"\"\n",
    "for i, male in male_data.iterrows():\n",
    "    similarities = similarity_matrix[i] >= .9\n",
    "    similar_females = female_data.iloc[similarities]\n",
    "    similar_females_index = similar_females['index'].to_list() # get the index of similar females\n",
    "    df.loc[male['index'], 'Similar Females'] = \",\".join(map(str, similar_females_index)) # assign to the new column\n",
    "    \n",
    "    # x ---> [ 34, 65, 89] one male speaker can have several similar female\n",
    "\n",
    "# Step 4: Select a random female by their index n times\n",
    "fractions = {}\n",
    "df['index_list'] = df['Similar Females'].apply(lambda x: [int(i) for i in x.split(',') if i])\n",
    "for j in tqdm(range(0,n)):\n",
    "    df['random_index'] = df['index_list'].apply(lambda x: random.choice(x) if len(x) > 0 else None).astype('Int64')\n",
    "    \n",
    "    # Step 5: Find the cooresponding informtion about the female speaker and save in new dataframe\n",
    "    male_list = []\n",
    "    female_list = []\n",
    "    year_list = []\n",
    "    source_F_list = []\n",
    "    source_M_list = []\n",
    "\n",
    "    # filter before the loop\n",
    "    df_filtered = row['gender'] == 'M' and row['Similar Females'] != \"\"\n",
    "\n",
    "    for i, row in df.iterrows():\n",
    "        if row['gender'] == 'M' and row['Similar Females'] != \"\":    \n",
    "            male_list.append(row['Full name'])\n",
    "            female_list.append(df.loc[row['random_index'],'Full name'])\n",
    "            year_list.append(int(row['Year']))\n",
    "            source_F_list.append(df.loc[row['random_index'],'Source'])\n",
    "            source_M_list.append(row['Source'])\n",
    "            \n",
    "    A = pd.DataFrame({\n",
    "        'name_M': male_list,\n",
    "        'year_M': year_list,\n",
    "        'source_M': source_M_list,\n",
    "        'name_F': female_list,\n",
    "        'source_F': source_F_list,\n",
    "    })\n",
    "            \n",
    "    # Step 6: Calculate the ratio of female invited speakers per year\n",
    "    A_grouped = A.groupby(['year_M', 'source_F']).size().reset_index(name='count')\n",
    "    A_invited = A_grouped[A_grouped['source_F'] == 'Invited']\n",
    "    A_invited_grouped = A.groupby(['year_M'])['source_F'].count().reset_index(name='total')\n",
    "    B = pd.merge(A_invited, A_invited_grouped, on='year_M')\n",
    "    B['fraction'] = B['count'] / B['total'] # number of females invited / total number of speakers for that year\n",
    "    B = B[['year_M', 'fraction']]\n",
    "    \n",
    "    for index, row in B.iterrows():\n",
    "        year = row['year_M']\n",
    "        fraction = row['fraction']\n",
    "        if year in fractions:\n",
    "            fractions[year].append(fraction)\n",
    "        else:\n",
    "            fractions[year] = [fraction]\n",
    "            \n",
    "            \n",
    "# Step 7: Based on the list of fraction by year, calculate the mean and std.             \n",
    "C = pd.DataFrame(columns=['year', 'mean', 'std'])\n",
    "for year in fractions:\n",
    "    mean = sum(fractions[year]) / len(fractions[year])\n",
    "    std = pd.Series(fractions[year]).std()\n",
    "    C = C.append({'year': year, 'mean': mean, 'std': std}, ignore_index=True)\n",
    "C['year'] = C['year'].astype(int)\n",
    "\n",
    "# Step 8: Save table for reference\n",
    "C.to_csv('Fraction_of_invited_Females.csv', index=False)\n",
    "'''"
   ]
  }
 ],
 "metadata": {
  "kernelspec": {
   "display_name": "Python 3",
   "language": "python",
   "name": "python3"
  },
  "language_info": {
   "codemirror_mode": {
    "name": "ipython",
    "version": 3
   },
   "file_extension": ".py",
   "mimetype": "text/x-python",
   "name": "python",
   "nbconvert_exporter": "python",
   "pygments_lexer": "ipython3",
   "version": "3.11.1"
  },
  "orig_nbformat": 4
 },
 "nbformat": 4,
 "nbformat_minor": 2
}
