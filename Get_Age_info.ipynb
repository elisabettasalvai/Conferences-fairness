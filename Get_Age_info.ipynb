{
 "cells": [
  {
   "attachments": {},
   "cell_type": "markdown",
   "metadata": {},
   "source": [
    "# Get information about the age of the speakers"
   ]
  },
  {
   "cell_type": "code",
   "execution_count": 1,
   "metadata": {},
   "outputs": [],
   "source": [
    "%run setup.py"
   ]
  },
  {
   "cell_type": "code",
   "execution_count": 71,
   "metadata": {},
   "outputs": [
    {
     "data": {
      "text/plain": [
       "0           Atsushi Asada\n",
       "1            Jim Meadlock\n",
       "2          John Darringer\n",
       "3            Tatsuo Izawa\n",
       "4        Daniel D. Gajski\n",
       "              ...        \n",
       "1260           Victor Zue\n",
       "1261        David Goddeau\n",
       "1262    Christopher Dobbs\n",
       "1263      Robert W. Lucky\n",
       "1264       Thomas Reardon\n",
       "Name: Full name, Length: 1265, dtype: object"
      ]
     },
     "execution_count": 71,
     "metadata": {},
     "output_type": "execute_result"
    }
   ],
   "source": [
    "df = pd.read_csv('factInvited.csv', encoding='utf-8')\n",
    "wiki_name = df['Full name'].str.replace('  ', ' ')\n",
    "# wiki_name = df['Full name'].str.replace(' ', '_')\n",
    "wiki_name = wiki_name.drop_duplicates().reset_index(drop=True)\n",
    "\n",
    "# drop nan values from the list\n",
    "wiki_name = wiki_name.dropna().reset_index(drop=True)\n",
    "wiki_name"
   ]
  },
  {
   "cell_type": "code",
   "execution_count": 49,
   "metadata": {},
   "outputs": [
    {
     "data": {
      "text/plain": [
       "3"
      ]
     },
     "execution_count": 49,
     "metadata": {},
     "output_type": "execute_result"
    }
   ],
   "source": [
    "# random integer between 1 and 4\n",
    "np.random.randint(1, 5)"
   ]
  },
  {
   "cell_type": "code",
   "execution_count": 50,
   "metadata": {},
   "outputs": [
    {
     "name": "stderr",
     "output_type": "stream",
     "text": [
      "100%|██████████| 1265/1265 [59:32<00:00,  2.82s/it] \n"
     ]
    }
   ],
   "source": [
    "name_list = []\n",
    "year_list = []\n",
    "\n",
    "for name in tqdm(wiki_name):\n",
    "    url = \"https://en.wikipedia.org/wiki/\" + name\n",
    "\n",
    "    # Send an HTTP request to the URL and get the response\n",
    "    response = requests.get(url)\n",
    "\n",
    "    # Parse the HTML content of the response using BeautifulSoup\n",
    "    soup = BeautifulSoup(response.content, \"html.parser\")\n",
    "    \n",
    "    # if the page doesn't exist, skip it and move on to the next one\n",
    "    if soup.find(\"table\", {\"class\": \"infobox\"}):\n",
    "        # Find the infobox table on the page\n",
    "        infobox = soup.find(\"table\", {\"class\": \"infobox\"})\n",
    "\n",
    "        if infobox.find(\"th\", string=\"Born\"):\n",
    "            # Find the row in the infobox table that contains the birth date\n",
    "            birthdate_row = infobox.find(\"th\", string=\"Born\").parent\n",
    "\n",
    "            if birthdate_row.find(\"td\"):\n",
    "                # Find the cell in the birthdate row that contains the birth date text\n",
    "                birthdate_cell = birthdate_row.find(\"td\")\n",
    "\n",
    "                if birthdate_cell.text.split(\",\")[0].strip():\n",
    "                    # Extract the birth year from the birth date text\n",
    "                    birth_year = birthdate_cell.text.split(\",\")[0].strip()\n",
    "\n",
    "                    if re.findall(r'\\d{4}', birth_year):\n",
    "                        # only keep the digits which are four characters long\n",
    "                        birth_year = re.findall(r'\\d{4}', birth_year)[0]\n",
    "                        \n",
    "                        name_list.append(name)\n",
    "                        year_list.append(birth_year)\n",
    "    time.sleep(np.random.randint(1, 5))\n",
    "\n",
    "                        # # Print the birth year\n",
    "                        # print(\"Birth year:\", birth_year)\n"
   ]
  },
  {
   "cell_type": "code",
   "execution_count": 83,
   "metadata": {},
   "outputs": [
    {
     "data": {
      "text/plain": [
       "'Arne_Andersson'"
      ]
     },
     "execution_count": 83,
     "metadata": {},
     "output_type": "execute_result"
    }
   ],
   "source": [
    "# find the index of the lowest birth year in the list\n",
    "min_index = year_list.index(sorted(year_list)[6])\n",
    "name_list[min_index]"
   ]
  },
  {
   "cell_type": "code",
   "execution_count": 84,
   "metadata": {},
   "outputs": [
    {
     "data": {
      "text/plain": [
       "0.2845849802371542"
      ]
     },
     "execution_count": 84,
     "metadata": {},
     "output_type": "execute_result"
    }
   ],
   "source": [
    "len(name_list)/len(wiki_name)"
   ]
  }
 ],
 "metadata": {
  "kernelspec": {
   "display_name": "Python 3",
   "language": "python",
   "name": "python3"
  },
  "language_info": {
   "codemirror_mode": {
    "name": "ipython",
    "version": 3
   },
   "file_extension": ".py",
   "mimetype": "text/x-python",
   "name": "python",
   "nbconvert_exporter": "python",
   "pygments_lexer": "ipython3",
   "version": "3.11.1"
  },
  "orig_nbformat": 4,
  "vscode": {
   "interpreter": {
    "hash": "d92ff415db99feb7da45e8748a5c23d5d44d2038e70d5b05ab6a02856c817802"
   }
  }
 },
 "nbformat": 4,
 "nbformat_minor": 2
}
