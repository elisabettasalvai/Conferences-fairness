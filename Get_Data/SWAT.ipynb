{
 "cells": [
  {
   "cell_type": "code",
   "execution_count": 1,
   "metadata": {},
   "outputs": [],
   "source": [
    "import numpy as np\n",
    "import matplotlib.pyplot as plt\n",
    "import seaborn\n",
    "import matplotlib.cm as cm\n",
    "import requests\n",
    "import json\n",
    "import pandas as pd\n",
    "import time\n",
    "import datetime\n",
    "import os\n",
    "import sys\n",
    "import glob\n",
    "import re\n",
    "import math\n",
    "import random\n",
    "import pickle\n",
    "import copy\n",
    "import itertools\n",
    "import collections\n",
    "import warnings\n",
    "warnings.filterwarnings('ignore')\n",
    "from bs4 import BeautifulSoup"
   ]
  },
  {
   "cell_type": "code",
   "execution_count": 12,
   "metadata": {},
   "outputs": [],
   "source": [
    "# Initialize\n",
    "df = pd.DataFrame(columns = ['Full name',\"Year\"])\n",
    "# Create a list from 1998 to 2022 with only even numbers\n",
    "Year = [i for i in range(1988,2023,2)]"
   ]
  },
  {
   "cell_type": "code",
   "execution_count": 9,
   "metadata": {},
   "outputs": [],
   "source": [
    "URL_name = \"https://dblp.org/db/conf/swat/index.html\"\n",
    "page = requests.get(URL_name)\n",
    "soup = BeautifulSoup(page.content, \"html.parser\")\n",
    "\n",
    "Year = []\n",
    "Full_name = []\n",
    "\n",
    "# Find Year\n",
    "source = soup.find(id=\"main\")\n",
    "ps = source.find_all(\"ul\", class_=\"publ-list\")\n",
    "for p in ps:\n",
    "    cites = p.find_all(\"cite\", class_=\"data tts-content\")\n",
    "    for c in cites:\n",
    "        speaker = c.find(\"a\")\n",
    "        if speaker.get(\"href\"):\n",
    "            Full_name.append(speaker.text)"
   ]
  },
  {
   "cell_type": "code",
   "execution_count": 14,
   "metadata": {},
   "outputs": [],
   "source": [
    "#  Append Year and Full name to the dataframe\n",
    "df['Full name'] = Full_name\n",
    "df['Year'] = Year\n",
    "\n",
    "# Save the dataframe\n",
    "df.to_csv('SWAT_data.csv', index=False)"
   ]
  }
 ],
 "metadata": {
  "kernelspec": {
   "display_name": "Python 3",
   "language": "python",
   "name": "python3"
  },
  "language_info": {
   "codemirror_mode": {
    "name": "ipython",
    "version": 3
   },
   "file_extension": ".py",
   "mimetype": "text/x-python",
   "name": "python",
   "nbconvert_exporter": "python",
   "pygments_lexer": "ipython3",
   "version": "3.11.1"
  },
  "orig_nbformat": 4,
  "vscode": {
   "interpreter": {
    "hash": "d92ff415db99feb7da45e8748a5c23d5d44d2038e70d5b05ab6a02856c817802"
   }
  }
 },
 "nbformat": 4,
 "nbformat_minor": 2
}
