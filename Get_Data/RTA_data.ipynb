{
 "cells": [
  {
   "cell_type": "code",
   "execution_count": 2,
   "metadata": {},
   "outputs": [],
   "source": [
    "import numpy as np\n",
    "import matplotlib.pyplot as plt\n",
    "import seaborn\n",
    "import matplotlib.cm as cm\n",
    "import requests\n",
    "import json\n",
    "import pandas as pd\n",
    "import time\n",
    "import datetime\n",
    "import os\n",
    "import sys\n",
    "import glob\n",
    "import re\n",
    "import math\n",
    "import random\n",
    "import pickle\n",
    "import copy\n",
    "import itertools\n",
    "import collections\n",
    "import warnings\n",
    "warnings.filterwarnings('ignore')\n",
    "from bs4 import BeautifulSoup"
   ]
  },
  {
   "cell_type": "code",
   "execution_count": 95,
   "metadata": {},
   "outputs": [],
   "source": [
    "# Initialize\n",
    "df = pd.DataFrame(columns = ['Full name'])\n",
    "# Create a list from 85 to 15\n",
    "years = [str(i) for i in range(1985,2016)]\n",
    "order_list = [2,4,6,8,9,10,12,14,16,18,21,23,24,25,26,27,28,29,30,31,31,32,33,34]\n",
    "\n",
    "Full_name = []\n",
    "Year = []\n",
    "\n",
    "URL_name = \"http://rewriting.loria.fr/rta/\"\n",
    "page = requests.get(URL_name)\n",
    "soup = BeautifulSoup(page.content, \"html.parser\")\n",
    "results = soup.find_all(\"ul\")"
   ]
  },
  {
   "cell_type": "code",
   "execution_count": 96,
   "metadata": {},
   "outputs": [],
   "source": [
    "for i in order_list:\n",
    "    speaker = results[i].find_all(\"li\")\n",
    "    for i in speaker:\n",
    "        name = i\n",
    "        name = name.text\n",
    "        # split the name after \",\"\n",
    "        name = name.split(\",\")[0]\n",
    "        Full_name.append(name)"
   ]
  },
  {
   "cell_type": "code",
   "execution_count": 97,
   "metadata": {},
   "outputs": [],
   "source": [
    "#  Append Full name to the dataframe\n",
    "df['Full name'] = Full_name\n",
    "df['Year'] = 20\n",
    "df.head()\n",
    "\n",
    "# Save the dataframe\n",
    "df.to_csv('RTA_data.csv', index=False)"
   ]
  }
 ],
 "metadata": {
  "kernelspec": {
   "display_name": "Python 3",
   "language": "python",
   "name": "python3"
  },
  "language_info": {
   "codemirror_mode": {
    "name": "ipython",
    "version": 3
   },
   "file_extension": ".py",
   "mimetype": "text/x-python",
   "name": "python",
   "nbconvert_exporter": "python",
   "pygments_lexer": "ipython3",
   "version": "3.11.1"
  },
  "orig_nbformat": 4,
  "vscode": {
   "interpreter": {
    "hash": "d92ff415db99feb7da45e8748a5c23d5d44d2038e70d5b05ab6a02856c817802"
   }
  }
 },
 "nbformat": 4,
 "nbformat_minor": 2
}
