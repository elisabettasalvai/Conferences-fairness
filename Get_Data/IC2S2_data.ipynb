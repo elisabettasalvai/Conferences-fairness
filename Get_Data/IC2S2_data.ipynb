{
 "cells": [
  {
   "cell_type": "code",
   "execution_count": 1,
   "id": "fd653901",
   "metadata": {},
   "outputs": [],
   "source": [
    "import pandas as pd\n",
    "from bs4 import BeautifulSoup\n",
    "import requests\n",
    "import time\n",
    "def flatten(l):\n",
    "    return [item for sublist in l for item in sublist]\n",
    "from tabula.io import read_pdf"
   ]
  },
  {
   "cell_type": "markdown",
   "id": "e6c55f06",
   "metadata": {},
   "source": [
    "## Find subset of authors from conferences"
   ]
  },
  {
   "cell_type": "markdown",
   "id": "8fd48f73",
   "metadata": {},
   "source": [
    "### 2022"
   ]
  },
  {
   "cell_type": "code",
   "execution_count": 4,
   "id": "b8f57985",
   "metadata": {},
   "outputs": [
    {
     "ename": "JavaNotFoundError",
     "evalue": "`java` command is not found from this Python process.Please ensure Java is installed and PATH is set for `java`",
     "output_type": "error",
     "traceback": [
      "\u001b[1;31m---------------------------------------------------------------------------\u001b[0m",
      "\u001b[1;31mFileNotFoundError\u001b[0m                         Traceback (most recent call last)",
      "File \u001b[1;32mc:\\Users\\verga\\AppData\\Local\\Programs\\Python\\Python311\\Lib\\site-packages\\tabula\\io.py:88\u001b[0m, in \u001b[0;36m_run\u001b[1;34m(java_options, options, path, encoding)\u001b[0m\n\u001b[0;32m     87\u001b[0m \u001b[39mtry\u001b[39;00m:\n\u001b[1;32m---> 88\u001b[0m     result \u001b[39m=\u001b[39m subprocess\u001b[39m.\u001b[39;49mrun(\n\u001b[0;32m     89\u001b[0m         args,\n\u001b[0;32m     90\u001b[0m         stdout\u001b[39m=\u001b[39;49msubprocess\u001b[39m.\u001b[39;49mPIPE,\n\u001b[0;32m     91\u001b[0m         stderr\u001b[39m=\u001b[39;49msubprocess\u001b[39m.\u001b[39;49mPIPE,\n\u001b[0;32m     92\u001b[0m         stdin\u001b[39m=\u001b[39;49msubprocess\u001b[39m.\u001b[39;49mDEVNULL,\n\u001b[0;32m     93\u001b[0m         check\u001b[39m=\u001b[39;49m\u001b[39mTrue\u001b[39;49;00m,\n\u001b[0;32m     94\u001b[0m     )\n\u001b[0;32m     95\u001b[0m     \u001b[39mif\u001b[39;00m result\u001b[39m.\u001b[39mstderr:\n",
      "File \u001b[1;32mc:\\Users\\verga\\AppData\\Local\\Programs\\Python\\Python311\\Lib\\subprocess.py:548\u001b[0m, in \u001b[0;36mrun\u001b[1;34m(input, capture_output, timeout, check, *popenargs, **kwargs)\u001b[0m\n\u001b[0;32m    546\u001b[0m     kwargs[\u001b[39m'\u001b[39m\u001b[39mstderr\u001b[39m\u001b[39m'\u001b[39m] \u001b[39m=\u001b[39m PIPE\n\u001b[1;32m--> 548\u001b[0m \u001b[39mwith\u001b[39;00m Popen(\u001b[39m*\u001b[39;49mpopenargs, \u001b[39m*\u001b[39;49m\u001b[39m*\u001b[39;49mkwargs) \u001b[39mas\u001b[39;00m process:\n\u001b[0;32m    549\u001b[0m     \u001b[39mtry\u001b[39;00m:\n",
      "File \u001b[1;32mc:\\Users\\verga\\AppData\\Local\\Programs\\Python\\Python311\\Lib\\subprocess.py:1024\u001b[0m, in \u001b[0;36mPopen.__init__\u001b[1;34m(self, args, bufsize, executable, stdin, stdout, stderr, preexec_fn, close_fds, shell, cwd, env, universal_newlines, startupinfo, creationflags, restore_signals, start_new_session, pass_fds, user, group, extra_groups, encoding, errors, text, umask, pipesize, process_group)\u001b[0m\n\u001b[0;32m   1021\u001b[0m             \u001b[39mself\u001b[39m\u001b[39m.\u001b[39mstderr \u001b[39m=\u001b[39m io\u001b[39m.\u001b[39mTextIOWrapper(\u001b[39mself\u001b[39m\u001b[39m.\u001b[39mstderr,\n\u001b[0;32m   1022\u001b[0m                     encoding\u001b[39m=\u001b[39mencoding, errors\u001b[39m=\u001b[39merrors)\n\u001b[1;32m-> 1024\u001b[0m     \u001b[39mself\u001b[39;49m\u001b[39m.\u001b[39;49m_execute_child(args, executable, preexec_fn, close_fds,\n\u001b[0;32m   1025\u001b[0m                         pass_fds, cwd, env,\n\u001b[0;32m   1026\u001b[0m                         startupinfo, creationflags, shell,\n\u001b[0;32m   1027\u001b[0m                         p2cread, p2cwrite,\n\u001b[0;32m   1028\u001b[0m                         c2pread, c2pwrite,\n\u001b[0;32m   1029\u001b[0m                         errread, errwrite,\n\u001b[0;32m   1030\u001b[0m                         restore_signals,\n\u001b[0;32m   1031\u001b[0m                         gid, gids, uid, umask,\n\u001b[0;32m   1032\u001b[0m                         start_new_session, process_group)\n\u001b[0;32m   1033\u001b[0m \u001b[39mexcept\u001b[39;00m:\n\u001b[0;32m   1034\u001b[0m     \u001b[39m# Cleanup if the child failed starting.\u001b[39;00m\n",
      "File \u001b[1;32mc:\\Users\\verga\\AppData\\Local\\Programs\\Python\\Python311\\Lib\\subprocess.py:1493\u001b[0m, in \u001b[0;36mPopen._execute_child\u001b[1;34m(self, args, executable, preexec_fn, close_fds, pass_fds, cwd, env, startupinfo, creationflags, shell, p2cread, p2cwrite, c2pread, c2pwrite, errread, errwrite, unused_restore_signals, unused_gid, unused_gids, unused_uid, unused_umask, unused_start_new_session, unused_process_group)\u001b[0m\n\u001b[0;32m   1492\u001b[0m \u001b[39mtry\u001b[39;00m:\n\u001b[1;32m-> 1493\u001b[0m     hp, ht, pid, tid \u001b[39m=\u001b[39m _winapi\u001b[39m.\u001b[39;49mCreateProcess(executable, args,\n\u001b[0;32m   1494\u001b[0m                              \u001b[39m# no special security\u001b[39;49;00m\n\u001b[0;32m   1495\u001b[0m                              \u001b[39mNone\u001b[39;49;00m, \u001b[39mNone\u001b[39;49;00m,\n\u001b[0;32m   1496\u001b[0m                              \u001b[39mint\u001b[39;49m(\u001b[39mnot\u001b[39;49;00m close_fds),\n\u001b[0;32m   1497\u001b[0m                              creationflags,\n\u001b[0;32m   1498\u001b[0m                              env,\n\u001b[0;32m   1499\u001b[0m                              cwd,\n\u001b[0;32m   1500\u001b[0m                              startupinfo)\n\u001b[0;32m   1501\u001b[0m \u001b[39mfinally\u001b[39;00m:\n\u001b[0;32m   1502\u001b[0m     \u001b[39m# Child is launched. Close the parent's copy of those pipe\u001b[39;00m\n\u001b[0;32m   1503\u001b[0m     \u001b[39m# handles that only the child should have open.  You need\u001b[39;00m\n\u001b[1;32m   (...)\u001b[0m\n\u001b[0;32m   1506\u001b[0m     \u001b[39m# pipe will not close when the child process exits and the\u001b[39;00m\n\u001b[0;32m   1507\u001b[0m     \u001b[39m# ReadFile will hang.\u001b[39;00m\n",
      "\u001b[1;31mFileNotFoundError\u001b[0m: [WinError 2] The system cannot find the file specified",
      "\nDuring handling of the above exception, another exception occurred:\n",
      "\u001b[1;31mJavaNotFoundError\u001b[0m                         Traceback (most recent call last)",
      "Cell \u001b[1;32mIn[4], line 20\u001b[0m\n\u001b[0;32m     17\u001b[0m file \u001b[39m=\u001b[39m \u001b[39m\"\u001b[39m\u001b[39m2022.pdf\u001b[39m\u001b[39m\"\u001b[39m\n\u001b[0;32m     19\u001b[0m pages \u001b[39m=\u001b[39m \u001b[39m\"\u001b[39m\u001b[39m,\u001b[39m\u001b[39m\"\u001b[39m\u001b[39m.\u001b[39mjoin([\u001b[39mstr\u001b[39m(i) \u001b[39mfor\u001b[39;00m i \u001b[39min\u001b[39;00m \u001b[39mrange\u001b[39m(\u001b[39m27\u001b[39m,\u001b[39m47\u001b[39m)])\n\u001b[1;32m---> 20\u001b[0m tables \u001b[39m=\u001b[39m read_pdf(file,pages\u001b[39m=\u001b[39;49mpages)\n\u001b[0;32m     21\u001b[0m authors_2022 \u001b[39m=\u001b[39m \u001b[39mset\u001b[39m(flatten([parse_table(i) \u001b[39mfor\u001b[39;00m i \u001b[39min\u001b[39;00m tables]))\n",
      "File \u001b[1;32mc:\\Users\\verga\\AppData\\Local\\Programs\\Python\\Python311\\Lib\\site-packages\\tabula\\io.py:425\u001b[0m, in \u001b[0;36mread_pdf\u001b[1;34m(input_path, output_format, encoding, java_options, pandas_options, multiple_tables, user_agent, use_raw_url, pages, guess, area, relative_area, lattice, stream, password, silent, columns, relative_columns, format, batch, output_path, options)\u001b[0m\n\u001b[0;32m    422\u001b[0m     \u001b[39mraise\u001b[39;00m \u001b[39mValueError\u001b[39;00m(\u001b[39mf\u001b[39m\u001b[39m\"\u001b[39m\u001b[39m{\u001b[39;00mpath\u001b[39m}\u001b[39;00m\u001b[39m is empty. Check the file, or download it manually.\u001b[39m\u001b[39m\"\u001b[39m)\n\u001b[0;32m    424\u001b[0m \u001b[39mtry\u001b[39;00m:\n\u001b[1;32m--> 425\u001b[0m     output \u001b[39m=\u001b[39m _run(java_options, tabula_options, path, encoding)\n\u001b[0;32m    426\u001b[0m \u001b[39mfinally\u001b[39;00m:\n\u001b[0;32m    427\u001b[0m     \u001b[39mif\u001b[39;00m temporary:\n",
      "File \u001b[1;32mc:\\Users\\verga\\AppData\\Local\\Programs\\Python\\Python311\\Lib\\site-packages\\tabula\\io.py:99\u001b[0m, in \u001b[0;36m_run\u001b[1;34m(java_options, options, path, encoding)\u001b[0m\n\u001b[0;32m     97\u001b[0m     \u001b[39mreturn\u001b[39;00m result\u001b[39m.\u001b[39mstdout\n\u001b[0;32m     98\u001b[0m \u001b[39mexcept\u001b[39;00m \u001b[39mFileNotFoundError\u001b[39;00m:\n\u001b[1;32m---> 99\u001b[0m     \u001b[39mraise\u001b[39;00m JavaNotFoundError(JAVA_NOT_FOUND_ERROR)\n\u001b[0;32m    100\u001b[0m \u001b[39mexcept\u001b[39;00m subprocess\u001b[39m.\u001b[39mCalledProcessError \u001b[39mas\u001b[39;00m e:\n\u001b[0;32m    101\u001b[0m     logger\u001b[39m.\u001b[39merror(\u001b[39mf\u001b[39m\u001b[39m\"\u001b[39m\u001b[39mError from tabula-java:\u001b[39m\u001b[39m\\n\u001b[39;00m\u001b[39m{\u001b[39;00me\u001b[39m.\u001b[39mstderr\u001b[39m.\u001b[39mdecode(encoding)\u001b[39m}\u001b[39;00m\u001b[39m\\n\u001b[39;00m\u001b[39m\"\u001b[39m)\n",
      "\u001b[1;31mJavaNotFoundError\u001b[0m: `java` command is not found from this Python process.Please ensure Java is installed and PATH is set for `java`"
     ]
    }
   ],
   "source": [
    "# conda install -c conda-forge camelot-py\n",
    "# import camelot\n",
    "\n",
    "def parse_table(table):\n",
    "    \n",
    "    table = table.df\n",
    "    table.columns = [\"title\",\"Authors\",\"session\"]\n",
    "    table = table[table.Authors!=\"Authors\"]\n",
    "        \n",
    "    authors_in_table = []\n",
    "    for set_of_authors in table[\"Authors\"]:\n",
    "        \n",
    "        set_of_authors = set_of_authors.replace(\"\\n\",\" \").replace(\", \",\",\").replace(\" and \",\",\").split(\",\")\n",
    "        authors_in_table.extend(set_of_authors)\n",
    "    return authors_in_table\n",
    "\n",
    "file = \"2022.pdf\"\n",
    "\n",
    "pages = \",\".join([str(i) for i in range(27,47)])\n",
    "tables = read_pdf(file,pages=pages)\n",
    "authors_2022 = set(flatten([parse_table(i) for i in tables]))"
   ]
  },
  {
   "cell_type": "markdown",
   "id": "00ca21a3",
   "metadata": {},
   "source": [
    "### 2021"
   ]
  },
  {
   "cell_type": "code",
   "execution_count": 3,
   "id": "da254830",
   "metadata": {},
   "outputs": [],
   "source": [
    "#LINK: https://easychair.org/smart-program/IC2S2-2021/talk_author_index.html\n",
    "##HERE I'd RATHER HAVE THEM USE BEAUTIFUL SOUP\n",
    "table_2021 = pd.read_html(\"../data/ic2s2_programmes/2021.html\")[1].dropna(subset=[0])[0]\n",
    "table_2021 = table_2021.apply(lambda x: \" \".join(x.split(\", \")[::-1]))\n",
    "authors_2021 = set([i for i in table_2021 if len(i)>1])"
   ]
  },
  {
   "cell_type": "markdown",
   "id": "dc5f979e",
   "metadata": {},
   "source": [
    "### 2020"
   ]
  },
  {
   "cell_type": "code",
   "execution_count": 4,
   "id": "fe3eb74c",
   "metadata": {},
   "outputs": [],
   "source": [
    "#LINK: https://ic2s2.mit.edu/program\n",
    "#LINK2 : https://docs.google.com/spreadsheets/u/0/d/e/2PACX-1vTX9_1Xftn7D-nSI8X9b7tafr_Z0kAbphKdfZ8qUSU9p-syXNsGPdhHl5ZyTnKKL-T6dCEJqtsrn3wy/pubhtml/sheet?headers=false&gid=181378784\n",
    "##HERE I'd RATHER HAVE THEM USE BEAUTIFUL SOUP\n",
    "\n",
    "table_2020 = pd.read_html(\"../data/ic2s2_programmes/2020.html\", header =1)[0]\n",
    "authors_2020 = set(flatten(table_2020[\"Presenters\"].dropna().apply(lambda x:x.split(\", \"))))\n"
   ]
  },
  {
   "cell_type": "markdown",
   "id": "f567d8ae",
   "metadata": {},
   "source": [
    "### 2019"
   ]
  },
  {
   "cell_type": "code",
   "execution_count": 5,
   "id": "a43cc5fb",
   "metadata": {
    "scrolled": false
   },
   "outputs": [],
   "source": [
    "#LINK ORAL: https://2019.ic2s2.org/oral-presentations/\n",
    "#LINK POSTERS: https://2019.ic2s2.org/posters/\n",
    "\n",
    "poster_2019 = \"../data/ic2s2_programmes/2019_posters.html\"\n",
    "oral_2019 = \"../data/ic2s2_programmes/2019_oral.html\"\n",
    "\n",
    "def parse_poster_page(link):\n",
    "    \n",
    "    all_page = BeautifulSoup(open(link).read())\n",
    "\n",
    "    #Find the items in the bullet points\n",
    "    body = all_page.find(\"body\")\n",
    "    content = body.find_all(\"div\",{\"class\":\"col-md-8 page-content-wrap\"})[0]\n",
    "    bullet_items = content.find_all(\"li\")\n",
    "\n",
    "    ##REMOVE THE BOLD ITEMS from each bullet points (those are the paper titles)\n",
    "    for item in bullet_items:    \n",
    "        strong_parts = item.find_all(\"strong\")\n",
    "        for part in strong_parts:\n",
    "            part.extract() #This will remove it from the soup\n",
    "           \n",
    "    all_authors = []\n",
    "    for list_of_authors in bullet_items:\n",
    "        list_of_authors = list_of_authors.text.replace(\"\\xa0\",'').replace(\"\\n\",'').replace(\" and \", \", \").replace(\", \",\",\") #clean string\n",
    "        all_authors.extend(list_of_authors.split(\",\"))\n",
    "    return set(all_authors)\n",
    "\n",
    "def parse_oral_page(link):\n",
    "    \n",
    "    def find_authors(string):\n",
    "        \"\"\"\n",
    "        Given the authors + title string returns list of authors\n",
    "        \n",
    "        \"\"\"\n",
    "        \n",
    "        #when the title contains full stops is a problem so replace those cases\n",
    "        string = string.replace(\"U.S.\",\"US\").replace(\"vs.\",\"vs\").replace(\"APIs.\",\"APIs\")\n",
    "        \n",
    "        authors = \". \".join(string.split(\". \")[:-1]) #remove the title of the presentation\n",
    "        \n",
    "        #FIX THE STRING\n",
    "        authors = authors.replace(\", \",\",\")\n",
    "        authors = authors.replace(\" and \",\",\")\n",
    "        authors = authors.replace(\" –\",\"\")\n",
    "        authors = authors.replace(\"No presentation (cancelled). \",\"\")\n",
    "        authors = authors.replace(\"No presentation (cancelled)\",\"\")\n",
    "        authors = authors.replace(\"No presentation: \",\"\")\n",
    "        authors = authors.replace(\"(Moved to 3D Text Analysis) \",\"\")\n",
    "\n",
    "        return [i for i in authors.split(\",\") if i!= \"\"]\n",
    "    \n",
    "    all_page = BeautifulSoup(open(link).read())\n",
    "    #Find the paragraphs that contain the oral presentations\n",
    "    body = all_page.find(\"body\")\n",
    "    content = body.find_all(\"div\",{\"class\":\"col-md-8 page-content-wrap\"})[0] \n",
    "    paragraphs = content.find_all(\"p\")[3:] #The first three paragraphs do not contain the oral presentations\n",
    "\n",
    "    all_authors = []\n",
    "    for paragraph in paragraphs: #PARSE EACH PARAGRAPH\n",
    "        \n",
    "        ##CHAIR\n",
    "        chair = paragraph.contents[3].text.replace(\"Chair: \",'') #THIS IS THE CHAIR OF THE SESSION\n",
    "        all_authors.append(chair) #ADD THE CHAIR TO THE LIST OF AUTHORS\n",
    "        \n",
    "        \n",
    "        ##PRESENTATIONS\n",
    "        data = paragraph.contents[4:] #HERE ARE ALL THE PRESENTATIONS\n",
    "        lines = [i.text.split(\" – \") for i in data] #THIS WOULD DIVIDE THE TIME FROM THE TEXT\n",
    "        data = [i[2] for i in lines if len(i)>=2] #TAKE ONLY THE AUTHORS AND THE TITLE\n",
    "\n",
    "        authors = flatten([find_authors(i) for i in data])\n",
    "        all_authors.extend(authors)\n",
    "    return set(all_authors)\n",
    "        \n",
    "authors_2019 = parse_oral_page(oral_2019).union(parse_poster_page(poster_2019))\n"
   ]
  },
  {
   "cell_type": "code",
   "execution_count": 6,
   "id": "2c39c57a",
   "metadata": {},
   "outputs": [],
   "source": [
    "all_authors = list(sorted(set.union(*[authors_2022, authors_2021, authors_2020, authors_2019 ])))"
   ]
  },
  {
   "cell_type": "code",
   "execution_count": 7,
   "id": "99cd79a4",
   "metadata": {},
   "outputs": [],
   "source": [
    "with open('../data/ic2s2_authors.txt', 'w') as f:\n",
    "    for line in all_authors:\n",
    "        f.write(f\"{line}\\n\")"
   ]
  },
  {
   "cell_type": "code",
   "execution_count": 9,
   "id": "84556982",
   "metadata": {},
   "outputs": [
    {
     "data": {
      "text/plain": [
       "820"
      ]
     },
     "execution_count": 9,
     "metadata": {},
     "output_type": "execute_result"
    }
   ],
   "source": [
    "len(authors_2022)"
   ]
  },
  {
   "cell_type": "code",
   "execution_count": 10,
   "id": "0872b848",
   "metadata": {},
   "outputs": [
    {
     "data": {
      "text/plain": [
       "692"
      ]
     },
     "execution_count": 10,
     "metadata": {},
     "output_type": "execute_result"
    }
   ],
   "source": [
    "len(authors_2021)"
   ]
  },
  {
   "cell_type": "code",
   "execution_count": 11,
   "id": "c5b1f696",
   "metadata": {},
   "outputs": [
    {
     "data": {
      "text/plain": [
       "990"
      ]
     },
     "execution_count": 11,
     "metadata": {},
     "output_type": "execute_result"
    }
   ],
   "source": [
    "len(authors_2020)"
   ]
  },
  {
   "cell_type": "code",
   "execution_count": 12,
   "id": "3250e5cd",
   "metadata": {},
   "outputs": [
    {
     "data": {
      "text/plain": [
       "905"
      ]
     },
     "execution_count": 12,
     "metadata": {},
     "output_type": "execute_result"
    }
   ],
   "source": [
    "len(authors_2019)"
   ]
  },
  {
   "cell_type": "code",
   "execution_count": 13,
   "id": "f9d67bcd",
   "metadata": {},
   "outputs": [
    {
     "data": {
      "text/plain": [
       "2745"
      ]
     },
     "execution_count": 13,
     "metadata": {},
     "output_type": "execute_result"
    }
   ],
   "source": [
    "len(all_authors)"
   ]
  }
 ],
 "metadata": {
  "kernelspec": {
   "display_name": "Python 3 (ipykernel)",
   "language": "python",
   "name": "python3"
  },
  "language_info": {
   "codemirror_mode": {
    "name": "ipython",
    "version": 3
   },
   "file_extension": ".py",
   "mimetype": "text/x-python",
   "name": "python",
   "nbconvert_exporter": "python",
   "pygments_lexer": "ipython3",
   "version": "3.11.1"
  }
 },
 "nbformat": 4,
 "nbformat_minor": 5
}
