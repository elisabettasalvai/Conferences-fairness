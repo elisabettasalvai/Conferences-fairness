{
 "cells": [
  {
   "cell_type": "code",
   "execution_count": 1,
   "metadata": {},
   "outputs": [],
   "source": [
    "import numpy as np\n",
    "import matplotlib.pyplot as plt\n",
    "import seaborn\n",
    "import matplotlib.cm as cm\n",
    "import requests\n",
    "import json\n",
    "import pandas as pd\n",
    "import time\n",
    "import datetime\n",
    "import os\n",
    "import sys\n",
    "import glob\n",
    "import re\n",
    "import math\n",
    "import random\n",
    "import pickle\n",
    "import copy\n",
    "import itertools\n",
    "import collections\n",
    "import warnings\n",
    "warnings.filterwarnings('ignore')\n",
    "from bs4 import BeautifulSoup"
   ]
  },
  {
   "attachments": {},
   "cell_type": "markdown",
   "metadata": {},
   "source": [
    "## Proceedings"
   ]
  },
  {
   "cell_type": "code",
   "execution_count": 24,
   "metadata": {},
   "outputs": [],
   "source": [
    "# Initialize\n",
    "df = pd.DataFrame(columns = ['Full_name',\"Year\"])\n",
    "# create a list from 2000 to 2022 without 2009, 2003 and 2001 and combine that with a list from 80 to 99 without 95, 89, 85 and 81\n",
    "years = [str(i) for i in range(1987,2022)]\n",
    "# years"
   ]
  },
  {
   "cell_type": "code",
   "execution_count": 25,
   "metadata": {},
   "outputs": [],
   "source": [
    "for year in years:\n",
    "    URL_name = \"https://dblp.org/db/conf/nips/nips\" + str(year) + \".html\"\n",
    "    URL = URL_name\n",
    "    page = requests.get(URL)\n",
    "    soup = BeautifulSoup(page.content, \"html.parser\")\n",
    "\n",
    "    data = []\n",
    "    Full_name = []\n",
    "\n",
    "    results1 = soup.find(id=\"main\")\n",
    "    results = soup.find(id=\"main\").find_all(\"ul\", class_=\"publ-list\")\n",
    "    # results1 = results.find(_class=\"publ-list\")\n",
    "    for row in results:\n",
    "        ids = [tag['id'] for tag in row.find_all(id=True)]\n",
    "        for i in ids:\n",
    "            name_ = results1.find(id=str(i))\n",
    "            rows = name_.find_all(\"span\")\n",
    "            for row in rows:\n",
    "                speaker = row.find_all(\"a\")\n",
    "                # only take non empty lists\n",
    "                if speaker:\n",
    "                    Full_name.append(speaker[0].text)\n",
    "\n",
    "    # create a dataframe\n",
    "    df1 = pd.DataFrame(columns = ['Full name',\"Year\"])\n",
    "    # append full name to the dataframe\n",
    "    df1['Full name'] = Full_name\n",
    "    # append year to the dataframe\n",
    "    df1['Year'] = year\n",
    "    time.sleep(2)\n",
    "\n",
    "    df = df.append(df1, ignore_index=True)"
   ]
  },
  {
   "cell_type": "code",
   "execution_count": 26,
   "metadata": {},
   "outputs": [
    {
     "data": {
      "text/html": [
       "<div>\n",
       "<style scoped>\n",
       "    .dataframe tbody tr th:only-of-type {\n",
       "        vertical-align: middle;\n",
       "    }\n",
       "\n",
       "    .dataframe tbody tr th {\n",
       "        vertical-align: top;\n",
       "    }\n",
       "\n",
       "    .dataframe thead th {\n",
       "        text-align: right;\n",
       "    }\n",
       "</style>\n",
       "<table border=\"1\" class=\"dataframe\">\n",
       "  <thead>\n",
       "    <tr style=\"text-align: right;\">\n",
       "      <th></th>\n",
       "      <th>Year</th>\n",
       "      <th>Full name</th>\n",
       "    </tr>\n",
       "  </thead>\n",
       "  <tbody>\n",
       "    <tr>\n",
       "      <th>0</th>\n",
       "      <td>1987</td>\n",
       "      <td>Dana Z. Anderson</td>\n",
       "    </tr>\n",
       "    <tr>\n",
       "      <th>1</th>\n",
       "      <td>1987</td>\n",
       "      <td>Yaser S. Abu-Mostafa</td>\n",
       "    </tr>\n",
       "    <tr>\n",
       "      <th>2</th>\n",
       "      <td>1987</td>\n",
       "      <td>Joshua Alspector</td>\n",
       "    </tr>\n",
       "    <tr>\n",
       "      <th>3</th>\n",
       "      <td>1987</td>\n",
       "      <td>Robert B. Allen</td>\n",
       "    </tr>\n",
       "    <tr>\n",
       "      <th>4</th>\n",
       "      <td>1987</td>\n",
       "      <td>Victor Hu</td>\n",
       "    </tr>\n",
       "    <tr>\n",
       "      <th>...</th>\n",
       "      <td>...</td>\n",
       "      <td>...</td>\n",
       "    </tr>\n",
       "    <tr>\n",
       "      <th>30021</th>\n",
       "      <td>2019</td>\n",
       "      <td>Chethan Pandarinath</td>\n",
       "    </tr>\n",
       "    <tr>\n",
       "      <th>30022</th>\n",
       "      <td>2019</td>\n",
       "      <td>Zhilin Yang</td>\n",
       "    </tr>\n",
       "    <tr>\n",
       "      <th>30023</th>\n",
       "      <td>2019</td>\n",
       "      <td>Thang Luong</td>\n",
       "    </tr>\n",
       "    <tr>\n",
       "      <th>30024</th>\n",
       "      <td>2019</td>\n",
       "      <td>Ruslan Salakhutdinov</td>\n",
       "    </tr>\n",
       "    <tr>\n",
       "      <th>30025</th>\n",
       "      <td>2019</td>\n",
       "      <td>Quoc V. Le</td>\n",
       "    </tr>\n",
       "  </tbody>\n",
       "</table>\n",
       "<p>30026 rows × 2 columns</p>\n",
       "</div>"
      ],
      "text/plain": [
       "       Year             Full name\n",
       "0      1987      Dana Z. Anderson\n",
       "1      1987  Yaser S. Abu-Mostafa\n",
       "2      1987      Joshua Alspector\n",
       "3      1987       Robert B. Allen\n",
       "4      1987             Victor Hu\n",
       "...     ...                   ...\n",
       "30021  2019   Chethan Pandarinath\n",
       "30022  2019           Zhilin Yang\n",
       "30023  2019           Thang Luong\n",
       "30024  2019  Ruslan Salakhutdinov\n",
       "30025  2019            Quoc V. Le\n",
       "\n",
       "[30026 rows x 2 columns]"
      ]
     },
     "execution_count": 26,
     "metadata": {},
     "output_type": "execute_result"
    }
   ],
   "source": [
    "df = df.drop('Full_name', axis=1)\n",
    "df"
   ]
  },
  {
   "cell_type": "code",
   "execution_count": 27,
   "metadata": {},
   "outputs": [],
   "source": [
    "df4 = df3.append(df, ignore_index=True)"
   ]
  },
  {
   "cell_type": "code",
   "execution_count": 23,
   "metadata": {},
   "outputs": [],
   "source": [
    "df3 = df3.drop('Full_name', axis=1)"
   ]
  },
  {
   "cell_type": "code",
   "execution_count": 33,
   "metadata": {},
   "outputs": [],
   "source": [
    "df3.to_csv('NeurIPS_data.csv', index=False)"
   ]
  },
  {
   "cell_type": "code",
   "execution_count": 32,
   "metadata": {},
   "outputs": [],
   "source": [
    "df3 = df3[['Year', 'Full name']]"
   ]
  },
  {
   "cell_type": "code",
   "execution_count": 30,
   "metadata": {},
   "outputs": [],
   "source": [
    "df3['Full name'] = df3['Full name'].str.strip()"
   ]
  },
  {
   "attachments": {},
   "cell_type": "markdown",
   "metadata": {},
   "source": [
    "## Proceedings 2020 + 2022"
   ]
  },
  {
   "cell_type": "code",
   "execution_count": 18,
   "metadata": {},
   "outputs": [],
   "source": [
    "from tqdm import tqdm"
   ]
  },
  {
   "cell_type": "code",
   "execution_count": 25,
   "metadata": {},
   "outputs": [
    {
     "name": "stderr",
     "output_type": "stream",
     "text": [
      "100%|██████████| 1898/1898 [00:00<00:00, 111531.57it/s]\n"
     ]
    }
   ],
   "source": [
    "URL_name = \"https://proceedings.neurips.cc/paper_files/paper/2020\"\n",
    "page = requests.get(URL_name)\n",
    "soup = BeautifulSoup(page.content, \"html.parser\")\n",
    "\n",
    "author_list = []\n",
    "\n",
    "list_of_all_papers = soup.find_all(\"li\",class_ = \"none\")\n",
    "for row in tqdm(range(0,len(list_of_all_papers))):\n",
    "    authors = list_of_all_papers[row].find(\"i\").text\n",
    "    authors = authors.split(\",\")\n",
    "    author_list.append(authors)\n",
    "    \n",
    "single_list = [item for sublist in author_list for item in sublist]\n",
    "# create a dataframe\n",
    "df1 = pd.DataFrame(columns = ['Full name',\"Year\"])\n",
    "# append full name to the dataframe\n",
    "df1['Full name'] = single_list\n",
    "# append year to the dataframe\n",
    "df1['Year'] = 2020"
   ]
  },
  {
   "cell_type": "code",
   "execution_count": 26,
   "metadata": {},
   "outputs": [
    {
     "data": {
      "text/html": [
       "<div>\n",
       "<style scoped>\n",
       "    .dataframe tbody tr th:only-of-type {\n",
       "        vertical-align: middle;\n",
       "    }\n",
       "\n",
       "    .dataframe tbody tr th {\n",
       "        vertical-align: top;\n",
       "    }\n",
       "\n",
       "    .dataframe thead th {\n",
       "        text-align: right;\n",
       "    }\n",
       "</style>\n",
       "<table border=\"1\" class=\"dataframe\">\n",
       "  <thead>\n",
       "    <tr style=\"text-align: right;\">\n",
       "      <th></th>\n",
       "      <th>Full name</th>\n",
       "      <th>Year</th>\n",
       "    </tr>\n",
       "  </thead>\n",
       "  <tbody>\n",
       "    <tr>\n",
       "      <th>0</th>\n",
       "      <td>Seongmin Ok</td>\n",
       "      <td>2020</td>\n",
       "    </tr>\n",
       "    <tr>\n",
       "      <th>1</th>\n",
       "      <td>Sangnie Bhardwaj</td>\n",
       "      <td>2020</td>\n",
       "    </tr>\n",
       "    <tr>\n",
       "      <th>2</th>\n",
       "      <td>Ian Fischer</td>\n",
       "      <td>2020</td>\n",
       "    </tr>\n",
       "    <tr>\n",
       "      <th>3</th>\n",
       "      <td>Johannes Ballé</td>\n",
       "      <td>2020</td>\n",
       "    </tr>\n",
       "    <tr>\n",
       "      <th>4</th>\n",
       "      <td>Troy Chinen</td>\n",
       "      <td>2020</td>\n",
       "    </tr>\n",
       "    <tr>\n",
       "      <th>...</th>\n",
       "      <td>...</td>\n",
       "      <td>...</td>\n",
       "    </tr>\n",
       "    <tr>\n",
       "      <th>7786</th>\n",
       "      <td>Yoav Levine</td>\n",
       "      <td>2020</td>\n",
       "    </tr>\n",
       "    <tr>\n",
       "      <th>7787</th>\n",
       "      <td>Noam Wies</td>\n",
       "      <td>2020</td>\n",
       "    </tr>\n",
       "    <tr>\n",
       "      <th>7788</th>\n",
       "      <td>Or Sharir</td>\n",
       "      <td>2020</td>\n",
       "    </tr>\n",
       "    <tr>\n",
       "      <th>7789</th>\n",
       "      <td>Hofit Bata</td>\n",
       "      <td>2020</td>\n",
       "    </tr>\n",
       "    <tr>\n",
       "      <th>7790</th>\n",
       "      <td>Amnon Shashua</td>\n",
       "      <td>2020</td>\n",
       "    </tr>\n",
       "  </tbody>\n",
       "</table>\n",
       "<p>7791 rows × 2 columns</p>\n",
       "</div>"
      ],
      "text/plain": [
       "             Full name  Year\n",
       "0          Seongmin Ok  2020\n",
       "1     Sangnie Bhardwaj  2020\n",
       "2          Ian Fischer  2020\n",
       "3       Johannes Ballé  2020\n",
       "4          Troy Chinen  2020\n",
       "...                ...   ...\n",
       "7786       Yoav Levine  2020\n",
       "7787         Noam Wies  2020\n",
       "7788         Or Sharir  2020\n",
       "7789        Hofit Bata  2020\n",
       "7790     Amnon Shashua  2020\n",
       "\n",
       "[7791 rows x 2 columns]"
      ]
     },
     "execution_count": 26,
     "metadata": {},
     "output_type": "execute_result"
    }
   ],
   "source": [
    "df1"
   ]
  },
  {
   "cell_type": "code",
   "execution_count": 28,
   "metadata": {},
   "outputs": [],
   "source": [
    "df3 = df1.append(df2)"
   ]
  },
  {
   "cell_type": "code",
   "execution_count": 22,
   "metadata": {},
   "outputs": [],
   "source": [
    "df2 = df1.copy()"
   ]
  },
  {
   "cell_type": "code",
   "execution_count": 14,
   "metadata": {},
   "outputs": [],
   "source": [
    "test = list_of_all_papers[0].find(\"i\").text\n",
    "test = test.split(\",\")\n",
    "liste.append(test)"
   ]
  },
  {
   "cell_type": "code",
   "execution_count": 15,
   "metadata": {},
   "outputs": [
    {
     "data": {
      "text/plain": [
       "[['Yucheng Ding',\n",
       "  ' Chaoyue Niu',\n",
       "  ' Fan Wu',\n",
       "  ' Shaojie Tang',\n",
       "  ' Chengfei Lyu',\n",
       "  ' yanghe feng',\n",
       "  ' Guihai Chen'],\n",
       " ['Yucheng Ding',\n",
       "  ' Chaoyue Niu',\n",
       "  ' Fan Wu',\n",
       "  ' Shaojie Tang',\n",
       "  ' Chengfei Lyu',\n",
       "  ' yanghe feng',\n",
       "  ' Guihai Chen']]"
      ]
     },
     "execution_count": 15,
     "metadata": {},
     "output_type": "execute_result"
    }
   ],
   "source": [
    "liste"
   ]
  },
  {
   "cell_type": "code",
   "execution_count": null,
   "metadata": {},
   "outputs": [],
   "source": [
    "URL_name = \"https://dblp.org/db/conf/nips/nips\" + str(year) + \".html\"\n",
    "URL = URL_name\n",
    "page = requests.get(URL)\n",
    "soup = BeautifulSoup(page.content, \"html.parser\")\n",
    "\n",
    "data = []\n",
    "Full_name = []\n",
    "\n",
    "results1 = soup.find(id=\"main\")\n",
    "results = soup.find(id=\"main\").find_all(\"ul\", class_=\"publ-list\")\n",
    "# results1 = results.find(_class=\"publ-list\")\n",
    "for row in results:\n",
    "    ids = [tag['id'] for tag in row.find_all(id=True)]\n",
    "    for i in ids:\n",
    "        name_ = results1.find(id=str(i))\n",
    "        rows = name_.find_all(\"span\")\n",
    "        for row in rows:\n",
    "            speaker = row.find_all(\"a\")\n",
    "            # only take non empty lists\n",
    "            if speaker:\n",
    "                Full_name.append(speaker[0].text)\n",
    "\n",
    "# create a dataframe\n",
    "df1 = pd.DataFrame(columns = ['Full name',\"Year\"])\n",
    "# append full name to the dataframe\n",
    "df1['Full name'] = Full_name\n",
    "# append year to the dataframe\n",
    "df1['Year'] = year\n",
    "time.sleep(2)\n",
    "\n",
    "df = df.append(df1, ignore_index=True)"
   ]
  }
 ],
 "metadata": {
  "kernelspec": {
   "display_name": "Python 3",
   "language": "python",
   "name": "python3"
  },
  "language_info": {
   "codemirror_mode": {
    "name": "ipython",
    "version": 3
   },
   "file_extension": ".py",
   "mimetype": "text/x-python",
   "name": "python",
   "nbconvert_exporter": "python",
   "pygments_lexer": "ipython3",
   "version": "3.11.1"
  },
  "orig_nbformat": 4
 },
 "nbformat": 4,
 "nbformat_minor": 2
}
