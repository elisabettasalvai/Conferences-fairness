{
 "cells": [
  {
   "cell_type": "code",
   "execution_count": 2,
   "metadata": {},
   "outputs": [],
   "source": [
    "import numpy as np\n",
    "import matplotlib.pyplot as plt\n",
    "import seaborn\n",
    "import matplotlib.cm as cm\n",
    "import requests\n",
    "import json\n",
    "import pandas as pd\n",
    "import time\n",
    "import datetime\n",
    "import os\n",
    "import sys\n",
    "import glob\n",
    "import re\n",
    "import math\n",
    "import random\n",
    "import pickle\n",
    "import copy\n",
    "import itertools\n",
    "import collections\n",
    "import warnings\n",
    "warnings.filterwarnings('ignore')\n",
    "from bs4 import BeautifulSoup"
   ]
  },
  {
   "cell_type": "code",
   "execution_count": 146,
   "metadata": {},
   "outputs": [],
   "source": [
    "# Initialize\n",
    "df = pd.DataFrame(columns = ['Full name',\"Year\"])\n",
    "# Create a list from 93 to 22\n",
    "years = [str(i) for i in range(1993,2023)]"
   ]
  },
  {
   "cell_type": "code",
   "execution_count": 147,
   "metadata": {},
   "outputs": [],
   "source": [
    "for year in years:\n",
    "    URL_name = \"https://dblp.org/db/conf/stoc/stoc\" + str(year) + \".html\"\n",
    "    URL = URL_name\n",
    "    page = requests.get(URL)\n",
    "    soup = BeautifulSoup(page.content, \"html.parser\")\n",
    "\n",
    "    data = []\n",
    "    Full_name = []\n",
    "\n",
    "    results1 = soup.find(id=\"main\")\n",
    "    results = soup.find(id=\"main\").find_all(\"ul\", class_=\"publ-list\")\n",
    "    # results1 = results.find(_class=\"publ-list\")\n",
    "    for row in results:\n",
    "        ids = [tag['id'] for tag in row.find_all(id=True)]\n",
    "        for i in ids:\n",
    "            name_ = results1.find(id=str(i)).find_all(\"span\")[2].text\n",
    "            Full_name.append(name_)\n",
    "\n",
    "    # create a dataframe\n",
    "    df1 = pd.DataFrame(columns = ['Full name',\"Year\"])\n",
    "    # append full name to the dataframe\n",
    "    df1['Full name'] = Full_name\n",
    "    # append year to the dataframe\n",
    "    df1['Year'] = year\n",
    "    time.sleep(2)\n",
    "\n",
    "    df = df.append(df1, ignore_index=True)\n",
    "\n"
   ]
  },
  {
   "cell_type": "code",
   "execution_count": 149,
   "metadata": {},
   "outputs": [],
   "source": [
    "df.to_csv(\"Data/STOC_data.csv\", index=False)"
   ]
  }
 ],
 "metadata": {
  "kernelspec": {
   "display_name": "Python 3",
   "language": "python",
   "name": "python3"
  },
  "language_info": {
   "codemirror_mode": {
    "name": "ipython",
    "version": 3
   },
   "file_extension": ".py",
   "mimetype": "text/x-python",
   "name": "python",
   "nbconvert_exporter": "python",
   "pygments_lexer": "ipython3",
   "version": "3.11.1 (tags/v3.11.1:a7a450f, Dec  6 2022, 19:58:39) [MSC v.1934 64 bit (AMD64)]"
  },
  "orig_nbformat": 4,
  "vscode": {
   "interpreter": {
    "hash": "d92ff415db99feb7da45e8748a5c23d5d44d2038e70d5b05ab6a02856c817802"
   }
  }
 },
 "nbformat": 4,
 "nbformat_minor": 2
}
