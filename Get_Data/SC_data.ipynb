{
 "cells": [
  {
   "cell_type": "code",
   "execution_count": 2,
   "metadata": {},
   "outputs": [],
   "source": [
    "import numpy as np\n",
    "import matplotlib.pyplot as plt\n",
    "import seaborn\n",
    "import matplotlib.cm as cm\n",
    "import requests\n",
    "import json\n",
    "import pandas as pd\n",
    "import time\n",
    "import datetime\n",
    "import os\n",
    "import sys\n",
    "import glob\n",
    "import re\n",
    "import math\n",
    "import random\n",
    "import pickle\n",
    "import copy\n",
    "import itertools\n",
    "import collections\n",
    "import warnings\n",
    "warnings.filterwarnings('ignore')\n",
    "from bs4 import BeautifulSoup"
   ]
  },
  {
   "cell_type": "code",
   "execution_count": 7,
   "metadata": {},
   "outputs": [],
   "source": [
    "# Initialize\n",
    "df = pd.DataFrame(columns = ['Full name',\"Year\"])\n",
    "# Create a list from 93 to 22\n",
    "Year = [i for i in range(1995,2022)]\n",
    "\n",
    "URL_name = \"https://hipc.org/archives/\"\n",
    "page = requests.get(URL_name)\n",
    "soup = BeautifulSoup(page.content, \"html.parser\")\n",
    "\n",
    "Year = []\n",
    "Full_name = []"
   ]
  },
  {
   "cell_type": "code",
   "execution_count": 16,
   "metadata": {},
   "outputs": [
    {
     "data": {
      "text/plain": [
       "[]"
      ]
     },
     "execution_count": 16,
     "metadata": {},
     "output_type": "execute_result"
    }
   ],
   "source": [
    "results = soup.find_all(\"div\", class_=\"elementor-widget-wrap\")\n",
    "results[4].find_all(\"section\")"
   ]
  },
  {
   "cell_type": "code",
   "execution_count": null,
   "metadata": {},
   "outputs": [],
   "source": [
    "source = soup.find(id=\"main\")\n",
    "ps = source.find_all(\"ul\", class_=\"publ-list\")\n",
    "for p in ps:\n",
    "    cites = p.find_all(\"cite\", class_=\"data tts-content\")\n",
    "    for c in cites:\n",
    "        speaker = c.find(\"a\")\n",
    "        if speaker.get(\"href\"):\n",
    "            Full_name.append(speaker.text)"
   ]
  },
  {
   "attachments": {},
   "cell_type": "markdown",
   "metadata": {},
   "source": [
    "## Proceedings"
   ]
  },
  {
   "cell_type": "code",
   "execution_count": 3,
   "metadata": {},
   "outputs": [],
   "source": [
    "# Initialize\n",
    "df = pd.DataFrame(columns = ['Full name',\"Year\"])\n",
    "# years = [str(i) for i in range(1988,2022)]\n",
    "# Remove the first 2 digits from the years if year is less than 93\n",
    "# years = [i[2:] if int(i) < 2000 else i for i in years]"
   ]
  },
  {
   "cell_type": "code",
   "execution_count": 7,
   "metadata": {},
   "outputs": [],
   "source": [
    "for year in years:\n",
    "    URL_name = \"https://dblp.org/db/conf/sc/sc\" + str(year) + \".html\"\n",
    "    URL = URL_name\n",
    "    page = requests.get(URL)\n",
    "    soup = BeautifulSoup(page.content, \"html.parser\")\n",
    "\n",
    "    data = []\n",
    "    Full_name = []\n",
    "\n",
    "    results1 = soup.find(id=\"main\")\n",
    "    results = soup.find(id=\"main\").find_all(\"ul\", class_=\"publ-list\")\n",
    "    # results1 = results.find(_class=\"publ-list\")\n",
    "    for row in results:\n",
    "        ids = [tag['id'] for tag in row.find_all(id=True)]\n",
    "        for i in ids:\n",
    "            name_ = results1.find(id=str(i))\n",
    "            rows = name_.find_all(\"span\")\n",
    "            for row in rows:\n",
    "                speaker = row.find_all(\"a\")\n",
    "                # only take non empty lists\n",
    "                if speaker:\n",
    "                    Full_name.append(speaker[0].text)\n",
    "\n",
    "    # create a dataframe\n",
    "    df1 = pd.DataFrame(columns = ['Full name',\"Year\"])\n",
    "    # append full name to the dataframe\n",
    "    df1['Full name'] = Full_name\n",
    "    # append year to the dataframe\n",
    "    df1['Year'] = year\n",
    "    time.sleep(2)\n",
    "\n",
    "    df = df.append(df1, ignore_index=True)"
   ]
  },
  {
   "cell_type": "code",
   "execution_count": 4,
   "metadata": {},
   "outputs": [],
   "source": [
    "URL_name = \"https://dblp.org/db/conf/sc/scalah2022.html\"\n",
    "URL = URL_name\n",
    "page = requests.get(URL)\n",
    "soup = BeautifulSoup(page.content, \"html.parser\")\n",
    "\n",
    "data = []\n",
    "Full_name = []\n",
    "\n",
    "results1 = soup.find(id=\"main\")\n",
    "results = soup.find(id=\"main\").find_all(\"ul\", class_=\"publ-list\")\n",
    "# results1 = results.find(_class=\"publ-list\")\n",
    "for row in results:\n",
    "    ids = [tag['id'] for tag in row.find_all(id=True)]\n",
    "    for i in ids:\n",
    "        name_ = results1.find(id=str(i))\n",
    "        rows = name_.find_all(\"span\")\n",
    "        for row in rows:\n",
    "            speaker = row.find_all(\"a\")\n",
    "            # only take non empty lists\n",
    "            if speaker:\n",
    "                Full_name.append(speaker[0].text)\n",
    "\n",
    "# create a dataframe\n",
    "df1 = pd.DataFrame(columns = ['Full name',\"Year\"])\n",
    "# append full name to the dataframe\n",
    "df1['Full name'] = Full_name\n",
    "# append year to the dataframe\n",
    "df1['Year'] = 2022\n",
    "# time.sleep(2)\n",
    "\n",
    "df = df.append(df1, ignore_index=True)"
   ]
  },
  {
   "cell_type": "code",
   "execution_count": 7,
   "metadata": {},
   "outputs": [
    {
     "data": {
      "text/html": [
       "<div>\n",
       "<style scoped>\n",
       "    .dataframe tbody tr th:only-of-type {\n",
       "        vertical-align: middle;\n",
       "    }\n",
       "\n",
       "    .dataframe tbody tr th {\n",
       "        vertical-align: top;\n",
       "    }\n",
       "\n",
       "    .dataframe thead th {\n",
       "        text-align: right;\n",
       "    }\n",
       "</style>\n",
       "<table border=\"1\" class=\"dataframe\">\n",
       "  <thead>\n",
       "    <tr style=\"text-align: right;\">\n",
       "      <th></th>\n",
       "      <th>Full name</th>\n",
       "      <th>Year</th>\n",
       "      <th>Field</th>\n",
       "    </tr>\n",
       "  </thead>\n",
       "  <tbody>\n",
       "    <tr>\n",
       "      <th>0</th>\n",
       "      <td>Yu-Hsiang Mike Tsai</td>\n",
       "      <td>2022</td>\n",
       "      <td>Concurrent, distributed and parallel computing</td>\n",
       "    </tr>\n",
       "    <tr>\n",
       "      <th>1</th>\n",
       "      <td>Pratik Nayak</td>\n",
       "      <td>2022</td>\n",
       "      <td>Concurrent, distributed and parallel computing</td>\n",
       "    </tr>\n",
       "    <tr>\n",
       "      <th>2</th>\n",
       "      <td>Edmond Chow</td>\n",
       "      <td>2022</td>\n",
       "      <td>Concurrent, distributed and parallel computing</td>\n",
       "    </tr>\n",
       "    <tr>\n",
       "      <th>3</th>\n",
       "      <td>Hartwig Anzt</td>\n",
       "      <td>2022</td>\n",
       "      <td>Concurrent, distributed and parallel computing</td>\n",
       "    </tr>\n",
       "    <tr>\n",
       "      <th>4</th>\n",
       "      <td>Yuta Hasegawa</td>\n",
       "      <td>2022</td>\n",
       "      <td>Concurrent, distributed and parallel computing</td>\n",
       "    </tr>\n",
       "  </tbody>\n",
       "</table>\n",
       "</div>"
      ],
      "text/plain": [
       "             Full name  Year                                           Field\n",
       "0  Yu-Hsiang Mike Tsai  2022  Concurrent, distributed and parallel computing\n",
       "1         Pratik Nayak  2022  Concurrent, distributed and parallel computing\n",
       "2          Edmond Chow  2022  Concurrent, distributed and parallel computing\n",
       "3         Hartwig Anzt  2022  Concurrent, distributed and parallel computing\n",
       "4        Yuta Hasegawa  2022  Concurrent, distributed and parallel computing"
      ]
     },
     "execution_count": 7,
     "metadata": {},
     "output_type": "execute_result"
    }
   ],
   "source": [
    "# add 19 in front of the year if it is less than 2000\n",
    "# df['Year'] = df['Year'].apply(lambda x: '19' + str(x) if x < 2000 else x)\n",
    "# df['Field'] = \"Concurrent, distributed and parallel computing\"\n",
    "df.head()"
   ]
  },
  {
   "cell_type": "code",
   "execution_count": 8,
   "metadata": {},
   "outputs": [],
   "source": [
    "df.to_csv('SC_data.csv', index=False)"
   ]
  }
 ],
 "metadata": {
  "kernelspec": {
   "display_name": "Python 3",
   "language": "python",
   "name": "python3"
  },
  "language_info": {
   "codemirror_mode": {
    "name": "ipython",
    "version": 3
   },
   "file_extension": ".py",
   "mimetype": "text/x-python",
   "name": "python",
   "nbconvert_exporter": "python",
   "pygments_lexer": "ipython3",
   "version": "3.11.1"
  },
  "orig_nbformat": 4,
  "vscode": {
   "interpreter": {
    "hash": "d92ff415db99feb7da45e8748a5c23d5d44d2038e70d5b05ab6a02856c817802"
   }
  }
 },
 "nbformat": 4,
 "nbformat_minor": 2
}
