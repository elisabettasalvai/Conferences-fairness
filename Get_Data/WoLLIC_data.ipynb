{
 "cells": [
  {
   "cell_type": "code",
   "execution_count": 39,
   "metadata": {},
   "outputs": [],
   "source": [
    "import numpy as np\n",
    "import matplotlib.pyplot as plt\n",
    "import seaborn\n",
    "import matplotlib.cm as cm\n",
    "import requests\n",
    "import json\n",
    "import pandas as pd\n",
    "import time\n",
    "import datetime\n",
    "import os\n",
    "import sys\n",
    "import glob\n",
    "import re\n",
    "import math\n",
    "import random\n",
    "import pickle\n",
    "import copy\n",
    "import itertools\n",
    "import collections\n",
    "import warnings\n",
    "warnings.filterwarnings('ignore')\n",
    "from bs4 import BeautifulSoup"
   ]
  },
  {
   "cell_type": "code",
   "execution_count": 40,
   "metadata": {},
   "outputs": [],
   "source": [
    "# Initialize\n",
    "df = pd.DataFrame(columns = ['Full name',\"Year\"])\n",
    "# Create a list from 69 to 23, but after 92 add 19 to the front and after 99 add 20 to the front\n",
    "years = [str(i) for i in range(2007,2023)]\n"
   ]
  },
  {
   "cell_type": "code",
   "execution_count": 41,
   "metadata": {},
   "outputs": [],
   "source": [
    "for year in years:\n",
    "    URL_name = \"https://dblp.org/db/conf/wollic/wollic\" + str(year) + \".html\"\n",
    "    URL = URL_name\n",
    "    page = requests.get(URL)\n",
    "    soup = BeautifulSoup(page.content, \"html.parser\")\n",
    "\n",
    "    data = []\n",
    "    Full_name = []\n",
    "\n",
    "    results1 = soup.find(id=\"main\")\n",
    "    results = soup.find(id=\"main\").find_all(\"ul\", class_=\"publ-list\")\n",
    "    # results1 = results.find(_class=\"publ-list\")\n",
    "    for row in results:\n",
    "        ids = [tag['id'] for tag in row.find_all(id=True)]\n",
    "        for i in ids:\n",
    "            name_ = results1.find(id=str(i))\n",
    "            rows = name_.find_all(\"span\")\n",
    "            for row in rows:\n",
    "                speaker = row.find_all(\"a\")\n",
    "                # only take non empty lists\n",
    "                if speaker:\n",
    "                    Full_name.append(speaker[0].text)\n",
    "\n",
    "    # create a dataframe\n",
    "    df1 = pd.DataFrame(columns = ['Full name',\"Year\"])\n",
    "    # append full name to the dataframe\n",
    "    df1['Full name'] = Full_name\n",
    "    # append year to the dataframe\n",
    "    df1['Year'] = year\n",
    "    time.sleep(2)\n",
    "\n",
    "    df = df.append(df1, ignore_index=True)"
   ]
  },
  {
   "attachments": {},
   "cell_type": "markdown",
   "metadata": {},
   "source": [
    "The next chunk takes from 2006 to 1994"
   ]
  },
  {
   "cell_type": "code",
   "execution_count": 53,
   "metadata": {},
   "outputs": [],
   "source": [
    "URL_name = \"https://dblp.org/db/journals/igpl/igpl3.html#nr1\"\n",
    "URL = URL_name\n",
    "page = requests.get(URL)\n",
    "soup = BeautifulSoup(page.content, \"html.parser\")\n",
    "\n",
    "data = []\n",
    "Full_name = []\n",
    "\n",
    "results1 = soup.find(id=\"main\")\n",
    "results = soup.find(id=\"main\").find_all(\"ul\", class_=\"publ-list\")\n",
    "# results1 = results.find(_class=\"publ-list\")\n",
    "for row in results:\n",
    "    ids = [tag['id'] for tag in row.find_all(id=True)]\n",
    "    for i in ids:\n",
    "        name_ = results1.find(id=str(i))\n",
    "        rows = name_.find_all(\"span\")\n",
    "        for row in rows:\n",
    "            speaker = row.find_all(\"a\")\n",
    "            # only take non empty lists\n",
    "            if speaker:\n",
    "                Full_name.append(speaker[0].text)\n",
    "\n",
    "# create a dataframe\n",
    "df1 = pd.DataFrame(columns = ['Full name',\"Year\"])\n",
    "# append full name to the dataframe\n",
    "df1['Full name'] = Full_name\n",
    "# append year to the dataframe\n",
    "df1['Year'] = 1995\n",
    "\n",
    "df = df.append(df1, ignore_index=True)"
   ]
  },
  {
   "cell_type": "code",
   "execution_count": 55,
   "metadata": {},
   "outputs": [],
   "source": [
    "df.to_csv('WoLLIC_data.csv', index=False)"
   ]
  },
  {
   "cell_type": "code",
   "execution_count": 54,
   "metadata": {},
   "outputs": [
    {
     "data": {
      "text/html": [
       "<div>\n",
       "<style scoped>\n",
       "    .dataframe tbody tr th:only-of-type {\n",
       "        vertical-align: middle;\n",
       "    }\n",
       "\n",
       "    .dataframe tbody tr th {\n",
       "        vertical-align: top;\n",
       "    }\n",
       "\n",
       "    .dataframe thead th {\n",
       "        text-align: right;\n",
       "    }\n",
       "</style>\n",
       "<table border=\"1\" class=\"dataframe\">\n",
       "  <thead>\n",
       "    <tr style=\"text-align: right;\">\n",
       "      <th></th>\n",
       "      <th>Full name</th>\n",
       "      <th>Year</th>\n",
       "    </tr>\n",
       "  </thead>\n",
       "  <tbody>\n",
       "    <tr>\n",
       "      <th>1363</th>\n",
       "      <td>Marta Cialdea Mayer</td>\n",
       "      <td>1995</td>\n",
       "    </tr>\n",
       "    <tr>\n",
       "      <th>1364</th>\n",
       "      <td>Fiora Pirri</td>\n",
       "      <td>1995</td>\n",
       "    </tr>\n",
       "    <tr>\n",
       "      <th>1365</th>\n",
       "      <td>Kevin Wallace</td>\n",
       "      <td>1995</td>\n",
       "    </tr>\n",
       "    <tr>\n",
       "      <th>1366</th>\n",
       "      <td>Graham Wrightson</td>\n",
       "      <td>1995</td>\n",
       "    </tr>\n",
       "    <tr>\n",
       "      <th>1367</th>\n",
       "      <td>Marco Mondadori</td>\n",
       "      <td>1995</td>\n",
       "    </tr>\n",
       "  </tbody>\n",
       "</table>\n",
       "</div>"
      ],
      "text/plain": [
       "                Full name  Year\n",
       "1363  Marta Cialdea Mayer  1995\n",
       "1364          Fiora Pirri  1995\n",
       "1365        Kevin Wallace  1995\n",
       "1366     Graham Wrightson  1995\n",
       "1367      Marco Mondadori  1995"
      ]
     },
     "execution_count": 54,
     "metadata": {},
     "output_type": "execute_result"
    }
   ],
   "source": [
    "df.tail()"
   ]
  }
 ],
 "metadata": {
  "kernelspec": {
   "display_name": "Python 3",
   "language": "python",
   "name": "python3"
  },
  "language_info": {
   "codemirror_mode": {
    "name": "ipython",
    "version": 3
   },
   "file_extension": ".py",
   "mimetype": "text/x-python",
   "name": "python",
   "nbconvert_exporter": "python",
   "pygments_lexer": "ipython3",
   "version": "3.11.1 (tags/v3.11.1:a7a450f, Dec  6 2022, 19:58:39) [MSC v.1934 64 bit (AMD64)]"
  },
  "orig_nbformat": 4,
  "vscode": {
   "interpreter": {
    "hash": "d92ff415db99feb7da45e8748a5c23d5d44d2038e70d5b05ab6a02856c817802"
   }
  }
 },
 "nbformat": 4,
 "nbformat_minor": 2
}
