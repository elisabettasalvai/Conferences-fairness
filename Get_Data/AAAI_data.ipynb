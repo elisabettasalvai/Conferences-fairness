{
 "cells": [
  {
   "cell_type": "code",
   "execution_count": 5,
   "metadata": {},
   "outputs": [],
   "source": [
    "import numpy as np\n",
    "import matplotlib.pyplot as plt\n",
    "import seaborn\n",
    "import matplotlib.cm as cm\n",
    "import requests\n",
    "import json\n",
    "import pandas as pd\n",
    "import time\n",
    "import datetime\n",
    "import os\n",
    "import sys\n",
    "import glob\n",
    "import re\n",
    "import math\n",
    "import random\n",
    "import pickle\n",
    "import copy\n",
    "import itertools\n",
    "import collections\n",
    "import warnings\n",
    "warnings.filterwarnings('ignore')\n",
    "from bs4 import BeautifulSoup"
   ]
  },
  {
   "attachments": {},
   "cell_type": "markdown",
   "metadata": {},
   "source": [
    "## Invited Speakers"
   ]
  },
  {
   "cell_type": "code",
   "execution_count": 7,
   "metadata": {},
   "outputs": [
    {
     "data": {
      "text/plain": [
       "'\\nimport csv\\n\\n# Open the input file for reading\\nwith open(\\'AAAI.txt\\', \\'r\\') as input_file:\\n    # Create a CSV reader object to read the input file\\n    reader = csv.reader(input_file, delimiter=\\',\\')\\n\\n    # Loop through each row in the input file\\n    for row in reader:\\n        # Extract the year value from the row\\n        year = row[0]\\n\\n        # Loop through each name value in the row (starting from index 1)\\n        for name in row[1:]:\\n            # Create a new row with the year and name values\\n            new_row = f\"{year},{name}\"\\n            print(new_row)\\n'"
      ]
     },
     "execution_count": 7,
     "metadata": {},
     "output_type": "execute_result"
    }
   ],
   "source": [
    "'''\n",
    "import csv\n",
    "\n",
    "# Open the input file for reading\n",
    "with open('AAAI.txt', 'r') as input_file:\n",
    "    # Create a CSV reader object to read the input file\n",
    "    reader = csv.reader(input_file, delimiter=',')\n",
    "\n",
    "    # Loop through each row in the input file\n",
    "    for row in reader:\n",
    "        # Extract the year value from the row\n",
    "        year = row[0]\n",
    "\n",
    "        # Loop through each name value in the row (starting from index 1)\n",
    "        for name in row[1:]:\n",
    "            # Create a new row with the year and name values\n",
    "            new_row = f\"{year},{name}\"\n",
    "            print(new_row)\n",
    "'''"
   ]
  },
  {
   "attachments": {},
   "cell_type": "markdown",
   "metadata": {},
   "source": [
    "## Proceedings"
   ]
  },
  {
   "cell_type": "code",
   "execution_count": 11,
   "metadata": {},
   "outputs": [],
   "source": [
    "# Initialize\n",
    "df = pd.DataFrame(columns = ['Full_name',\"Year\"])\n",
    "# create a list from 2000 to 2022 without 2009, 2003 and 2001 and combine that with a list from 80 to 99 without 95, 89, 85 and 81\n",
    "years = [str(i) for i in range(2000,2023) if i not in [2009, 2003, 2001]]\n",
    "years = years + [str(i) for i in range(80,100) if i not in [95, 89, 85, 81]]\n",
    "# years"
   ]
  },
  {
   "cell_type": "code",
   "execution_count": 13,
   "metadata": {},
   "outputs": [],
   "source": [
    "for year in years:\n",
    "    URL_name = \"https://dblp.org/db/conf/aaai/aaai\" + str(year) + \".html\"\n",
    "    URL = URL_name\n",
    "    page = requests.get(URL)\n",
    "    soup = BeautifulSoup(page.content, \"html.parser\")\n",
    "\n",
    "    data = []\n",
    "    Full_name = []\n",
    "\n",
    "    results1 = soup.find(id=\"main\")\n",
    "    results = soup.find(id=\"main\").find_all(\"ul\", class_=\"publ-list\")\n",
    "    # results1 = results.find(_class=\"publ-list\")\n",
    "    for row in results:\n",
    "        ids = [tag['id'] for tag in row.find_all(id=True)]\n",
    "        for i in ids:\n",
    "            name_ = results1.find(id=str(i))\n",
    "            rows = name_.find_all(\"span\")\n",
    "            for row in rows:\n",
    "                speaker = row.find_all(\"a\")\n",
    "                # only take non empty lists\n",
    "                if speaker:\n",
    "                    Full_name.append(speaker[0].text)\n",
    "\n",
    "    # create a dataframe\n",
    "    df1 = pd.DataFrame(columns = ['Full name',\"Year\"])\n",
    "    # append full name to the dataframe\n",
    "    df1['Full name'] = Full_name\n",
    "    # append year to the dataframe\n",
    "    df1['Year'] = year\n",
    "    time.sleep(2)\n",
    "\n",
    "    df = df.append(df1, ignore_index=True)"
   ]
  },
  {
   "cell_type": "code",
   "execution_count": 24,
   "metadata": {},
   "outputs": [
    {
     "data": {
      "text/html": [
       "<div>\n",
       "<style scoped>\n",
       "    .dataframe tbody tr th:only-of-type {\n",
       "        vertical-align: middle;\n",
       "    }\n",
       "\n",
       "    .dataframe tbody tr th {\n",
       "        vertical-align: top;\n",
       "    }\n",
       "\n",
       "    .dataframe thead th {\n",
       "        text-align: right;\n",
       "    }\n",
       "</style>\n",
       "<table border=\"1\" class=\"dataframe\">\n",
       "  <thead>\n",
       "    <tr style=\"text-align: right;\">\n",
       "      <th></th>\n",
       "      <th>Year</th>\n",
       "      <th>Full name</th>\n",
       "    </tr>\n",
       "  </thead>\n",
       "  <tbody>\n",
       "    <tr>\n",
       "      <th>0</th>\n",
       "      <td>2000</td>\n",
       "      <td>Henry A. Kautz</td>\n",
       "    </tr>\n",
       "    <tr>\n",
       "      <th>1</th>\n",
       "      <td>2000</td>\n",
       "      <td>Bruce W. Porter</td>\n",
       "    </tr>\n",
       "    <tr>\n",
       "      <th>2</th>\n",
       "      <td>2000</td>\n",
       "      <td>Shawn Arseneau</td>\n",
       "    </tr>\n",
       "    <tr>\n",
       "      <th>3</th>\n",
       "      <td>2000</td>\n",
       "      <td>Wei Sun</td>\n",
       "    </tr>\n",
       "    <tr>\n",
       "      <th>4</th>\n",
       "      <td>2000</td>\n",
       "      <td>Changpeng Zhao</td>\n",
       "    </tr>\n",
       "    <tr>\n",
       "      <th>...</th>\n",
       "      <td>...</td>\n",
       "      <td>...</td>\n",
       "    </tr>\n",
       "    <tr>\n",
       "      <th>55227</th>\n",
       "      <td>99</td>\n",
       "      <td>Muhammad Afzal Upal</td>\n",
       "    </tr>\n",
       "    <tr>\n",
       "      <th>55228</th>\n",
       "      <td>99</td>\n",
       "      <td>Özlem Uzuner</td>\n",
       "    </tr>\n",
       "    <tr>\n",
       "      <th>55229</th>\n",
       "      <td>99</td>\n",
       "      <td>Boris Katz</td>\n",
       "    </tr>\n",
       "    <tr>\n",
       "      <th>55230</th>\n",
       "      <td>99</td>\n",
       "      <td>Deniz Yuret</td>\n",
       "    </tr>\n",
       "    <tr>\n",
       "      <th>55231</th>\n",
       "      <td>99</td>\n",
       "      <td>Susan L. Epstein</td>\n",
       "    </tr>\n",
       "  </tbody>\n",
       "</table>\n",
       "<p>55232 rows × 2 columns</p>\n",
       "</div>"
      ],
      "text/plain": [
       "       Year            Full name\n",
       "0      2000       Henry A. Kautz\n",
       "1      2000      Bruce W. Porter\n",
       "2      2000       Shawn Arseneau\n",
       "3      2000              Wei Sun\n",
       "4      2000       Changpeng Zhao\n",
       "...     ...                  ...\n",
       "55227    99  Muhammad Afzal Upal\n",
       "55228    99         Özlem Uzuner\n",
       "55229    99           Boris Katz\n",
       "55230    99          Deniz Yuret\n",
       "55231    99     Susan L. Epstein\n",
       "\n",
       "[55232 rows x 2 columns]"
      ]
     },
     "execution_count": 24,
     "metadata": {},
     "output_type": "execute_result"
    }
   ],
   "source": [
    "df = df.drop('Full_name', axis=1)\n",
    "df"
   ]
  },
  {
   "cell_type": "code",
   "execution_count": 27,
   "metadata": {},
   "outputs": [],
   "source": [
    "# add 19 in front of the Year if the year is less than 2000\n",
    "# df['Year'] = df['Year'].apply(lambda x: '19' + x if int(x) < 2000 else x)\n",
    "df\n",
    "\n",
    "df.to_csv('AAAI_data.csv', index=False)"
   ]
  }
 ],
 "metadata": {
  "kernelspec": {
   "display_name": "Python 3",
   "language": "python",
   "name": "python3"
  },
  "language_info": {
   "codemirror_mode": {
    "name": "ipython",
    "version": 3
   },
   "file_extension": ".py",
   "mimetype": "text/x-python",
   "name": "python",
   "nbconvert_exporter": "python",
   "pygments_lexer": "ipython3",
   "version": "3.11.1"
  },
  "orig_nbformat": 4
 },
 "nbformat": 4,
 "nbformat_minor": 2
}
