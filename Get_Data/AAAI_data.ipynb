{
 "cells": [
  {
   "cell_type": "code",
   "execution_count": 72,
   "metadata": {},
   "outputs": [],
   "source": [
    "import numpy as np\n",
    "import matplotlib.pyplot as plt\n",
    "import seaborn\n",
    "import matplotlib.cm as cm\n",
    "import requests\n",
    "import json\n",
    "import pandas as pd\n",
    "import time\n",
    "from tqdm import tqdm\n",
    "import datetime\n",
    "import os\n",
    "import sys\n",
    "import glob\n",
    "import re\n",
    "import math\n",
    "import random\n",
    "import pickle\n",
    "import copy\n",
    "import itertools\n",
    "import collections\n",
    "import warnings\n",
    "warnings.filterwarnings('ignore')\n",
    "from bs4 import BeautifulSoup"
   ]
  },
  {
   "attachments": {},
   "cell_type": "markdown",
   "metadata": {},
   "source": [
    "## Invited Speakers"
   ]
  },
  {
   "cell_type": "code",
   "execution_count": 7,
   "metadata": {},
   "outputs": [
    {
     "data": {
      "text/plain": [
       "'\\nimport csv\\n\\n# Open the input file for reading\\nwith open(\\'AAAI.txt\\', \\'r\\') as input_file:\\n    # Create a CSV reader object to read the input file\\n    reader = csv.reader(input_file, delimiter=\\',\\')\\n\\n    # Loop through each row in the input file\\n    for row in reader:\\n        # Extract the year value from the row\\n        year = row[0]\\n\\n        # Loop through each name value in the row (starting from index 1)\\n        for name in row[1:]:\\n            # Create a new row with the year and name values\\n            new_row = f\"{year},{name}\"\\n            print(new_row)\\n'"
      ]
     },
     "execution_count": 7,
     "metadata": {},
     "output_type": "execute_result"
    }
   ],
   "source": [
    "'''\n",
    "import csv\n",
    "\n",
    "# Open the input file for reading\n",
    "with open('AAAI.txt', 'r') as input_file:\n",
    "    # Create a CSV reader object to read the input file\n",
    "    reader = csv.reader(input_file, delimiter=',')\n",
    "\n",
    "    # Loop through each row in the input file\n",
    "    for row in reader:\n",
    "        # Extract the year value from the row\n",
    "        year = row[0]\n",
    "\n",
    "        # Loop through each name value in the row (starting from index 1)\n",
    "        for name in row[1:]:\n",
    "            # Create a new row with the year and name values\n",
    "            new_row = f\"{year},{name}\"\n",
    "            print(new_row)\n",
    "'''"
   ]
  },
  {
   "attachments": {},
   "cell_type": "markdown",
   "metadata": {},
   "source": [
    "## Proceedings"
   ]
  },
  {
   "cell_type": "code",
   "execution_count": 75,
   "metadata": {},
   "outputs": [],
   "source": [
    "# Initialize\n",
    "df = pd.DataFrame(columns = ['Full_name',\"Year\",'Links'])\n",
    "# create a list from 2000 to 2022 without 2009, 2003 and 2001 and combine that with a list from 80 to 99 without 95, 89, 85 and 81\n",
    "years = [str(i) for i in range(2003,2023) if i not in [2009, 2003, 2001]]\n",
    "# years = years + [str(i) for i in range(80,100) if i not in [95, 89, 85, 81]]\n",
    "pattern = r'<a\\s+href=\"([^\"]+)\"'\n",
    "# years"
   ]
  },
  {
   "cell_type": "code",
   "execution_count": 76,
   "metadata": {},
   "outputs": [
    {
     "name": "stderr",
     "output_type": "stream",
     "text": [
      "100%|██████████| 18/18 [32:15<00:00, 107.51s/it]\n"
     ]
    }
   ],
   "source": [
    "for year in tqdm(years):\n",
    "    URL_name = \"https://dblp.org/db/conf/aaai/aaai\" + str(year) + \".html\"\n",
    "    URL = URL_name\n",
    "    page = requests.get(URL)\n",
    "    soup = BeautifulSoup(page.content, \"html.parser\")\n",
    "\n",
    "    data = []\n",
    "    Full_name = []\n",
    "    Link = []\n",
    "\n",
    "    results1 = soup.find(id=\"main\")\n",
    "    results = soup.find(id=\"main\").find_all(\"ul\", class_=\"publ-list\")\n",
    "    # results1 = results.find(_class=\"publ-list\")\n",
    "    for row in results:\n",
    "        ids = [tag['id'] for tag in row.find_all(id=True)]\n",
    "        for i in ids:\n",
    "            name_ = results1.find(id=str(i))\n",
    "            rows = name_.find_all(\"span\")\n",
    "            for row in rows:\n",
    "                speaker = row.find_all(\"a\")\n",
    "                # only take non empty lists\n",
    "                if speaker:\n",
    "                    Full_name.append(speaker[0].text)\n",
    "                    Link.append(re.findall(pattern, str(speaker[0])))\n",
    "\n",
    "    # create a dataframe\n",
    "    df1 = pd.DataFrame(columns = ['Full name',\"Year\",'Links'])\n",
    "    # append full name to the dataframe\n",
    "    df1['Full name'] = Full_name\n",
    "    # append year to the dataframe\n",
    "    df1['Year'] = year\n",
    "    df1['Links'] = Link\n",
    "    time.sleep(1)\n",
    "\n",
    "    df = df.append(df1, ignore_index=True)"
   ]
  },
  {
   "cell_type": "code",
   "execution_count": 78,
   "metadata": {},
   "outputs": [
    {
     "data": {
      "text/plain": [
       "2021    8382\n",
       "2020    8118\n",
       "2022    7106\n",
       "2019    5413\n",
       "2018    4236\n",
       "2017    2735\n",
       "2016    2472\n",
       "2015    2277\n",
       "2014    1594\n",
       "2006    1076\n",
       "2012    1071\n",
       "2007    1070\n",
       "2008    1028\n",
       "2011     978\n",
       "2005     964\n",
       "2010     918\n",
       "2013     762\n",
       "2004     547\n",
       "Name: Year, dtype: int64"
      ]
     },
     "execution_count": 78,
     "metadata": {},
     "output_type": "execute_result"
    }
   ],
   "source": [
    "df.Year.value_counts()"
   ]
  },
  {
   "cell_type": "code",
   "execution_count": 80,
   "metadata": {},
   "outputs": [],
   "source": [
    "filepath = \"G:/My Drive/Thesis/Data\"\n",
    "df.to_csv(os.path.join(filepath,'Proceedings','AAAI_data.csv'), index=False, encoding='utf-8')"
   ]
  }
 ],
 "metadata": {
  "kernelspec": {
   "display_name": "Python 3",
   "language": "python",
   "name": "python3"
  },
  "language_info": {
   "codemirror_mode": {
    "name": "ipython",
    "version": 3
   },
   "file_extension": ".py",
   "mimetype": "text/x-python",
   "name": "python",
   "nbconvert_exporter": "python",
   "pygments_lexer": "ipython3",
   "version": "3.11.1"
  },
  "orig_nbformat": 4
 },
 "nbformat": 4,
 "nbformat_minor": 2
}
